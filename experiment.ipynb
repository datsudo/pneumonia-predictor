{
 "cells": [
  {
   "cell_type": "code",
   "execution_count": 1,
   "id": "664f954c-3ae3-4863-90bc-ccea8b6d40e3",
   "metadata": {},
   "outputs": [],
   "source": [
    "import time\n",
    "\n",
    "import matplotlib.pyplot as plt\n",
    "import numpy as np\n",
    "import pandas as pd\n",
    "\n",
    "from pneumonia_predictor.backend.data_fetcher import load_data\n",
    "from pneumonia_predictor.backend.rf_active_smote import RfActiveSMOTE\n",
    "from pneumonia_predictor.backend.rf_smote import RfSMOTE\n",
    "from pneumonia_predictor.backend.tester import ModelTester"
   ]
  },
  {
   "cell_type": "code",
   "execution_count": 2,
   "id": "d43a4ffc-5c0c-4ce0-8e7c-a2f54e9a15e2",
   "metadata": {},
   "outputs": [],
   "source": [
    "X_train, y_train, X_test, y_test = (\n",
    "    load_data(\"X_train\"),\n",
    "    load_data(\"y_train\"),\n",
    "    load_data(\"X_test\"),\n",
    "    load_data(\"y_test\"),\n",
    ")"
   ]
  },
  {
   "cell_type": "code",
   "execution_count": 3,
   "id": "31a0ef71-7863-47e7-b6b9-69356415cba7",
   "metadata": {},
   "outputs": [],
   "source": [
    "rf_smote = RfSMOTE(X_train, y_train, X_test, y_test, \"pneumonia_admission\")\n",
    "rf_active_smote = RfActiveSMOTE(X_train, y_train, X_test, y_test, \"pneumonia_admission\")"
   ]
  },
  {
   "cell_type": "code",
   "execution_count": 4,
   "id": "baebe8b2-5b93-4cde-88f9-862e55237a99",
   "metadata": {},
   "outputs": [],
   "source": [
    "tester = ModelTester(rf_smote, rf_active_smote)"
   ]
  },
  {
   "cell_type": "code",
   "execution_count": 5,
   "id": "fe0424d1-29e1-4d72-8858-12d666d81716",
   "metadata": {},
   "outputs": [],
   "source": [
    "tester.run_tests(10)"
   ]
  },
  {
   "cell_type": "code",
   "execution_count": 6,
   "id": "6f616708-b6c1-445d-9f5b-134ecc19adba",
   "metadata": {},
   "outputs": [
    {
     "data": {
      "text/html": [
       "<div>\n",
       "<style scoped>\n",
       "    .dataframe tbody tr th:only-of-type {\n",
       "        vertical-align: middle;\n",
       "    }\n",
       "\n",
       "    .dataframe tbody tr th {\n",
       "        vertical-align: top;\n",
       "    }\n",
       "\n",
       "    .dataframe thead th {\n",
       "        text-align: right;\n",
       "    }\n",
       "</style>\n",
       "<table border=\"1\" class=\"dataframe\">\n",
       "  <thead>\n",
       "    <tr style=\"text-align: right;\">\n",
       "      <th></th>\n",
       "      <th>Test</th>\n",
       "      <th>accuracy</th>\n",
       "      <th>precision</th>\n",
       "      <th>recall</th>\n",
       "      <th>f1-score</th>\n",
       "      <th>Average</th>\n",
       "    </tr>\n",
       "  </thead>\n",
       "  <tbody>\n",
       "    <tr>\n",
       "      <th>0</th>\n",
       "      <td>1</td>\n",
       "      <td>0.528333</td>\n",
       "      <td>0.556222</td>\n",
       "      <td>0.528333</td>\n",
       "      <td>0.539610</td>\n",
       "      <td>0.538125</td>\n",
       "    </tr>\n",
       "    <tr>\n",
       "      <th>1</th>\n",
       "      <td>2</td>\n",
       "      <td>0.513333</td>\n",
       "      <td>0.565920</td>\n",
       "      <td>0.513333</td>\n",
       "      <td>0.529730</td>\n",
       "      <td>0.530579</td>\n",
       "    </tr>\n",
       "    <tr>\n",
       "      <th>2</th>\n",
       "      <td>3</td>\n",
       "      <td>0.506667</td>\n",
       "      <td>0.567772</td>\n",
       "      <td>0.506667</td>\n",
       "      <td>0.523796</td>\n",
       "      <td>0.526225</td>\n",
       "    </tr>\n",
       "    <tr>\n",
       "      <th>3</th>\n",
       "      <td>4</td>\n",
       "      <td>0.496667</td>\n",
       "      <td>0.562678</td>\n",
       "      <td>0.496667</td>\n",
       "      <td>0.514189</td>\n",
       "      <td>0.517550</td>\n",
       "    </tr>\n",
       "    <tr>\n",
       "      <th>4</th>\n",
       "      <td>5</td>\n",
       "      <td>0.500000</td>\n",
       "      <td>0.567222</td>\n",
       "      <td>0.500000</td>\n",
       "      <td>0.517390</td>\n",
       "      <td>0.521153</td>\n",
       "    </tr>\n",
       "    <tr>\n",
       "      <th>5</th>\n",
       "      <td>6</td>\n",
       "      <td>0.501667</td>\n",
       "      <td>0.569503</td>\n",
       "      <td>0.501667</td>\n",
       "      <td>0.518986</td>\n",
       "      <td>0.522956</td>\n",
       "    </tr>\n",
       "    <tr>\n",
       "      <th>6</th>\n",
       "      <td>7</td>\n",
       "      <td>0.490000</td>\n",
       "      <td>0.560840</td>\n",
       "      <td>0.490000</td>\n",
       "      <td>0.507620</td>\n",
       "      <td>0.512115</td>\n",
       "    </tr>\n",
       "    <tr>\n",
       "      <th>7</th>\n",
       "      <td>8</td>\n",
       "      <td>0.490000</td>\n",
       "      <td>0.562057</td>\n",
       "      <td>0.490000</td>\n",
       "      <td>0.507558</td>\n",
       "      <td>0.512404</td>\n",
       "    </tr>\n",
       "    <tr>\n",
       "      <th>8</th>\n",
       "      <td>9</td>\n",
       "      <td>0.490000</td>\n",
       "      <td>0.560840</td>\n",
       "      <td>0.490000</td>\n",
       "      <td>0.507620</td>\n",
       "      <td>0.512115</td>\n",
       "    </tr>\n",
       "    <tr>\n",
       "      <th>9</th>\n",
       "      <td>10</td>\n",
       "      <td>0.491667</td>\n",
       "      <td>0.564355</td>\n",
       "      <td>0.491667</td>\n",
       "      <td>0.509133</td>\n",
       "      <td>0.514205</td>\n",
       "    </tr>\n",
       "  </tbody>\n",
       "</table>\n",
       "</div>"
      ],
      "text/plain": [
       "   Test  accuracy  precision    recall  f1-score   Average\n",
       "0     1  0.528333   0.556222  0.528333  0.539610  0.538125\n",
       "1     2  0.513333   0.565920  0.513333  0.529730  0.530579\n",
       "2     3  0.506667   0.567772  0.506667  0.523796  0.526225\n",
       "3     4  0.496667   0.562678  0.496667  0.514189  0.517550\n",
       "4     5  0.500000   0.567222  0.500000  0.517390  0.521153\n",
       "5     6  0.501667   0.569503  0.501667  0.518986  0.522956\n",
       "6     7  0.490000   0.560840  0.490000  0.507620  0.512115\n",
       "7     8  0.490000   0.562057  0.490000  0.507558  0.512404\n",
       "8     9  0.490000   0.560840  0.490000  0.507620  0.512115\n",
       "9    10  0.491667   0.564355  0.491667  0.509133  0.514205"
      ]
     },
     "execution_count": 6,
     "metadata": {},
     "output_type": "execute_result"
    }
   ],
   "source": [
    "tester.model_a_res"
   ]
  },
  {
   "cell_type": "code",
   "execution_count": 7,
   "id": "bc2e2cfc-9002-446a-9f4e-4560d57d4563",
   "metadata": {},
   "outputs": [
    {
     "data": {
      "text/html": [
       "<div>\n",
       "<style scoped>\n",
       "    .dataframe tbody tr th:only-of-type {\n",
       "        vertical-align: middle;\n",
       "    }\n",
       "\n",
       "    .dataframe tbody tr th {\n",
       "        vertical-align: top;\n",
       "    }\n",
       "\n",
       "    .dataframe thead th {\n",
       "        text-align: right;\n",
       "    }\n",
       "</style>\n",
       "<table border=\"1\" class=\"dataframe\">\n",
       "  <thead>\n",
       "    <tr style=\"text-align: right;\">\n",
       "      <th></th>\n",
       "      <th>Test</th>\n",
       "      <th>accuracy</th>\n",
       "      <th>precision</th>\n",
       "      <th>recall</th>\n",
       "      <th>f1-score</th>\n",
       "      <th>Average</th>\n",
       "    </tr>\n",
       "  </thead>\n",
       "  <tbody>\n",
       "    <tr>\n",
       "      <th>0</th>\n",
       "      <td>1</td>\n",
       "      <td>0.552333</td>\n",
       "      <td>0.568079</td>\n",
       "      <td>0.552333</td>\n",
       "      <td>0.557913</td>\n",
       "      <td>0.557665</td>\n",
       "    </tr>\n",
       "    <tr>\n",
       "      <th>1</th>\n",
       "      <td>2</td>\n",
       "      <td>0.527667</td>\n",
       "      <td>0.573547</td>\n",
       "      <td>0.527667</td>\n",
       "      <td>0.542816</td>\n",
       "      <td>0.542924</td>\n",
       "    </tr>\n",
       "    <tr>\n",
       "      <th>2</th>\n",
       "      <td>3</td>\n",
       "      <td>0.514000</td>\n",
       "      <td>0.573560</td>\n",
       "      <td>0.514000</td>\n",
       "      <td>0.530804</td>\n",
       "      <td>0.533091</td>\n",
       "    </tr>\n",
       "    <tr>\n",
       "      <th>3</th>\n",
       "      <td>4</td>\n",
       "      <td>0.496667</td>\n",
       "      <td>0.567283</td>\n",
       "      <td>0.496667</td>\n",
       "      <td>0.514030</td>\n",
       "      <td>0.518662</td>\n",
       "    </tr>\n",
       "    <tr>\n",
       "      <th>4</th>\n",
       "      <td>5</td>\n",
       "      <td>0.488000</td>\n",
       "      <td>0.562724</td>\n",
       "      <td>0.488000</td>\n",
       "      <td>0.505446</td>\n",
       "      <td>0.511043</td>\n",
       "    </tr>\n",
       "    <tr>\n",
       "      <th>5</th>\n",
       "      <td>6</td>\n",
       "      <td>0.481667</td>\n",
       "      <td>0.561796</td>\n",
       "      <td>0.481667</td>\n",
       "      <td>0.498798</td>\n",
       "      <td>0.505982</td>\n",
       "    </tr>\n",
       "    <tr>\n",
       "      <th>6</th>\n",
       "      <td>7</td>\n",
       "      <td>0.484667</td>\n",
       "      <td>0.565021</td>\n",
       "      <td>0.484667</td>\n",
       "      <td>0.501688</td>\n",
       "      <td>0.509010</td>\n",
       "    </tr>\n",
       "    <tr>\n",
       "      <th>7</th>\n",
       "      <td>8</td>\n",
       "      <td>0.477667</td>\n",
       "      <td>0.561126</td>\n",
       "      <td>0.477667</td>\n",
       "      <td>0.494471</td>\n",
       "      <td>0.502733</td>\n",
       "    </tr>\n",
       "    <tr>\n",
       "      <th>8</th>\n",
       "      <td>9</td>\n",
       "      <td>0.473333</td>\n",
       "      <td>0.558743</td>\n",
       "      <td>0.473333</td>\n",
       "      <td>0.489968</td>\n",
       "      <td>0.498844</td>\n",
       "    </tr>\n",
       "    <tr>\n",
       "      <th>9</th>\n",
       "      <td>10</td>\n",
       "      <td>0.466333</td>\n",
       "      <td>0.554242</td>\n",
       "      <td>0.466333</td>\n",
       "      <td>0.482710</td>\n",
       "      <td>0.492404</td>\n",
       "    </tr>\n",
       "  </tbody>\n",
       "</table>\n",
       "</div>"
      ],
      "text/plain": [
       "   Test  accuracy  precision    recall  f1-score   Average\n",
       "0     1  0.552333   0.568079  0.552333  0.557913  0.557665\n",
       "1     2  0.527667   0.573547  0.527667  0.542816  0.542924\n",
       "2     3  0.514000   0.573560  0.514000  0.530804  0.533091\n",
       "3     4  0.496667   0.567283  0.496667  0.514030  0.518662\n",
       "4     5  0.488000   0.562724  0.488000  0.505446  0.511043\n",
       "5     6  0.481667   0.561796  0.481667  0.498798  0.505982\n",
       "6     7  0.484667   0.565021  0.484667  0.501688  0.509010\n",
       "7     8  0.477667   0.561126  0.477667  0.494471  0.502733\n",
       "8     9  0.473333   0.558743  0.473333  0.489968  0.498844\n",
       "9    10  0.466333   0.554242  0.466333  0.482710  0.492404"
      ]
     },
     "execution_count": 7,
     "metadata": {},
     "output_type": "execute_result"
    }
   ],
   "source": [
    "tester.model_b_res"
   ]
  },
  {
   "cell_type": "code",
   "execution_count": 8,
   "id": "8c9f4ffa-2010-44c9-95bc-51f80d2ddb59",
   "metadata": {},
   "outputs": [
    {
     "data": {
      "text/html": [
       "<div>\n",
       "<style scoped>\n",
       "    .dataframe tbody tr th:only-of-type {\n",
       "        vertical-align: middle;\n",
       "    }\n",
       "\n",
       "    .dataframe tbody tr th {\n",
       "        vertical-align: top;\n",
       "    }\n",
       "\n",
       "    .dataframe thead th {\n",
       "        text-align: right;\n",
       "    }\n",
       "</style>\n",
       "<table border=\"1\" class=\"dataframe\">\n",
       "  <thead>\n",
       "    <tr style=\"text-align: right;\">\n",
       "      <th></th>\n",
       "      <th>Metrics</th>\n",
       "      <th>t-value</th>\n",
       "      <th>p-value</th>\n",
       "    </tr>\n",
       "  </thead>\n",
       "  <tbody>\n",
       "    <tr>\n",
       "      <th>0</th>\n",
       "      <td>accuracy</td>\n",
       "      <td>0.916396</td>\n",
       "      <td>0.383358</td>\n",
       "    </tr>\n",
       "    <tr>\n",
       "      <th>1</th>\n",
       "      <td>precision</td>\n",
       "      <td>-0.389368</td>\n",
       "      <td>0.706057</td>\n",
       "    </tr>\n",
       "    <tr>\n",
       "      <th>2</th>\n",
       "      <td>recall</td>\n",
       "      <td>0.916396</td>\n",
       "      <td>0.383358</td>\n",
       "    </tr>\n",
       "    <tr>\n",
       "      <th>3</th>\n",
       "      <td>f1-score</td>\n",
       "      <td>1.209827</td>\n",
       "      <td>0.257163</td>\n",
       "    </tr>\n",
       "  </tbody>\n",
       "</table>\n",
       "</div>"
      ],
      "text/plain": [
       "     Metrics   t-value   p-value\n",
       "0   accuracy  0.916396  0.383358\n",
       "1  precision -0.389368  0.706057\n",
       "2     recall  0.916396  0.383358\n",
       "3   f1-score  1.209827  0.257163"
      ]
     },
     "execution_count": 8,
     "metadata": {},
     "output_type": "execute_result"
    }
   ],
   "source": [
    "tester.compare_res"
   ]
  },
  {
   "cell_type": "markdown",
   "id": "806b29cc-9c10-42a6-bcef-008a3239858d",
   "metadata": {},
   "source": [
    "## Feature importance (mean decrease in impurity - MDI)"
   ]
  },
  {
   "cell_type": "code",
   "execution_count": 9,
   "id": "362059ee-da1d-41b4-ab69-7cce6c7cad51",
   "metadata": {},
   "outputs": [],
   "source": [
    "feature_names = [\n",
    "    \"age\",\n",
    "    \"sex\",\n",
    "    \"chronic_respiratory_disease\",\n",
    "    \"diabetes_mellitus\",\n",
    "    \"heart_failure\",\n",
    "    \"cancer\",\n",
    "    \"chronic_kidney_disease\",\n",
    "]"
   ]
  },
  {
   "cell_type": "markdown",
   "id": "8719a63a-2ba5-4d79-9944-30d111daafc3",
   "metadata": {},
   "source": [
    "### RfSMOTE"
   ]
  },
  {
   "cell_type": "code",
   "execution_count": 10,
   "id": "807017a2-7537-4649-af2a-88e26c87b730",
   "metadata": {},
   "outputs": [
    {
     "name": "stdout",
     "output_type": "stream",
     "text": [
      "Elapsed time to compute the importances: 0.023 seconds\n"
     ]
    }
   ],
   "source": [
    "start_time = time.time()\n",
    "importances = rf_smote.classifier.feature_importances_\n",
    "rf_smote_std = np.std(\n",
    "    [tree.feature_importances_ for tree in rf_smote.classifier.estimators_], axis=0\n",
    ")\n",
    "elapsed_time = time.time() - start_time\n",
    "\n",
    "print(f\"Elapsed time to compute the importances: {elapsed_time:.3f} seconds\")"
   ]
  },
  {
   "cell_type": "code",
   "execution_count": 11,
   "id": "ca5d106c-6041-45f3-9bde-0d09cd9d9444",
   "metadata": {},
   "outputs": [
    {
     "data": {
      "image/png": "[encoded data removed]",
      "text/plain": [
       "<Figure size 640x480 with 1 Axes>"
      ]
     },
     "metadata": {},
     "output_type": "display_data"
    }
   ],
   "source": [
    "rf_smote_importances = pd.Series(importances, index=feature_names)\n",
    "\n",
    "fig, ax = plt.subplots()\n",
    "rf_smote_importances.plot.bar(yerr=rf_smote_std, ax=ax)\n",
    "ax.set_title(\"RfSMOTE feature importances using MDI\")\n",
    "ax.set_ylabel(\"Mean decrease in impurity\")\n",
    "fig.tight_layout()"
   ]
  },
  {
   "cell_type": "markdown",
   "id": "2e13b21f-0b19-4621-b655-4b2afb0cf6be",
   "metadata": {},
   "source": [
    "### RfActiveSMOTE"
   ]
  },
  {
   "cell_type": "code",
   "execution_count": 12,
   "id": "9abb0389-46af-4845-8550-300db04ab7c1",
   "metadata": {},
   "outputs": [
    {
     "name": "stdout",
     "output_type": "stream",
     "text": [
      "Elapsed time to compute the importances: 0.024 seconds\n"
     ]
    }
   ],
   "source": [
    "start_time = time.time()\n",
    "importances = rf_active_smote.classifier.feature_importances_\n",
    "rf_active_smote_std = np.std(\n",
    "    [tree.feature_importances_ for tree in rf_active_smote.classifier.estimators_],\n",
    "    axis=0,\n",
    ")\n",
    "elapsed_time = time.time() - start_time\n",
    "\n",
    "print(f\"Elapsed time to compute the importances: {elapsed_time:.3f} seconds\")"
   ]
  },
  {
   "cell_type": "code",
   "execution_count": 13,
   "id": "df8f24a5-35ca-45e2-b746-f7aebab083ad",
   "metadata": {},
   "outputs": [
    {
     "data": {
      "image/png": "[encoded data removed]",
      "text/plain": [
       "<Figure size 640x480 with 1 Axes>"
      ]
     },
     "metadata": {},
     "output_type": "display_data"
    }
   ],
   "source": [
    "rf_active_smote_importances = pd.Series(importances, index=feature_names)\n",
    "\n",
    "fig, ax = plt.subplots()\n",
    "rf_active_smote_importances.plot.bar(yerr=rf_active_smote_std, ax=ax)\n",
    "ax.set_title(\"RfActiveSMOTE feature importances using MDI\")\n",
    "ax.set_ylabel(\"Mean decrease in impurity\")\n",
    "fig.tight_layout()"
   ]
  }
 ],
 "metadata": {
  "kernelspec": {
   "display_name": "Python 3 (ipykernel)",
   "language": "python",
   "name": "python3"
  },
  "language_info": {
   "codemirror_mode": {
    "name": "ipython",
    "version": 3
   },
   "file_extension": ".py",
   "mimetype": "text/x-python",
   "name": "python",
   "nbconvert_exporter": "python",
   "pygments_lexer": "ipython3",
   "version": "3.12.7"
  }
 },
 "nbformat": 4,
 "nbformat_minor": 5
}
