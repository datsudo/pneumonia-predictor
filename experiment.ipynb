{
 "cells": [
  {
   "cell_type": "code",
   "id": "664f954c-3ae3-4863-90bc-ccea8b6d40e3",
   "metadata": {
    "ExecuteTime": {
     "end_time": "2024-12-05T14:20:35.098413Z",
     "start_time": "2024-12-05T14:20:31.716589Z"
    }
   },
   "source": [
    "import time\n",
    "\n",
    "import matplotlib.pyplot as plt\n",
    "import numpy as np\n",
    "import pandas as pd\n",
    "\n",
    "from pneumonia_predictor.backend.data_fetcher import load_data\n",
    "from pneumonia_predictor.backend.rf_active_smote import RfActiveSMOTE\n",
    "from pneumonia_predictor.backend.rf_smote import RfSMOTE\n",
    "from pneumonia_predictor.backend.tester import ModelTester"
   ],
   "outputs": [],
   "execution_count": 1
  },
  {
   "cell_type": "code",
   "id": "d43a4ffc-5c0c-4ce0-8e7c-a2f54e9a15e2",
   "metadata": {
    "ExecuteTime": {
     "end_time": "2024-12-05T14:20:38.333581Z",
     "start_time": "2024-12-05T14:20:38.291571Z"
    }
   },
   "source": [
    "X_train, y_train, X_test, y_test = (\n",
    "    load_data(\"pseudoset/X_train\"),\n",
    "    load_data(\"pseudoset/y_train\"),\n",
    "    load_data(\"pseudoset/X_test\"),\n",
    "    load_data(\"pseudoset/y_test\"),\n",
    ")"
   ],
   "outputs": [],
   "execution_count": 2
  },
  {
   "cell_type": "code",
   "id": "31a0ef71-7863-47e7-b6b9-69356415cba7",
   "metadata": {
    "ExecuteTime": {
     "end_time": "2024-12-05T14:20:40.326951Z",
     "start_time": "2024-12-05T14:20:40.288531Z"
    }
   },
   "source": [
    "rf_smote = RfSMOTE(X_train, y_train, X_test, y_test, \"pneumonia\")\n",
    "rf_active_smote = RfActiveSMOTE(X_train, y_train, X_test, y_test, \"pneumonia\")"
   ],
   "outputs": [],
   "execution_count": 3
  },
  {
   "cell_type": "code",
   "id": "baebe8b2-5b93-4cde-88f9-862e55237a99",
   "metadata": {
    "ExecuteTime": {
     "end_time": "2024-12-05T14:20:42.946320Z",
     "start_time": "2024-12-05T14:20:42.940513Z"
    }
   },
   "source": [
    "tester = ModelTester(rf_smote, rf_active_smote)"
   ],
   "outputs": [],
   "execution_count": 4
  },
  {
   "cell_type": "code",
   "id": "fe0424d1-29e1-4d72-8858-12d666d81716",
   "metadata": {
    "ExecuteTime": {
     "end_time": "2024-12-05T14:21:26.962299Z",
     "start_time": "2024-12-05T14:20:45.751446Z"
    }
   },
   "source": [
    "tester.run_tests(10)"
   ],
   "outputs": [],
   "execution_count": 5
  },
  {
   "cell_type": "code",
   "id": "6f616708-b6c1-445d-9f5b-134ecc19adba",
   "metadata": {
    "ExecuteTime": {
     "end_time": "2024-12-05T14:21:31.177961Z",
     "start_time": "2024-12-05T14:21:31.131223Z"
    }
   },
   "source": [
    "tester.model_a_res"
   ],
   "outputs": [
    {
     "data": {
      "text/plain": [
       "   Test  accuracy  precision    recall  f1-score   Average\n",
       "0     1  0.494872   0.498723  0.494872  0.495360  0.495957\n",
       "1     2  0.497436   0.500746  0.497436  0.498031  0.498412\n",
       "2     3  0.492308   0.495247  0.492308  0.492949  0.493203\n",
       "3     4  0.512821   0.517331  0.512821  0.513128  0.514025\n",
       "4     5  0.510256   0.516560  0.510256  0.509725  0.511700\n",
       "5     6  0.502564   0.504035  0.502564  0.503089  0.503063\n",
       "6     7  0.520513   0.525696  0.520513  0.520598  0.521830\n",
       "7     8  0.487179   0.491878  0.487179  0.487355  0.488398\n",
       "8     9  0.451282   0.457422  0.451282  0.449549  0.452384\n",
       "9    10  0.466667   0.470569  0.466667  0.467130  0.467758"
      ],
      "text/html": [
       "<div>\n",
       "<style scoped>\n",
       "    .dataframe tbody tr th:only-of-type {\n",
       "        vertical-align: middle;\n",
       "    }\n",
       "\n",
       "    .dataframe tbody tr th {\n",
       "        vertical-align: top;\n",
       "    }\n",
       "\n",
       "    .dataframe thead th {\n",
       "        text-align: right;\n",
       "    }\n",
       "</style>\n",
       "<table border=\"1\" class=\"dataframe\">\n",
       "  <thead>\n",
       "    <tr style=\"text-align: right;\">\n",
       "      <th></th>\n",
       "      <th>Test</th>\n",
       "      <th>accuracy</th>\n",
       "      <th>precision</th>\n",
       "      <th>recall</th>\n",
       "      <th>f1-score</th>\n",
       "      <th>Average</th>\n",
       "    </tr>\n",
       "  </thead>\n",
       "  <tbody>\n",
       "    <tr>\n",
       "      <th>0</th>\n",
       "      <td>1</td>\n",
       "      <td>0.494872</td>\n",
       "      <td>0.498723</td>\n",
       "      <td>0.494872</td>\n",
       "      <td>0.495360</td>\n",
       "      <td>0.495957</td>\n",
       "    </tr>\n",
       "    <tr>\n",
       "      <th>1</th>\n",
       "      <td>2</td>\n",
       "      <td>0.497436</td>\n",
       "      <td>0.500746</td>\n",
       "      <td>0.497436</td>\n",
       "      <td>0.498031</td>\n",
       "      <td>0.498412</td>\n",
       "    </tr>\n",
       "    <tr>\n",
       "      <th>2</th>\n",
       "      <td>3</td>\n",
       "      <td>0.492308</td>\n",
       "      <td>0.495247</td>\n",
       "      <td>0.492308</td>\n",
       "      <td>0.492949</td>\n",
       "      <td>0.493203</td>\n",
       "    </tr>\n",
       "    <tr>\n",
       "      <th>3</th>\n",
       "      <td>4</td>\n",
       "      <td>0.512821</td>\n",
       "      <td>0.517331</td>\n",
       "      <td>0.512821</td>\n",
       "      <td>0.513128</td>\n",
       "      <td>0.514025</td>\n",
       "    </tr>\n",
       "    <tr>\n",
       "      <th>4</th>\n",
       "      <td>5</td>\n",
       "      <td>0.510256</td>\n",
       "      <td>0.516560</td>\n",
       "      <td>0.510256</td>\n",
       "      <td>0.509725</td>\n",
       "      <td>0.511700</td>\n",
       "    </tr>\n",
       "    <tr>\n",
       "      <th>5</th>\n",
       "      <td>6</td>\n",
       "      <td>0.502564</td>\n",
       "      <td>0.504035</td>\n",
       "      <td>0.502564</td>\n",
       "      <td>0.503089</td>\n",
       "      <td>0.503063</td>\n",
       "    </tr>\n",
       "    <tr>\n",
       "      <th>6</th>\n",
       "      <td>7</td>\n",
       "      <td>0.520513</td>\n",
       "      <td>0.525696</td>\n",
       "      <td>0.520513</td>\n",
       "      <td>0.520598</td>\n",
       "      <td>0.521830</td>\n",
       "    </tr>\n",
       "    <tr>\n",
       "      <th>7</th>\n",
       "      <td>8</td>\n",
       "      <td>0.487179</td>\n",
       "      <td>0.491878</td>\n",
       "      <td>0.487179</td>\n",
       "      <td>0.487355</td>\n",
       "      <td>0.488398</td>\n",
       "    </tr>\n",
       "    <tr>\n",
       "      <th>8</th>\n",
       "      <td>9</td>\n",
       "      <td>0.451282</td>\n",
       "      <td>0.457422</td>\n",
       "      <td>0.451282</td>\n",
       "      <td>0.449549</td>\n",
       "      <td>0.452384</td>\n",
       "    </tr>\n",
       "    <tr>\n",
       "      <th>9</th>\n",
       "      <td>10</td>\n",
       "      <td>0.466667</td>\n",
       "      <td>0.470569</td>\n",
       "      <td>0.466667</td>\n",
       "      <td>0.467130</td>\n",
       "      <td>0.467758</td>\n",
       "    </tr>\n",
       "  </tbody>\n",
       "</table>\n",
       "</div>"
      ]
     },
     "execution_count": 6,
     "metadata": {},
     "output_type": "execute_result"
    }
   ],
   "execution_count": 6
  },
  {
   "cell_type": "code",
   "id": "bc2e2cfc-9002-446a-9f4e-4560d57d4563",
   "metadata": {
    "ExecuteTime": {
     "end_time": "2024-12-05T14:21:46.376400Z",
     "start_time": "2024-12-05T14:21:46.344302Z"
    }
   },
   "source": [
    "tester.model_b_res"
   ],
   "outputs": [
    {
     "data": {
      "text/plain": [
       "   Test  accuracy  precision    recall  f1-score   Average\n",
       "0     1  0.497949   0.496521  0.496495  0.496256  0.496805\n",
       "1     2  0.502051   0.502384  0.502395  0.501466  0.502074\n",
       "2     3  0.496923   0.496368  0.496352  0.495886  0.496382\n",
       "3     4  0.489231   0.490393  0.490359  0.488988  0.489743\n",
       "4     5  0.502051   0.501941  0.501951  0.501339  0.501821\n",
       "5     6  0.512308   0.514568  0.514555  0.512224  0.513414\n",
       "6     7  0.489744   0.491898  0.491948  0.489467  0.490764\n",
       "7     8  0.502051   0.506313  0.506244  0.501748  0.504089\n",
       "8     9  0.505128   0.508813  0.508745  0.504901  0.506897\n",
       "9    10  0.494359   0.498716  0.498771  0.493924  0.496443"
      ],
      "text/html": [
       "<div>\n",
       "<style scoped>\n",
       "    .dataframe tbody tr th:only-of-type {\n",
       "        vertical-align: middle;\n",
       "    }\n",
       "\n",
       "    .dataframe tbody tr th {\n",
       "        vertical-align: top;\n",
       "    }\n",
       "\n",
       "    .dataframe thead th {\n",
       "        text-align: right;\n",
       "    }\n",
       "</style>\n",
       "<table border=\"1\" class=\"dataframe\">\n",
       "  <thead>\n",
       "    <tr style=\"text-align: right;\">\n",
       "      <th></th>\n",
       "      <th>Test</th>\n",
       "      <th>accuracy</th>\n",
       "      <th>precision</th>\n",
       "      <th>recall</th>\n",
       "      <th>f1-score</th>\n",
       "      <th>Average</th>\n",
       "    </tr>\n",
       "  </thead>\n",
       "  <tbody>\n",
       "    <tr>\n",
       "      <th>0</th>\n",
       "      <td>1</td>\n",
       "      <td>0.497949</td>\n",
       "      <td>0.496521</td>\n",
       "      <td>0.496495</td>\n",
       "      <td>0.496256</td>\n",
       "      <td>0.496805</td>\n",
       "    </tr>\n",
       "    <tr>\n",
       "      <th>1</th>\n",
       "      <td>2</td>\n",
       "      <td>0.502051</td>\n",
       "      <td>0.502384</td>\n",
       "      <td>0.502395</td>\n",
       "      <td>0.501466</td>\n",
       "      <td>0.502074</td>\n",
       "    </tr>\n",
       "    <tr>\n",
       "      <th>2</th>\n",
       "      <td>3</td>\n",
       "      <td>0.496923</td>\n",
       "      <td>0.496368</td>\n",
       "      <td>0.496352</td>\n",
       "      <td>0.495886</td>\n",
       "      <td>0.496382</td>\n",
       "    </tr>\n",
       "    <tr>\n",
       "      <th>3</th>\n",
       "      <td>4</td>\n",
       "      <td>0.489231</td>\n",
       "      <td>0.490393</td>\n",
       "      <td>0.490359</td>\n",
       "      <td>0.488988</td>\n",
       "      <td>0.489743</td>\n",
       "    </tr>\n",
       "    <tr>\n",
       "      <th>4</th>\n",
       "      <td>5</td>\n",
       "      <td>0.502051</td>\n",
       "      <td>0.501941</td>\n",
       "      <td>0.501951</td>\n",
       "      <td>0.501339</td>\n",
       "      <td>0.501821</td>\n",
       "    </tr>\n",
       "    <tr>\n",
       "      <th>5</th>\n",
       "      <td>6</td>\n",
       "      <td>0.512308</td>\n",
       "      <td>0.514568</td>\n",
       "      <td>0.514555</td>\n",
       "      <td>0.512224</td>\n",
       "      <td>0.513414</td>\n",
       "    </tr>\n",
       "    <tr>\n",
       "      <th>6</th>\n",
       "      <td>7</td>\n",
       "      <td>0.489744</td>\n",
       "      <td>0.491898</td>\n",
       "      <td>0.491948</td>\n",
       "      <td>0.489467</td>\n",
       "      <td>0.490764</td>\n",
       "    </tr>\n",
       "    <tr>\n",
       "      <th>7</th>\n",
       "      <td>8</td>\n",
       "      <td>0.502051</td>\n",
       "      <td>0.506313</td>\n",
       "      <td>0.506244</td>\n",
       "      <td>0.501748</td>\n",
       "      <td>0.504089</td>\n",
       "    </tr>\n",
       "    <tr>\n",
       "      <th>8</th>\n",
       "      <td>9</td>\n",
       "      <td>0.505128</td>\n",
       "      <td>0.508813</td>\n",
       "      <td>0.508745</td>\n",
       "      <td>0.504901</td>\n",
       "      <td>0.506897</td>\n",
       "    </tr>\n",
       "    <tr>\n",
       "      <th>9</th>\n",
       "      <td>10</td>\n",
       "      <td>0.494359</td>\n",
       "      <td>0.498716</td>\n",
       "      <td>0.498771</td>\n",
       "      <td>0.493924</td>\n",
       "      <td>0.496443</td>\n",
       "    </tr>\n",
       "  </tbody>\n",
       "</table>\n",
       "</div>"
      ]
     },
     "execution_count": 7,
     "metadata": {},
     "output_type": "execute_result"
    }
   ],
   "execution_count": 7
  },
  {
   "cell_type": "code",
   "id": "8c9f4ffa-2010-44c9-95bc-51f80d2ddb59",
   "metadata": {
    "ExecuteTime": {
     "end_time": "2024-12-05T14:21:50.922145Z",
     "start_time": "2024-12-05T14:21:50.905666Z"
    }
   },
   "source": [
    "tester.compare_res"
   ],
   "outputs": [
    {
     "data": {
      "text/plain": [
       "     Metrics   t-value   p-value\n",
       "0   accuracy -0.728922  0.484585\n",
       "1  precision -0.371511  0.718852\n",
       "2     recall -0.899296  0.391920\n",
       "3   f1-score -0.632021  0.543092"
      ],
      "text/html": [
       "<div>\n",
       "<style scoped>\n",
       "    .dataframe tbody tr th:only-of-type {\n",
       "        vertical-align: middle;\n",
       "    }\n",
       "\n",
       "    .dataframe tbody tr th {\n",
       "        vertical-align: top;\n",
       "    }\n",
       "\n",
       "    .dataframe thead th {\n",
       "        text-align: right;\n",
       "    }\n",
       "</style>\n",
       "<table border=\"1\" class=\"dataframe\">\n",
       "  <thead>\n",
       "    <tr style=\"text-align: right;\">\n",
       "      <th></th>\n",
       "      <th>Metrics</th>\n",
       "      <th>t-value</th>\n",
       "      <th>p-value</th>\n",
       "    </tr>\n",
       "  </thead>\n",
       "  <tbody>\n",
       "    <tr>\n",
       "      <th>0</th>\n",
       "      <td>accuracy</td>\n",
       "      <td>-0.728922</td>\n",
       "      <td>0.484585</td>\n",
       "    </tr>\n",
       "    <tr>\n",
       "      <th>1</th>\n",
       "      <td>precision</td>\n",
       "      <td>-0.371511</td>\n",
       "      <td>0.718852</td>\n",
       "    </tr>\n",
       "    <tr>\n",
       "      <th>2</th>\n",
       "      <td>recall</td>\n",
       "      <td>-0.899296</td>\n",
       "      <td>0.391920</td>\n",
       "    </tr>\n",
       "    <tr>\n",
       "      <th>3</th>\n",
       "      <td>f1-score</td>\n",
       "      <td>-0.632021</td>\n",
       "      <td>0.543092</td>\n",
       "    </tr>\n",
       "  </tbody>\n",
       "</table>\n",
       "</div>"
      ]
     },
     "execution_count": 8,
     "metadata": {},
     "output_type": "execute_result"
    }
   ],
   "execution_count": 8
  },
  {
   "cell_type": "markdown",
   "id": "806b29cc-9c10-42a6-bcef-008a3239858d",
   "metadata": {},
   "source": [
    "## Feature importance (mean decrease in impurity - MDI)"
   ]
  },
  {
   "cell_type": "code",
   "id": "362059ee-da1d-41b4-ab69-7cce6c7cad51",
   "metadata": {
    "ExecuteTime": {
     "end_time": "2024-12-05T14:22:39.946700Z",
     "start_time": "2024-12-05T14:22:39.932492Z"
    }
   },
   "source": [
    "feature_names = [\n",
    "    \"age\",\n",
    "    \"sex\",\n",
    "    \"fatigue\",\n",
    "    \"cough_phlegm\",\n",
    "    \"chronic_resp_disease\",\n",
    "    \"chronic_kidney_disease\",\n",
    "    \"diabetes_mellitus\",\n",
    "    \"heart_failure\",\n",
    "    \"cancer\",\n",
    "    \"systoic_bp\",\n",
    "    \"dias_bp\",\n",
    "    \"pulse_rate\",\n",
    "    \"resp_rate\",\n",
    "    \"temp\",\n",
    "    \"hemoglobin\",\n",
    "    \"hematocrit\",\n",
    "    \"rbc\",\n",
    "    \"wbc\",\n",
    "    \"platelets\",\n",
    "]"
   ],
   "outputs": [],
   "execution_count": 11
  },
  {
   "cell_type": "markdown",
   "id": "8719a63a-2ba5-4d79-9944-30d111daafc3",
   "metadata": {},
   "source": [
    "### RfSMOTE"
   ]
  },
  {
   "cell_type": "code",
   "id": "807017a2-7537-4649-af2a-88e26c87b730",
   "metadata": {
    "ExecuteTime": {
     "end_time": "2024-12-05T14:22:42.609753Z",
     "start_time": "2024-12-05T14:22:42.570517Z"
    }
   },
   "source": [
    "start_time = time.time()\n",
    "importances = rf_smote.classifier.feature_importances_\n",
    "rf_smote_std = np.std(\n",
    "    [tree.feature_importances_ for tree in rf_smote.classifier.estimators_], axis=0\n",
    ")\n",
    "elapsed_time = time.time() - start_time\n",
    "\n",
    "print(f\"Elapsed time to compute the importances: {elapsed_time:.3f} seconds\")"
   ],
   "outputs": [
    {
     "name": "stdout",
     "output_type": "stream",
     "text": [
      "Elapsed time to compute the importances: 0.032 seconds\n"
     ]
    }
   ],
   "execution_count": 12
  },
  {
   "cell_type": "code",
   "id": "ca5d106c-6041-45f3-9bde-0d09cd9d9444",
   "metadata": {
    "ExecuteTime": {
     "end_time": "2024-12-05T14:22:46.048408Z",
     "start_time": "2024-12-05T14:22:45.126717Z"
    }
   },
   "source": [
    "rf_smote_importances = pd.Series(importances, index=feature_names)\n",
    "\n",
    "fig, ax = plt.subplots()\n",
    "rf_smote_importances.plot.bar(yerr=rf_smote_std, ax=ax)\n",
    "ax.set_title(\"RfSMOTE feature importances using MDI\")\n",
    "ax.set_ylabel(\"Mean decrease in impurity\")\n",
    "fig.tight_layout()"
   ],
   "outputs": [
    {
     "data": {
      "text/plain": [
       "<Figure size 640x480 with 1 Axes>"
      ],
      "image/png": "[encoded data removed]"
     },
     "metadata": {},
     "output_type": "display_data"
    }
   ],
   "execution_count": 13
  },
  {
   "cell_type": "markdown",
   "id": "2e13b21f-0b19-4621-b655-4b2afb0cf6be",
   "metadata": {},
   "source": [
    "### RfActiveSMOTE"
   ]
  },
  {
   "cell_type": "code",
   "id": "9abb0389-46af-4845-8550-300db04ab7c1",
   "metadata": {
    "ExecuteTime": {
     "end_time": "2024-12-05T14:22:57.523860Z",
     "start_time": "2024-12-05T14:22:57.492042Z"
    }
   },
   "source": [
    "start_time = time.time()\n",
    "importances = rf_active_smote.classifier.feature_importances_\n",
    "rf_active_smote_std = np.std(\n",
    "    [tree.feature_importances_ for tree in rf_active_smote.classifier.estimators_],\n",
    "    axis=0,\n",
    ")\n",
    "elapsed_time = time.time() - start_time\n",
    "\n",
    "print(f\"Elapsed time to compute the importances: {elapsed_time:.3f} seconds\")"
   ],
   "outputs": [
    {
     "name": "stdout",
     "output_type": "stream",
     "text": [
      "Elapsed time to compute the importances: 0.026 seconds\n"
     ]
    }
   ],
   "execution_count": 14
  },
  {
   "cell_type": "code",
   "id": "df8f24a5-35ca-45e2-b746-f7aebab083ad",
   "metadata": {
    "ExecuteTime": {
     "end_time": "2024-12-05T14:23:00.867110Z",
     "start_time": "2024-12-05T14:23:00.221275Z"
    }
   },
   "source": [
    "rf_active_smote_importances = pd.Series(importances, index=feature_names)\n",
    "\n",
    "fig, ax = plt.subplots()\n",
    "rf_active_smote_importances.plot.bar(yerr=rf_active_smote_std, ax=ax)\n",
    "ax.set_title(\"RfActiveSMOTE feature importances using MDI\")\n",
    "ax.set_ylabel(\"Mean decrease in impurity\")\n",
    "fig.tight_layout()"
   ],
   "outputs": [
    {
     "data": {
      "text/plain": [
       "<Figure size 640x480 with 1 Axes>"
      ],
      "image/png": "[encoded data removed]"
     },
     "metadata": {},
     "output_type": "display_data"
    }
   ],
   "execution_count": 15
  }
 ],
 "metadata": {
  "kernelspec": {
   "display_name": "Python 3 (ipykernel)",
   "language": "python",
   "name": "python3"
  },
  "language_info": {
   "codemirror_mode": {
    "name": "ipython",
    "version": 3
   },
   "file_extension": ".py",
   "mimetype": "text/x-python",
   "name": "python",
   "nbconvert_exporter": "python",
   "pygments_lexer": "ipython3",
   "version": "3.12.7"
  }
 },
 "nbformat": 4,
 "nbformat_minor": 5
}
