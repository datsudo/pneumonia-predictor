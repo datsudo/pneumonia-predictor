{
 "cells": [
  {
   "cell_type": "code",
   "execution_count": 1,
   "id": "078fd470-080a-4eb3-a205-f3628602615c",
   "metadata": {},
   "outputs": [],
   "source": [
    "from pneumonia_predictor.backend.data_fetcher import load_data\n",
    "from pneumonia_predictor.backend.rf_smote import RfSMOTE"
   ]
  },
  {
   "cell_type": "code",
   "execution_count": 2,
   "id": "ac855223-4098-4914-818d-2d8236ece9ce",
   "metadata": {},
   "outputs": [],
   "source": [
    "X_train, y_train = load_data(\"X_train\"), load_data(\"y_train\")\n",
    "X_test, y_test = load_data(\"X_test\"), load_data(\"y_test\")"
   ]
  },
  {
   "cell_type": "code",
   "execution_count": 3,
   "id": "1869f9cf-1030-4111-a64d-bafea222d285",
   "metadata": {},
   "outputs": [],
   "source": [
    "rf_smote = RfSMOTE(X_train, y_train, X_test, y_test, \"pneumonia_admission\")"
   ]
  },
  {
   "cell_type": "code",
   "execution_count": 4,
   "id": "41133685-53f3-4dc8-a674-c72b4c229887",
   "metadata": {},
   "outputs": [],
   "source": [
    "rf_smote.train()"
   ]
  },
  {
   "cell_type": "code",
   "execution_count": 5,
   "id": "7eb5d8d7-55ec-429c-9e44-20e37818a22a",
   "metadata": {},
   "outputs": [
    {
     "data": {
      "text/html": [
       "<div>\n",
       "<style scoped>\n",
       "    .dataframe tbody tr th:only-of-type {\n",
       "        vertical-align: middle;\n",
       "    }\n",
       "\n",
       "    .dataframe tbody tr th {\n",
       "        vertical-align: top;\n",
       "    }\n",
       "\n",
       "    .dataframe thead th {\n",
       "        text-align: right;\n",
       "    }\n",
       "</style>\n",
       "<table border=\"1\" class=\"dataframe\">\n",
       "  <thead>\n",
       "    <tr style=\"text-align: right;\">\n",
       "      <th></th>\n",
       "      <th>0</th>\n",
       "      <th>1</th>\n",
       "      <th>accuracy</th>\n",
       "      <th>macro avg</th>\n",
       "      <th>weighted avg</th>\n",
       "    </tr>\n",
       "  </thead>\n",
       "  <tbody>\n",
       "    <tr>\n",
       "      <th>precision</th>\n",
       "      <td>0.689840</td>\n",
       "      <td>0.327434</td>\n",
       "      <td>0.553333</td>\n",
       "      <td>0.508637</td>\n",
       "      <td>0.575078</td>\n",
       "    </tr>\n",
       "    <tr>\n",
       "      <th>recall</th>\n",
       "      <td>0.629268</td>\n",
       "      <td>0.389474</td>\n",
       "      <td>0.553333</td>\n",
       "      <td>0.509371</td>\n",
       "      <td>0.553333</td>\n",
       "    </tr>\n",
       "    <tr>\n",
       "      <th>f1-score</th>\n",
       "      <td>0.658163</td>\n",
       "      <td>0.355769</td>\n",
       "      <td>0.553333</td>\n",
       "      <td>0.506966</td>\n",
       "      <td>0.562405</td>\n",
       "    </tr>\n",
       "    <tr>\n",
       "      <th>support</th>\n",
       "      <td>410.000000</td>\n",
       "      <td>190.000000</td>\n",
       "      <td>0.553333</td>\n",
       "      <td>600.000000</td>\n",
       "      <td>600.000000</td>\n",
       "    </tr>\n",
       "  </tbody>\n",
       "</table>\n",
       "</div>"
      ],
      "text/plain": [
       "                    0           1  accuracy   macro avg  weighted avg\n",
       "precision    0.689840    0.327434  0.553333    0.508637      0.575078\n",
       "recall       0.629268    0.389474  0.553333    0.509371      0.553333\n",
       "f1-score     0.658163    0.355769  0.553333    0.506966      0.562405\n",
       "support    410.000000  190.000000  0.553333  600.000000    600.000000"
      ]
     },
     "execution_count": 5,
     "metadata": {},
     "output_type": "execute_result"
    }
   ],
   "source": [
    "import pandas as pd\n",
    "\n",
    "pd.DataFrame(rf_smote.report)"
   ]
  },
  {
   "cell_type": "code",
   "execution_count": 6,
   "id": "d936e842-6745-4c9d-baac-ccfdc0960925",
   "metadata": {},
   "outputs": [
    {
     "data": {
      "text/plain": [
       "Counter({np.int64(0): 1002, np.int64(1): 1002})"
      ]
     },
     "execution_count": 6,
     "metadata": {},
     "output_type": "execute_result"
    }
   ],
   "source": [
    "rf_smote.min_maj_count"
   ]
  }
 ],
 "metadata": {
  "kernelspec": {
   "display_name": "Python 3 (ipykernel)",
   "language": "python",
   "name": "python3"
  },
  "language_info": {
   "codemirror_mode": {
    "name": "ipython",
    "version": 3
   },
   "file_extension": ".py",
   "mimetype": "text/x-python",
   "name": "python",
   "nbconvert_exporter": "python",
   "pygments_lexer": "ipython3",
   "version": "3.12.7"
  }
 },
 "nbformat": 4,
 "nbformat_minor": 5
}
