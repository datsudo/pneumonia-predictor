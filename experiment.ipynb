{
 "cells": [
  {
   "cell_type": "code",
   "execution_count": 1,
   "id": "664f954c-3ae3-4863-90bc-ccea8b6d40e3",
   "metadata": {},
   "outputs": [],
   "source": [
    "import time\n",
    "\n",
    "import matplotlib.pyplot as plt\n",
    "import numpy as np\n",
    "import pandas as pd\n",
    "\n",
    "from pneumonia_predictor.backend.data_fetcher import load_data\n",
    "from pneumonia_predictor.backend.rf_active_smote import RfActiveSMOTE\n",
    "from pneumonia_predictor.backend.rf_smote import RfSMOTE\n",
    "from pneumonia_predictor.backend.tester import ModelTester"
   ]
  },
  {
   "cell_type": "code",
   "execution_count": 2,
   "id": "d43a4ffc-5c0c-4ce0-8e7c-a2f54e9a15e2",
   "metadata": {},
   "outputs": [],
   "source": [
    "X_train, y_train, X_test, y_test = (\n",
    "    load_data(\"X_train\"),\n",
    "    load_data(\"y_train\"),\n",
    "    load_data(\"X_test\"),\n",
    "    load_data(\"y_test\"),\n",
    ")"
   ]
  },
  {
   "cell_type": "code",
   "execution_count": 3,
   "id": "31a0ef71-7863-47e7-b6b9-69356415cba7",
   "metadata": {},
   "outputs": [],
   "source": [
    "rf_smote = RfSMOTE(X_train, y_train, X_test, y_test, \"pneumonia_admission\")\n",
    "rf_active_smote = RfActiveSMOTE(X_train, y_train, X_test, y_test, \"pneumonia_admission\")"
   ]
  },
  {
   "cell_type": "code",
   "execution_count": 4,
   "id": "baebe8b2-5b93-4cde-88f9-862e55237a99",
   "metadata": {},
   "outputs": [],
   "source": [
    "tester = ModelTester(rf_smote, rf_active_smote)"
   ]
  },
  {
   "cell_type": "code",
   "execution_count": 5,
   "id": "fe0424d1-29e1-4d72-8858-12d666d81716",
   "metadata": {},
   "outputs": [],
   "source": [
    "tester.run_tests(10)"
   ]
  },
  {
   "cell_type": "code",
   "execution_count": 6,
   "id": "6f616708-b6c1-445d-9f5b-134ecc19adba",
   "metadata": {},
   "outputs": [
    {
     "data": {
      "text/html": [
       "<div>\n",
       "<style scoped>\n",
       "    .dataframe tbody tr th:only-of-type {\n",
       "        vertical-align: middle;\n",
       "    }\n",
       "\n",
       "    .dataframe tbody tr th {\n",
       "        vertical-align: top;\n",
       "    }\n",
       "\n",
       "    .dataframe thead th {\n",
       "        text-align: right;\n",
       "    }\n",
       "</style>\n",
       "<table border=\"1\" class=\"dataframe\">\n",
       "  <thead>\n",
       "    <tr style=\"text-align: right;\">\n",
       "      <th></th>\n",
       "      <th>Test</th>\n",
       "      <th>accuracy</th>\n",
       "      <th>precision</th>\n",
       "      <th>recall</th>\n",
       "      <th>f1-score</th>\n",
       "      <th>Average</th>\n",
       "    </tr>\n",
       "  </thead>\n",
       "  <tbody>\n",
       "    <tr>\n",
       "      <th>0</th>\n",
       "      <td>1</td>\n",
       "      <td>0.536667</td>\n",
       "      <td>0.566042</td>\n",
       "      <td>0.536667</td>\n",
       "      <td>0.548244</td>\n",
       "      <td>0.546905</td>\n",
       "    </tr>\n",
       "    <tr>\n",
       "      <th>1</th>\n",
       "      <td>2</td>\n",
       "      <td>0.520000</td>\n",
       "      <td>0.571233</td>\n",
       "      <td>0.520000</td>\n",
       "      <td>0.536057</td>\n",
       "      <td>0.536822</td>\n",
       "    </tr>\n",
       "    <tr>\n",
       "      <th>2</th>\n",
       "      <td>3</td>\n",
       "      <td>0.510000</td>\n",
       "      <td>0.567441</td>\n",
       "      <td>0.510000</td>\n",
       "      <td>0.526865</td>\n",
       "      <td>0.528576</td>\n",
       "    </tr>\n",
       "    <tr>\n",
       "      <th>3</th>\n",
       "      <td>4</td>\n",
       "      <td>0.503333</td>\n",
       "      <td>0.565681</td>\n",
       "      <td>0.503333</td>\n",
       "      <td>0.520607</td>\n",
       "      <td>0.523239</td>\n",
       "    </tr>\n",
       "    <tr>\n",
       "      <th>4</th>\n",
       "      <td>5</td>\n",
       "      <td>0.495000</td>\n",
       "      <td>0.562828</td>\n",
       "      <td>0.495000</td>\n",
       "      <td>0.512551</td>\n",
       "      <td>0.516345</td>\n",
       "    </tr>\n",
       "    <tr>\n",
       "      <th>5</th>\n",
       "      <td>6</td>\n",
       "      <td>0.496667</td>\n",
       "      <td>0.565106</td>\n",
       "      <td>0.496667</td>\n",
       "      <td>0.514145</td>\n",
       "      <td>0.518146</td>\n",
       "    </tr>\n",
       "    <tr>\n",
       "      <th>6</th>\n",
       "      <td>7</td>\n",
       "      <td>0.488333</td>\n",
       "      <td>0.558556</td>\n",
       "      <td>0.488333</td>\n",
       "      <td>0.506038</td>\n",
       "      <td>0.510315</td>\n",
       "    </tr>\n",
       "    <tr>\n",
       "      <th>7</th>\n",
       "      <td>8</td>\n",
       "      <td>0.495000</td>\n",
       "      <td>0.568970</td>\n",
       "      <td>0.495000</td>\n",
       "      <td>0.512274</td>\n",
       "      <td>0.517811</td>\n",
       "    </tr>\n",
       "    <tr>\n",
       "      <th>8</th>\n",
       "      <td>9</td>\n",
       "      <td>0.490000</td>\n",
       "      <td>0.566995</td>\n",
       "      <td>0.490000</td>\n",
       "      <td>0.507201</td>\n",
       "      <td>0.513549</td>\n",
       "    </tr>\n",
       "    <tr>\n",
       "      <th>9</th>\n",
       "      <td>10</td>\n",
       "      <td>0.491667</td>\n",
       "      <td>0.568073</td>\n",
       "      <td>0.491667</td>\n",
       "      <td>0.508866</td>\n",
       "      <td>0.515068</td>\n",
       "    </tr>\n",
       "  </tbody>\n",
       "</table>\n",
       "</div>"
      ],
      "text/plain": [
       "   Test  accuracy  precision    recall  f1-score   Average\n",
       "0     1  0.536667   0.566042  0.536667  0.548244  0.546905\n",
       "1     2  0.520000   0.571233  0.520000  0.536057  0.536822\n",
       "2     3  0.510000   0.567441  0.510000  0.526865  0.528576\n",
       "3     4  0.503333   0.565681  0.503333  0.520607  0.523239\n",
       "4     5  0.495000   0.562828  0.495000  0.512551  0.516345\n",
       "5     6  0.496667   0.565106  0.496667  0.514145  0.518146\n",
       "6     7  0.488333   0.558556  0.488333  0.506038  0.510315\n",
       "7     8  0.495000   0.568970  0.495000  0.512274  0.517811\n",
       "8     9  0.490000   0.566995  0.490000  0.507201  0.513549\n",
       "9    10  0.491667   0.568073  0.491667  0.508866  0.515068"
      ]
     },
     "execution_count": 6,
     "metadata": {},
     "output_type": "execute_result"
    }
   ],
   "source": [
    "tester.model_a_res"
   ]
  },
  {
   "cell_type": "code",
   "execution_count": 7,
   "id": "bc2e2cfc-9002-446a-9f4e-4560d57d4563",
   "metadata": {},
   "outputs": [
    {
     "data": {
      "text/html": [
       "<div>\n",
       "<style scoped>\n",
       "    .dataframe tbody tr th:only-of-type {\n",
       "        vertical-align: middle;\n",
       "    }\n",
       "\n",
       "    .dataframe tbody tr th {\n",
       "        vertical-align: top;\n",
       "    }\n",
       "\n",
       "    .dataframe thead th {\n",
       "        text-align: right;\n",
       "    }\n",
       "</style>\n",
       "<table border=\"1\" class=\"dataframe\">\n",
       "  <thead>\n",
       "    <tr style=\"text-align: right;\">\n",
       "      <th></th>\n",
       "      <th>Test</th>\n",
       "      <th>accuracy</th>\n",
       "      <th>precision</th>\n",
       "      <th>recall</th>\n",
       "      <th>f1-score</th>\n",
       "      <th>Average</th>\n",
       "    </tr>\n",
       "  </thead>\n",
       "  <tbody>\n",
       "    <tr>\n",
       "      <th>0</th>\n",
       "      <td>1</td>\n",
       "      <td>0.541333</td>\n",
       "      <td>0.563403</td>\n",
       "      <td>0.541333</td>\n",
       "      <td>0.550210</td>\n",
       "      <td>0.549070</td>\n",
       "    </tr>\n",
       "    <tr>\n",
       "      <th>1</th>\n",
       "      <td>2</td>\n",
       "      <td>0.518667</td>\n",
       "      <td>0.566826</td>\n",
       "      <td>0.518667</td>\n",
       "      <td>0.534351</td>\n",
       "      <td>0.534627</td>\n",
       "    </tr>\n",
       "    <tr>\n",
       "      <th>2</th>\n",
       "      <td>3</td>\n",
       "      <td>0.499667</td>\n",
       "      <td>0.560720</td>\n",
       "      <td>0.499667</td>\n",
       "      <td>0.516996</td>\n",
       "      <td>0.519262</td>\n",
       "    </tr>\n",
       "    <tr>\n",
       "      <th>3</th>\n",
       "      <td>4</td>\n",
       "      <td>0.487667</td>\n",
       "      <td>0.556200</td>\n",
       "      <td>0.487667</td>\n",
       "      <td>0.505443</td>\n",
       "      <td>0.509244</td>\n",
       "    </tr>\n",
       "    <tr>\n",
       "      <th>4</th>\n",
       "      <td>5</td>\n",
       "      <td>0.486333</td>\n",
       "      <td>0.557507</td>\n",
       "      <td>0.486333</td>\n",
       "      <td>0.504054</td>\n",
       "      <td>0.508557</td>\n",
       "    </tr>\n",
       "    <tr>\n",
       "      <th>5</th>\n",
       "      <td>6</td>\n",
       "      <td>0.484000</td>\n",
       "      <td>0.558903</td>\n",
       "      <td>0.484000</td>\n",
       "      <td>0.501560</td>\n",
       "      <td>0.507116</td>\n",
       "    </tr>\n",
       "    <tr>\n",
       "      <th>6</th>\n",
       "      <td>7</td>\n",
       "      <td>0.477333</td>\n",
       "      <td>0.555256</td>\n",
       "      <td>0.477333</td>\n",
       "      <td>0.494841</td>\n",
       "      <td>0.501191</td>\n",
       "    </tr>\n",
       "    <tr>\n",
       "      <th>7</th>\n",
       "      <td>8</td>\n",
       "      <td>0.478333</td>\n",
       "      <td>0.558120</td>\n",
       "      <td>0.478333</td>\n",
       "      <td>0.495603</td>\n",
       "      <td>0.502597</td>\n",
       "    </tr>\n",
       "    <tr>\n",
       "      <th>8</th>\n",
       "      <td>9</td>\n",
       "      <td>0.477000</td>\n",
       "      <td>0.558223</td>\n",
       "      <td>0.477000</td>\n",
       "      <td>0.494140</td>\n",
       "      <td>0.501591</td>\n",
       "    </tr>\n",
       "    <tr>\n",
       "      <th>9</th>\n",
       "      <td>10</td>\n",
       "      <td>0.470333</td>\n",
       "      <td>0.551077</td>\n",
       "      <td>0.470333</td>\n",
       "      <td>0.487716</td>\n",
       "      <td>0.494865</td>\n",
       "    </tr>\n",
       "  </tbody>\n",
       "</table>\n",
       "</div>"
      ],
      "text/plain": [
       "   Test  accuracy  precision    recall  f1-score   Average\n",
       "0     1  0.541333   0.563403  0.541333  0.550210  0.549070\n",
       "1     2  0.518667   0.566826  0.518667  0.534351  0.534627\n",
       "2     3  0.499667   0.560720  0.499667  0.516996  0.519262\n",
       "3     4  0.487667   0.556200  0.487667  0.505443  0.509244\n",
       "4     5  0.486333   0.557507  0.486333  0.504054  0.508557\n",
       "5     6  0.484000   0.558903  0.484000  0.501560  0.507116\n",
       "6     7  0.477333   0.555256  0.477333  0.494841  0.501191\n",
       "7     8  0.478333   0.558120  0.478333  0.495603  0.502597\n",
       "8     9  0.477000   0.558223  0.477000  0.494140  0.501591\n",
       "9    10  0.470333   0.551077  0.470333  0.487716  0.494865"
      ]
     },
     "execution_count": 7,
     "metadata": {},
     "output_type": "execute_result"
    }
   ],
   "source": [
    "tester.model_b_res"
   ]
  },
  {
   "cell_type": "code",
   "execution_count": 8,
   "id": "8c9f4ffa-2010-44c9-95bc-51f80d2ddb59",
   "metadata": {},
   "outputs": [
    {
     "data": {
      "text/html": [
       "<div>\n",
       "<style scoped>\n",
       "    .dataframe tbody tr th:only-of-type {\n",
       "        vertical-align: middle;\n",
       "    }\n",
       "\n",
       "    .dataframe tbody tr th {\n",
       "        vertical-align: top;\n",
       "    }\n",
       "\n",
       "    .dataframe thead th {\n",
       "        text-align: right;\n",
       "    }\n",
       "</style>\n",
       "<table border=\"1\" class=\"dataframe\">\n",
       "  <thead>\n",
       "    <tr style=\"text-align: right;\">\n",
       "      <th></th>\n",
       "      <th>Metrics</th>\n",
       "      <th>Random Forest + SMOTE Model</th>\n",
       "      <th>Random Forest + Active SMOTE Model</th>\n",
       "      <th>t-value</th>\n",
       "      <th>p-value</th>\n",
       "    </tr>\n",
       "  </thead>\n",
       "  <tbody>\n",
       "    <tr>\n",
       "      <th>0</th>\n",
       "      <td>accuracy</td>\n",
       "      <td>0.536667</td>\n",
       "      <td>0.541333</td>\n",
       "      <td>4.450177</td>\n",
       "      <td>0.001600</td>\n",
       "    </tr>\n",
       "    <tr>\n",
       "      <th>1</th>\n",
       "      <td>precision</td>\n",
       "      <td>0.566042</td>\n",
       "      <td>0.563403</td>\n",
       "      <td>5.519558</td>\n",
       "      <td>0.000371</td>\n",
       "    </tr>\n",
       "    <tr>\n",
       "      <th>2</th>\n",
       "      <td>recall</td>\n",
       "      <td>0.536667</td>\n",
       "      <td>0.541333</td>\n",
       "      <td>4.450177</td>\n",
       "      <td>0.001600</td>\n",
       "    </tr>\n",
       "    <tr>\n",
       "      <th>3</th>\n",
       "      <td>f1-score</td>\n",
       "      <td>0.548244</td>\n",
       "      <td>0.550210</td>\n",
       "      <td>4.990970</td>\n",
       "      <td>0.000748</td>\n",
       "    </tr>\n",
       "  </tbody>\n",
       "</table>\n",
       "</div>"
      ],
      "text/plain": [
       "     Metrics  Random Forest + SMOTE Model  Random Forest + Active SMOTE Model  \\\n",
       "0   accuracy                     0.536667                            0.541333   \n",
       "1  precision                     0.566042                            0.563403   \n",
       "2     recall                     0.536667                            0.541333   \n",
       "3   f1-score                     0.548244                            0.550210   \n",
       "\n",
       "    t-value   p-value  \n",
       "0  4.450177  0.001600  \n",
       "1  5.519558  0.000371  \n",
       "2  4.450177  0.001600  \n",
       "3  4.990970  0.000748  "
      ]
     },
     "execution_count": 8,
     "metadata": {},
     "output_type": "execute_result"
    }
   ],
   "source": [
    "tester.compare_res"
   ]
  },
  {
   "cell_type": "markdown",
   "id": "806b29cc-9c10-42a6-bcef-008a3239858d",
   "metadata": {},
   "source": [
    "## Feature importance (mean decrease in impurity - MDI)"
   ]
  },
  {
   "cell_type": "code",
   "execution_count": 9,
   "id": "362059ee-da1d-41b4-ab69-7cce6c7cad51",
   "metadata": {},
   "outputs": [],
   "source": [
    "feature_names = [\n",
    "    \"age\",\n",
    "    \"sex\",\n",
    "    \"chronic_respiratory_disease\",\n",
    "    \"diabetes_mellitus\",\n",
    "    \"heart_failure\",\n",
    "    \"cancer\",\n",
    "    \"chronic_kidney_disease\",\n",
    "]"
   ]
  },
  {
   "cell_type": "markdown",
   "id": "8719a63a-2ba5-4d79-9944-30d111daafc3",
   "metadata": {},
   "source": [
    "### RfSMOTE"
   ]
  },
  {
   "cell_type": "code",
   "execution_count": 10,
   "id": "807017a2-7537-4649-af2a-88e26c87b730",
   "metadata": {},
   "outputs": [
    {
     "name": "stdout",
     "output_type": "stream",
     "text": [
      "Elapsed time to compute the importances: 0.028 seconds\n"
     ]
    }
   ],
   "source": [
    "start_time = time.time()\n",
    "importances = rf_smote.classifier.feature_importances_\n",
    "rf_smote_std = np.std(\n",
    "    [tree.feature_importances_ for tree in rf_smote.classifier.estimators_], axis=0\n",
    ")\n",
    "elapsed_time = time.time() - start_time\n",
    "\n",
    "print(f\"Elapsed time to compute the importances: {elapsed_time:.3f} seconds\")"
   ]
  },
  {
   "cell_type": "code",
   "execution_count": 11,
   "id": "ca5d106c-6041-45f3-9bde-0d09cd9d9444",
   "metadata": {},
   "outputs": [
    {
     "data": {
      "image/png": "[encoded data removed]",
      "text/plain": [
       "<Figure size 640x480 with 1 Axes>"
      ]
     },
     "metadata": {},
     "output_type": "display_data"
    }
   ],
   "source": [
    "rf_smote_importances = pd.Series(importances, index=feature_names)\n",
    "\n",
    "fig, ax = plt.subplots()\n",
    "rf_smote_importances.plot.bar(yerr=rf_smote_std, ax=ax)\n",
    "ax.set_title(\"RfSMOTE feature importances using MDI\")\n",
    "ax.set_ylabel(\"Mean decrease in impurity\")\n",
    "fig.tight_layout()"
   ]
  },
  {
   "cell_type": "markdown",
   "id": "2e13b21f-0b19-4621-b655-4b2afb0cf6be",
   "metadata": {},
   "source": [
    "### RfActiveSMOTE"
   ]
  },
  {
   "cell_type": "code",
   "execution_count": 12,
   "id": "9abb0389-46af-4845-8550-300db04ab7c1",
   "metadata": {},
   "outputs": [
    {
     "name": "stdout",
     "output_type": "stream",
     "text": [
      "Elapsed time to compute the importances: 0.041 seconds\n"
     ]
    }
   ],
   "source": [
    "start_time = time.time()\n",
    "importances = rf_active_smote.classifier.feature_importances_\n",
    "rf_active_smote_std = np.std(\n",
    "    [tree.feature_importances_ for tree in rf_active_smote.classifier.estimators_],\n",
    "    axis=0,\n",
    ")\n",
    "elapsed_time = time.time() - start_time\n",
    "\n",
    "print(f\"Elapsed time to compute the importances: {elapsed_time:.3f} seconds\")"
   ]
  },
  {
   "cell_type": "code",
   "execution_count": 13,
   "id": "df8f24a5-35ca-45e2-b746-f7aebab083ad",
   "metadata": {},
   "outputs": [
    {
     "data": {
      "image/png": "[encoded data removed]",
      "text/plain": [
       "<Figure size 640x480 with 1 Axes>"
      ]
     },
     "metadata": {},
     "output_type": "display_data"
    }
   ],
   "source": [
    "rf_active_smote_importances = pd.Series(importances, index=feature_names)\n",
    "\n",
    "fig, ax = plt.subplots()\n",
    "rf_active_smote_importances.plot.bar(yerr=rf_active_smote_std, ax=ax)\n",
    "ax.set_title(\"RfActiveSMOTE feature importances using MDI\")\n",
    "ax.set_ylabel(\"Mean decrease in impurity\")\n",
    "fig.tight_layout()"
   ]
  }
 ],
 "metadata": {
  "kernelspec": {
   "display_name": "Python 3 (ipykernel)",
   "language": "python",
   "name": "python3"
  },
  "language_info": {
   "codemirror_mode": {
    "name": "ipython",
    "version": 3
   },
   "file_extension": ".py",
   "mimetype": "text/x-python",
   "name": "python",
   "nbconvert_exporter": "python",
   "pygments_lexer": "ipython3",
   "version": "3.12.7"
  }
 },
 "nbformat": 4,
 "nbformat_minor": 5
}
