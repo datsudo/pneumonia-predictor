{
 "cells": [
  {
   "cell_type": "markdown",
   "id": "37ce36d8-4d63-497b-8a27-f58170a95a07",
   "metadata": {},
   "source": [
    "<div style=\"margin-bottom: 30px; text-align: center\">\n",
    "    <h1>Pneumonia Admission Predictor: Training</h1>\n",
    "    <p style=\"text-align: center;\">Jan Maverick M. Juat, Dionmelle J. Pardilla, Sthanly Paul L. Malapit, Darylle P. Villanueva </p>\n",
    "</div>\n",
    "This notebook will serve as the setting for preprocessing and training phase for pneumonia predictor model."
   ]
  },
  {
   "cell_type": "markdown",
   "id": "706c4a07-b179-44b4-859f-74cbfce52828",
   "metadata": {},
   "source": [
    "> *As of the moment, the researchers will use a randomly generated dataset,\n",
    "> which contains the ideal set of features and values and doesn't require much preprocessing. Hence,\n",
    "> the preprocessing part of this notebook will be temporarily skipped.*"
   ]
  },
  {
   "cell_type": "markdown",
   "id": "ac0e3dfe-aa69-4349-b8e1-59bf9e4c1de4",
   "metadata": {},
   "source": [
    "## Bootstrap\n",
    "\n",
    "The ibraries, dataset, and needed variables are loaded in this section."
   ]
  },
  {
   "cell_type": "code",
   "id": "5025817e-6bb7-4b62-b70d-e300f15e5a97",
   "metadata": {
    "ExecuteTime": {
     "end_time": "2024-12-05T14:01:21.420222Z",
     "start_time": "2024-12-05T14:01:16.684873Z"
    }
   },
   "source": [
    "import joblib\n",
    "import pandas as pd\n",
    "from sklearn.model_selection import train_test_split\n",
    "\n",
    "from pneumonia_predictor.backend.data_fetcher import load_data\n",
    "from pneumonia_predictor.backend.rf_active_smote import RfActiveSMOTE\n",
    "from pneumonia_predictor.backend.rf_smote import RfSMOTE\n",
    "from pneumonia_predictor.backend.utils import get_feature_target_set"
   ],
   "outputs": [],
   "execution_count": 2
  },
  {
   "cell_type": "code",
   "id": "a209b56d-1b47-473e-8a2e-31f54e490566",
   "metadata": {
    "ExecuteTime": {
     "end_time": "2024-12-05T14:04:26.760067Z",
     "start_time": "2024-12-05T14:04:26.742230Z"
    }
   },
   "source": [
    "DATASET = load_data(\"pneumonia_sample\")\n",
    "TARGET = \"pneumonia\"\n",
    "TEST_SIZE = 0.3\n",
    "N_TREES = 100  # n_estimators for RandomForestClassifier\n",
    "N_ITERATIONS = 5"
   ],
   "outputs": [],
   "execution_count": 6
  },
  {
   "cell_type": "markdown",
   "id": "9941fa4c-6dfc-430f-b1f2-d297980d7f13",
   "metadata": {},
   "source": [
    "## Pre-training"
   ]
  },
  {
   "cell_type": "markdown",
   "id": "1746a1b3-6248-4557-9959-bfbf70523e26",
   "metadata": {},
   "source": [
    "Create testing and training sets using Scikit-Learn's `train_test_split`. The split size will be:\n",
    "- 70% for training\n",
    "- 30% for testing (defined at `TEST_SIZE` variable above)"
   ]
  },
  {
   "cell_type": "code",
   "id": "47c00f86-00bb-4ed4-805b-03da37784f06",
   "metadata": {
    "ExecuteTime": {
     "end_time": "2024-12-05T14:04:29.982898Z",
     "start_time": "2024-12-05T14:04:29.971734Z"
    }
   },
   "source": [
    "X, y = get_feature_target_set(DATASET, TARGET)"
   ],
   "outputs": [],
   "execution_count": 7
  },
  {
   "cell_type": "code",
   "id": "210832ee-1715-4af6-9fe1-b79f45ec0878",
   "metadata": {
    "ExecuteTime": {
     "end_time": "2024-12-05T14:04:35.470721Z",
     "start_time": "2024-12-05T14:04:35.454567Z"
    }
   },
   "source": [
    "X_train, X_test, y_train, y_test = train_test_split(\n",
    "    X, y, test_size=TEST_SIZE, random_state=42\n",
    ")"
   ],
   "outputs": [],
   "execution_count": 8
  },
  {
   "cell_type": "code",
   "id": "96662bb3-1dbb-407b-b727-f0df4f5e3a2b",
   "metadata": {
    "ExecuteTime": {
     "end_time": "2024-12-05T14:04:38.884764Z",
     "start_time": "2024-12-05T14:04:38.841897Z"
    }
   },
   "source": [
    "X_train.to_csv(\"datasets/X_train.csv\", index=False)\n",
    "y_train.to_csv(\"datasets/y_train.csv\", index=False)\n",
    "X_test.to_csv(\"datasets/X_test.csv\", index=False)\n",
    "y_test.to_csv(\"datasets/y_test.csv\", index=False)"
   ],
   "outputs": [],
   "execution_count": 9
  },
  {
   "cell_type": "markdown",
   "id": "e09091ab-dd60-4e8f-be4a-934cf64fdd22",
   "metadata": {},
   "source": [
    "## Model Training"
   ]
  },
  {
   "cell_type": "markdown",
   "id": "adc9c251-9f05-499c-a9e6-8550aa356b77",
   "metadata": {},
   "source": [
    "## Training with RF + Active SMOTE\n",
    "\n",
    "`RfActiveSMOTE` combines `ActiveSMOTE` and `RandomForestClassifier`. The training undergoes several `N_ITERATIONS` (defined in [Bootstrap](#Bootstrap)) that will generate synthetic samples to balance the dataset."
   ]
  },
  {
   "cell_type": "code",
   "id": "c04e7e68-7717-4482-8c1a-15482c9d8b8e",
   "metadata": {
    "ExecuteTime": {
     "end_time": "2024-12-05T14:04:42.333795Z",
     "start_time": "2024-12-05T14:04:42.295690Z"
    }
   },
   "source": [
    "rf_active_smote = RfActiveSMOTE(X_train, y_train, X_test, y_test, TARGET)"
   ],
   "outputs": [],
   "execution_count": 10
  },
  {
   "cell_type": "markdown",
   "id": "65fcd81e-8e61-42ce-8bf6-e958ed280d29",
   "metadata": {},
   "source": [
    "A brief overview `model.train(n_iterations: int)`'s implementation (can be accessed at\n",
    "`pneumonia_predictor/backend/rf_active_smote.py`):\n",
    "```python\n",
    "RfActiveSMOTE.train(n_iterations: int):\n",
    "    RfActiveSMOTE.fit_classifier()\n",
    "    ActiveSMOTE.probabilities = RfActiveSMOTE.classifier.predict_proba(X_train)\n",
    "    for i in range(n_iterations):\n",
    "        ActiveSMOTE.uncertainty_sampling()\n",
    "        ActiveSMOTE.diversity_sampling()\n",
    "        ActiveSMOTE.create_synthetic_samples(sampling_ratio)\n",
    "        concat(total_synthetic_samples, current_synthetic_samples)\n",
    "        RfActiveSMOTE.fit_classifier()\n",
    "```\n",
    "\n",
    "The `ActiveSMOTE` implementation can be accessed at `pneumonia_predictor/backend/active_smote.py`."
   ]
  },
  {
   "cell_type": "code",
   "id": "a8a38b01-a033-4c62-9ba3-34d78c9dcba7",
   "metadata": {
    "ExecuteTime": {
     "end_time": "2024-12-05T14:04:51.024217Z",
     "start_time": "2024-12-05T14:04:47.287884Z"
    }
   },
   "source": [
    "rf_active_smote.train(N_ITERATIONS)"
   ],
   "outputs": [],
   "execution_count": 11
  },
  {
   "cell_type": "code",
   "id": "40f58de1-42b7-4c32-8c4b-76a31c06d9f4",
   "metadata": {
    "ExecuteTime": {
     "end_time": "2024-12-05T14:05:00.871981Z",
     "start_time": "2024-12-05T14:05:00.753896Z"
    }
   },
   "source": "rf_active_smote.save(\"pneumonia_predictor\")",
   "outputs": [],
   "execution_count": 12
  },
  {
   "cell_type": "markdown",
   "id": "cb950f43-3caa-4e1d-bc18-6ed8726999cb",
   "metadata": {},
   "source": [
    "## Sample prediction"
   ]
  },
  {
   "cell_type": "code",
   "id": "12a86e91-18b9-4a3d-a52b-41a44a13b159",
   "metadata": {
    "ExecuteTime": {
     "end_time": "2024-12-05T14:05:06.264054Z",
     "start_time": "2024-12-05T14:05:06.174546Z"
    }
   },
   "source": "pneumonia_predictor = joblib.load(\"saved_models/pneumonia_predictor.pkl\")",
   "outputs": [],
   "execution_count": 13
  },
  {
   "cell_type": "code",
   "id": "14642ec3-1a33-46bf-be76-7c46a0faba59",
   "metadata": {
    "ExecuteTime": {
     "end_time": "2024-12-05T14:06:16.480390Z",
     "start_time": "2024-12-05T14:06:16.434761Z"
    }
   },
   "source": [
    "all_cols = [\n",
    "    \"age\",\n",
    "    \"sex\",\n",
    "    \"fatigue\",\n",
    "    \"cough_phlegm\",\n",
    "    \"chronic_resp_disease\",\n",
    "    \"chronic_kidney_disease\",\n",
    "    \"diabetes_mellitus\",\n",
    "    \"heart_failure\",\n",
    "    \"cancer\",\n",
    "    \"systoic_bp\",\n",
    "    \"dias_bp\",\n",
    "    \"pulse_rate\",\n",
    "    \"resp_rate\",\n",
    "    \"temp\",\n",
    "    \"hemoglobin\",\n",
    "    \"hematocrit\",\n",
    "    \"rbc\",\n",
    "    \"wbc\",\n",
    "    \"platelets\",\n",
    "    TARGET,\n",
    "]\n",
    "new_data = pd.DataFrame(\n",
    "    [[48,0,1,0,0,1,0,0,1,212,111,83,46,36.27,154,0.15,4.48,15.91,457,1]],\n",
    "    columns=all_cols\n",
    ")\n",
    "new_data"
   ],
   "outputs": [
    {
     "data": {
      "text/plain": [
       "   age  sex  fatigue  cough_phlegm  chronic_resp_disease  \\\n",
       "0   48    0        1             0                     0   \n",
       "\n",
       "   chronic_kidney_disease  diabetes_mellitus  heart_failure  cancer  \\\n",
       "0                       1                  0              0       1   \n",
       "\n",
       "   systoic_bp  dias_bp  pulse_rate  resp_rate   temp  hemoglobin  hematocrit  \\\n",
       "0         212      111          83         46  36.27         154        0.15   \n",
       "\n",
       "    rbc    wbc  platelets  pneumonia  \n",
       "0  4.48  15.91        457          1  "
      ],
      "text/html": [
       "<div>\n",
       "<style scoped>\n",
       "    .dataframe tbody tr th:only-of-type {\n",
       "        vertical-align: middle;\n",
       "    }\n",
       "\n",
       "    .dataframe tbody tr th {\n",
       "        vertical-align: top;\n",
       "    }\n",
       "\n",
       "    .dataframe thead th {\n",
       "        text-align: right;\n",
       "    }\n",
       "</style>\n",
       "<table border=\"1\" class=\"dataframe\">\n",
       "  <thead>\n",
       "    <tr style=\"text-align: right;\">\n",
       "      <th></th>\n",
       "      <th>age</th>\n",
       "      <th>sex</th>\n",
       "      <th>fatigue</th>\n",
       "      <th>cough_phlegm</th>\n",
       "      <th>chronic_resp_disease</th>\n",
       "      <th>chronic_kidney_disease</th>\n",
       "      <th>diabetes_mellitus</th>\n",
       "      <th>heart_failure</th>\n",
       "      <th>cancer</th>\n",
       "      <th>systoic_bp</th>\n",
       "      <th>dias_bp</th>\n",
       "      <th>pulse_rate</th>\n",
       "      <th>resp_rate</th>\n",
       "      <th>temp</th>\n",
       "      <th>hemoglobin</th>\n",
       "      <th>hematocrit</th>\n",
       "      <th>rbc</th>\n",
       "      <th>wbc</th>\n",
       "      <th>platelets</th>\n",
       "      <th>pneumonia</th>\n",
       "    </tr>\n",
       "  </thead>\n",
       "  <tbody>\n",
       "    <tr>\n",
       "      <th>0</th>\n",
       "      <td>48</td>\n",
       "      <td>0</td>\n",
       "      <td>1</td>\n",
       "      <td>0</td>\n",
       "      <td>0</td>\n",
       "      <td>1</td>\n",
       "      <td>0</td>\n",
       "      <td>0</td>\n",
       "      <td>1</td>\n",
       "      <td>212</td>\n",
       "      <td>111</td>\n",
       "      <td>83</td>\n",
       "      <td>46</td>\n",
       "      <td>36.27</td>\n",
       "      <td>154</td>\n",
       "      <td>0.15</td>\n",
       "      <td>4.48</td>\n",
       "      <td>15.91</td>\n",
       "      <td>457</td>\n",
       "      <td>1</td>\n",
       "    </tr>\n",
       "  </tbody>\n",
       "</table>\n",
       "</div>"
      ]
     },
     "execution_count": 20,
     "metadata": {},
     "output_type": "execute_result"
    }
   ],
   "execution_count": 20
  },
  {
   "cell_type": "code",
   "id": "0cf680b2-69a2-4fd0-b25c-1351772bb2e1",
   "metadata": {
    "ExecuteTime": {
     "end_time": "2024-12-05T14:06:20.902749Z",
     "start_time": "2024-12-05T14:06:20.868886Z"
    }
   },
   "source": [
    "X_new = new_data.drop(TARGET, axis=1)\n",
    "X_new"
   ],
   "outputs": [
    {
     "data": {
      "text/plain": [
       "   age  sex  fatigue  cough_phlegm  chronic_resp_disease  \\\n",
       "0   48    0        1             0                     0   \n",
       "\n",
       "   chronic_kidney_disease  diabetes_mellitus  heart_failure  cancer  \\\n",
       "0                       1                  0              0       1   \n",
       "\n",
       "   systoic_bp  dias_bp  pulse_rate  resp_rate   temp  hemoglobin  hematocrit  \\\n",
       "0         212      111          83         46  36.27         154        0.15   \n",
       "\n",
       "    rbc    wbc  platelets  \n",
       "0  4.48  15.91        457  "
      ],
      "text/html": [
       "<div>\n",
       "<style scoped>\n",
       "    .dataframe tbody tr th:only-of-type {\n",
       "        vertical-align: middle;\n",
       "    }\n",
       "\n",
       "    .dataframe tbody tr th {\n",
       "        vertical-align: top;\n",
       "    }\n",
       "\n",
       "    .dataframe thead th {\n",
       "        text-align: right;\n",
       "    }\n",
       "</style>\n",
       "<table border=\"1\" class=\"dataframe\">\n",
       "  <thead>\n",
       "    <tr style=\"text-align: right;\">\n",
       "      <th></th>\n",
       "      <th>age</th>\n",
       "      <th>sex</th>\n",
       "      <th>fatigue</th>\n",
       "      <th>cough_phlegm</th>\n",
       "      <th>chronic_resp_disease</th>\n",
       "      <th>chronic_kidney_disease</th>\n",
       "      <th>diabetes_mellitus</th>\n",
       "      <th>heart_failure</th>\n",
       "      <th>cancer</th>\n",
       "      <th>systoic_bp</th>\n",
       "      <th>dias_bp</th>\n",
       "      <th>pulse_rate</th>\n",
       "      <th>resp_rate</th>\n",
       "      <th>temp</th>\n",
       "      <th>hemoglobin</th>\n",
       "      <th>hematocrit</th>\n",
       "      <th>rbc</th>\n",
       "      <th>wbc</th>\n",
       "      <th>platelets</th>\n",
       "    </tr>\n",
       "  </thead>\n",
       "  <tbody>\n",
       "    <tr>\n",
       "      <th>0</th>\n",
       "      <td>48</td>\n",
       "      <td>0</td>\n",
       "      <td>1</td>\n",
       "      <td>0</td>\n",
       "      <td>0</td>\n",
       "      <td>1</td>\n",
       "      <td>0</td>\n",
       "      <td>0</td>\n",
       "      <td>1</td>\n",
       "      <td>212</td>\n",
       "      <td>111</td>\n",
       "      <td>83</td>\n",
       "      <td>46</td>\n",
       "      <td>36.27</td>\n",
       "      <td>154</td>\n",
       "      <td>0.15</td>\n",
       "      <td>4.48</td>\n",
       "      <td>15.91</td>\n",
       "      <td>457</td>\n",
       "    </tr>\n",
       "  </tbody>\n",
       "</table>\n",
       "</div>"
      ]
     },
     "execution_count": 21,
     "metadata": {},
     "output_type": "execute_result"
    }
   ],
   "execution_count": 21
  },
  {
   "cell_type": "code",
   "id": "677163c1-935f-41b5-a68e-fc6e42b3cfac",
   "metadata": {
    "ExecuteTime": {
     "end_time": "2024-12-05T14:06:24.848520Z",
     "start_time": "2024-12-05T14:06:24.824283Z"
    }
   },
   "source": [
    "pred = pneumonia_predictor.predict(X_new)"
   ],
   "outputs": [],
   "execution_count": 22
  },
  {
   "cell_type": "code",
   "id": "2602d5f6-213c-43f3-8bbc-f1d1c8a09af5",
   "metadata": {
    "ExecuteTime": {
     "end_time": "2024-12-05T14:06:27.321065Z",
     "start_time": "2024-12-05T14:06:27.311258Z"
    }
   },
   "source": [
    "pred  # expected prediction: 1"
   ],
   "outputs": [
    {
     "data": {
      "text/plain": [
       "array([1])"
      ]
     },
     "execution_count": 23,
     "metadata": {},
     "output_type": "execute_result"
    }
   ],
   "execution_count": 23
  },
  {
   "cell_type": "code",
   "id": "66252010-8dff-4831-aca8-be39bd34fab0",
   "metadata": {
    "ExecuteTime": {
     "end_time": "2024-12-05T14:06:30.551442Z",
     "start_time": "2024-12-05T14:06:30.527618Z"
    }
   },
   "source": [
    "pred_probabilities = pneumonia_predictor.predict_proba(X_new)"
   ],
   "outputs": [],
   "execution_count": 24
  },
  {
   "cell_type": "code",
   "id": "a1a88592-4755-402f-92a5-59d86901f1fe",
   "metadata": {
    "ExecuteTime": {
     "end_time": "2024-12-05T14:06:33.522735Z",
     "start_time": "2024-12-05T14:06:33.514879Z"
    }
   },
   "source": [
    "pred_probabilities"
   ],
   "outputs": [
    {
     "data": {
      "text/plain": [
       "array([[0.21, 0.79]])"
      ]
     },
     "execution_count": 25,
     "metadata": {},
     "output_type": "execute_result"
    }
   ],
   "execution_count": 25
  },
  {
   "cell_type": "code",
   "id": "70c18325-61ae-49be-b63d-a5735b5a14a4",
   "metadata": {
    "ExecuteTime": {
     "end_time": "2024-12-05T14:06:48.812723Z",
     "start_time": "2024-12-05T14:06:47.592704Z"
    }
   },
   "source": [
    "rf_active_smote.display_results(\"acc\")\n",
    "rf_active_smote.display_results(\"min\")\n",
    "rf_active_smote.display_results(\"maj\")\n",
    "rf_active_smote.display_results(\"avg\")"
   ],
   "outputs": [
    {
     "data": {
      "text/plain": [
       "<Figure size 640x480 with 1 Axes>"
      ],
      "image/png": "[encoded data removed]"
     },
     "metadata": {},
     "output_type": "display_data"
    },
    {
     "data": {
      "text/plain": [
       "<Figure size 640x480 with 1 Axes>"
      ],
      "image/png": "[encoded data removed]"
     },
     "metadata": {},
     "output_type": "display_data"
    },
    {
     "data": {
      "text/plain": [
       "<Figure size 640x480 with 1 Axes>"
      ],
      "image/png": "[encoded data removed]"
     },
     "metadata": {},
     "output_type": "display_data"
    },
    {
     "data": {
      "text/plain": [
       "<Figure size 640x480 with 1 Axes>"
      ],
      "image/png": "[encoded data removed]"
     },
     "metadata": {},
     "output_type": "display_data"
    }
   ],
   "execution_count": 26
  },
  {
   "cell_type": "markdown",
   "id": "8ec7fa34-861f-4300-9ca2-acd45f4207ef",
   "metadata": {},
   "source": [
    "## Using Random Forest + SMOTE Only"
   ]
  },
  {
   "cell_type": "code",
   "id": "79cb831a-420b-46a7-a0f0-9af5cf9fbaa4",
   "metadata": {
    "ExecuteTime": {
     "end_time": "2024-12-05T14:07:03.800851Z",
     "start_time": "2024-12-05T14:07:03.789566Z"
    }
   },
   "source": [
    "rf_smote = RfSMOTE(X_train, y_train, X_test, y_test, TARGET)"
   ],
   "outputs": [],
   "execution_count": 27
  },
  {
   "cell_type": "code",
   "id": "50e2ba93-5f48-4895-ae35-5804b1270a98",
   "metadata": {
    "ExecuteTime": {
     "end_time": "2024-12-05T14:07:06.647057Z",
     "start_time": "2024-12-05T14:07:05.954195Z"
    }
   },
   "source": [
    "rf_smote.train()"
   ],
   "outputs": [],
   "execution_count": 28
  },
  {
   "cell_type": "code",
   "id": "3ddc4dce-0ba8-463b-bb65-5aae1379acba",
   "metadata": {
    "ExecuteTime": {
     "end_time": "2024-12-05T14:07:10.820156Z",
     "start_time": "2024-12-05T14:07:10.800148Z"
    }
   },
   "source": [
    "pd.DataFrame(rf_smote.report)"
   ],
   "outputs": [
    {
     "data": {
      "text/plain": [
       "                    0           1  accuracy   macro avg  weighted avg\n",
       "precision    0.516279    0.440000  0.482051    0.478140      0.480878\n",
       "recall       0.531100    0.425414  0.482051    0.478257      0.482051\n",
       "f1-score     0.523585    0.432584  0.482051    0.478085      0.481351\n",
       "support    209.000000  181.000000  0.482051  390.000000    390.000000"
      ],
      "text/html": [
       "<div>\n",
       "<style scoped>\n",
       "    .dataframe tbody tr th:only-of-type {\n",
       "        vertical-align: middle;\n",
       "    }\n",
       "\n",
       "    .dataframe tbody tr th {\n",
       "        vertical-align: top;\n",
       "    }\n",
       "\n",
       "    .dataframe thead th {\n",
       "        text-align: right;\n",
       "    }\n",
       "</style>\n",
       "<table border=\"1\" class=\"dataframe\">\n",
       "  <thead>\n",
       "    <tr style=\"text-align: right;\">\n",
       "      <th></th>\n",
       "      <th>0</th>\n",
       "      <th>1</th>\n",
       "      <th>accuracy</th>\n",
       "      <th>macro avg</th>\n",
       "      <th>weighted avg</th>\n",
       "    </tr>\n",
       "  </thead>\n",
       "  <tbody>\n",
       "    <tr>\n",
       "      <th>precision</th>\n",
       "      <td>0.516279</td>\n",
       "      <td>0.440000</td>\n",
       "      <td>0.482051</td>\n",
       "      <td>0.478140</td>\n",
       "      <td>0.480878</td>\n",
       "    </tr>\n",
       "    <tr>\n",
       "      <th>recall</th>\n",
       "      <td>0.531100</td>\n",
       "      <td>0.425414</td>\n",
       "      <td>0.482051</td>\n",
       "      <td>0.478257</td>\n",
       "      <td>0.482051</td>\n",
       "    </tr>\n",
       "    <tr>\n",
       "      <th>f1-score</th>\n",
       "      <td>0.523585</td>\n",
       "      <td>0.432584</td>\n",
       "      <td>0.482051</td>\n",
       "      <td>0.478085</td>\n",
       "      <td>0.481351</td>\n",
       "    </tr>\n",
       "    <tr>\n",
       "      <th>support</th>\n",
       "      <td>209.000000</td>\n",
       "      <td>181.000000</td>\n",
       "      <td>0.482051</td>\n",
       "      <td>390.000000</td>\n",
       "      <td>390.000000</td>\n",
       "    </tr>\n",
       "  </tbody>\n",
       "</table>\n",
       "</div>"
      ]
     },
     "execution_count": 29,
     "metadata": {},
     "output_type": "execute_result"
    }
   ],
   "execution_count": 29
  },
  {
   "cell_type": "code",
   "id": "8a72fdc8-46c6-488a-9458-8c2b95d7a297",
   "metadata": {
    "ExecuteTime": {
     "end_time": "2024-12-05T14:07:26.131026Z",
     "start_time": "2024-12-05T14:07:26.007245Z"
    }
   },
   "source": "rf_smote.save(\"pneumonia_predictor_rfsmote\")",
   "outputs": [],
   "execution_count": 30
  },
  {
   "cell_type": "code",
   "id": "c3ed7fdc-effa-4344-ac46-f8636953a060",
   "metadata": {
    "ExecuteTime": {
     "end_time": "2024-12-05T14:07:43.948306Z",
     "start_time": "2024-12-05T14:07:43.861766Z"
    }
   },
   "source": "pneumonia_predictor = joblib.load(\"saved_models/pneumonia_predictor_rfsmote.pkl\")",
   "outputs": [],
   "execution_count": 31
  },
  {
   "cell_type": "code",
   "id": "7bed8787-9d69-482c-b29b-b36d2a14c2bf",
   "metadata": {
    "ExecuteTime": {
     "end_time": "2024-12-05T14:08:15.936902Z",
     "start_time": "2024-12-05T14:08:15.887921Z"
    }
   },
   "source": [
    "all_cols = [\n",
    "    \"age\",\n",
    "    \"sex\",\n",
    "    \"fatigue\",\n",
    "    \"cough_phlegm\",\n",
    "    \"chronic_resp_disease\",\n",
    "    \"chronic_kidney_disease\",\n",
    "    \"diabetes_mellitus\",\n",
    "    \"heart_failure\",\n",
    "    \"cancer\",\n",
    "    \"systoic_bp\",\n",
    "    \"dias_bp\",\n",
    "    \"pulse_rate\",\n",
    "    \"resp_rate\",\n",
    "    \"temp\",\n",
    "    \"hemoglobin\",\n",
    "    \"hematocrit\",\n",
    "    \"rbc\",\n",
    "    \"wbc\",\n",
    "    \"platelets\",\n",
    "    TARGET,\n",
    "]\n",
    "new_data = pd.DataFrame(\n",
    "    [[48,0,1,0,0,1,0,0,1,212,111,83,46,36.27,154,0.15,4.48,15.91,457,1]],\n",
    "    columns=all_cols\n",
    ")\n",
    "new_data\n"
   ],
   "outputs": [
    {
     "data": {
      "text/plain": [
       "   age  sex  fatigue  cough_phlegm  chronic_resp_disease  \\\n",
       "0   48    0        1             0                     0   \n",
       "\n",
       "   chronic_kidney_disease  diabetes_mellitus  heart_failure  cancer  \\\n",
       "0                       1                  0              0       1   \n",
       "\n",
       "   systoic_bp  dias_bp  pulse_rate  resp_rate   temp  hemoglobin  hematocrit  \\\n",
       "0         212      111          83         46  36.27         154        0.15   \n",
       "\n",
       "    rbc    wbc  platelets  pneumonia  \n",
       "0  4.48  15.91        457          1  "
      ],
      "text/html": [
       "<div>\n",
       "<style scoped>\n",
       "    .dataframe tbody tr th:only-of-type {\n",
       "        vertical-align: middle;\n",
       "    }\n",
       "\n",
       "    .dataframe tbody tr th {\n",
       "        vertical-align: top;\n",
       "    }\n",
       "\n",
       "    .dataframe thead th {\n",
       "        text-align: right;\n",
       "    }\n",
       "</style>\n",
       "<table border=\"1\" class=\"dataframe\">\n",
       "  <thead>\n",
       "    <tr style=\"text-align: right;\">\n",
       "      <th></th>\n",
       "      <th>age</th>\n",
       "      <th>sex</th>\n",
       "      <th>fatigue</th>\n",
       "      <th>cough_phlegm</th>\n",
       "      <th>chronic_resp_disease</th>\n",
       "      <th>chronic_kidney_disease</th>\n",
       "      <th>diabetes_mellitus</th>\n",
       "      <th>heart_failure</th>\n",
       "      <th>cancer</th>\n",
       "      <th>systoic_bp</th>\n",
       "      <th>dias_bp</th>\n",
       "      <th>pulse_rate</th>\n",
       "      <th>resp_rate</th>\n",
       "      <th>temp</th>\n",
       "      <th>hemoglobin</th>\n",
       "      <th>hematocrit</th>\n",
       "      <th>rbc</th>\n",
       "      <th>wbc</th>\n",
       "      <th>platelets</th>\n",
       "      <th>pneumonia</th>\n",
       "    </tr>\n",
       "  </thead>\n",
       "  <tbody>\n",
       "    <tr>\n",
       "      <th>0</th>\n",
       "      <td>48</td>\n",
       "      <td>0</td>\n",
       "      <td>1</td>\n",
       "      <td>0</td>\n",
       "      <td>0</td>\n",
       "      <td>1</td>\n",
       "      <td>0</td>\n",
       "      <td>0</td>\n",
       "      <td>1</td>\n",
       "      <td>212</td>\n",
       "      <td>111</td>\n",
       "      <td>83</td>\n",
       "      <td>46</td>\n",
       "      <td>36.27</td>\n",
       "      <td>154</td>\n",
       "      <td>0.15</td>\n",
       "      <td>4.48</td>\n",
       "      <td>15.91</td>\n",
       "      <td>457</td>\n",
       "      <td>1</td>\n",
       "    </tr>\n",
       "  </tbody>\n",
       "</table>\n",
       "</div>"
      ]
     },
     "execution_count": 32,
     "metadata": {},
     "output_type": "execute_result"
    }
   ],
   "execution_count": 32
  },
  {
   "cell_type": "code",
   "id": "d73d86dd-b553-42a9-ad14-6efc51b11701",
   "metadata": {
    "ExecuteTime": {
     "end_time": "2024-12-05T14:08:19.073211Z",
     "start_time": "2024-12-05T14:08:19.045015Z"
    }
   },
   "source": [
    "X_new = new_data.drop(TARGET, axis=1)\n",
    "X_new"
   ],
   "outputs": [
    {
     "data": {
      "text/plain": [
       "   age  sex  fatigue  cough_phlegm  chronic_resp_disease  \\\n",
       "0   48    0        1             0                     0   \n",
       "\n",
       "   chronic_kidney_disease  diabetes_mellitus  heart_failure  cancer  \\\n",
       "0                       1                  0              0       1   \n",
       "\n",
       "   systoic_bp  dias_bp  pulse_rate  resp_rate   temp  hemoglobin  hematocrit  \\\n",
       "0         212      111          83         46  36.27         154        0.15   \n",
       "\n",
       "    rbc    wbc  platelets  \n",
       "0  4.48  15.91        457  "
      ],
      "text/html": [
       "<div>\n",
       "<style scoped>\n",
       "    .dataframe tbody tr th:only-of-type {\n",
       "        vertical-align: middle;\n",
       "    }\n",
       "\n",
       "    .dataframe tbody tr th {\n",
       "        vertical-align: top;\n",
       "    }\n",
       "\n",
       "    .dataframe thead th {\n",
       "        text-align: right;\n",
       "    }\n",
       "</style>\n",
       "<table border=\"1\" class=\"dataframe\">\n",
       "  <thead>\n",
       "    <tr style=\"text-align: right;\">\n",
       "      <th></th>\n",
       "      <th>age</th>\n",
       "      <th>sex</th>\n",
       "      <th>fatigue</th>\n",
       "      <th>cough_phlegm</th>\n",
       "      <th>chronic_resp_disease</th>\n",
       "      <th>chronic_kidney_disease</th>\n",
       "      <th>diabetes_mellitus</th>\n",
       "      <th>heart_failure</th>\n",
       "      <th>cancer</th>\n",
       "      <th>systoic_bp</th>\n",
       "      <th>dias_bp</th>\n",
       "      <th>pulse_rate</th>\n",
       "      <th>resp_rate</th>\n",
       "      <th>temp</th>\n",
       "      <th>hemoglobin</th>\n",
       "      <th>hematocrit</th>\n",
       "      <th>rbc</th>\n",
       "      <th>wbc</th>\n",
       "      <th>platelets</th>\n",
       "    </tr>\n",
       "  </thead>\n",
       "  <tbody>\n",
       "    <tr>\n",
       "      <th>0</th>\n",
       "      <td>48</td>\n",
       "      <td>0</td>\n",
       "      <td>1</td>\n",
       "      <td>0</td>\n",
       "      <td>0</td>\n",
       "      <td>1</td>\n",
       "      <td>0</td>\n",
       "      <td>0</td>\n",
       "      <td>1</td>\n",
       "      <td>212</td>\n",
       "      <td>111</td>\n",
       "      <td>83</td>\n",
       "      <td>46</td>\n",
       "      <td>36.27</td>\n",
       "      <td>154</td>\n",
       "      <td>0.15</td>\n",
       "      <td>4.48</td>\n",
       "      <td>15.91</td>\n",
       "      <td>457</td>\n",
       "    </tr>\n",
       "  </tbody>\n",
       "</table>\n",
       "</div>"
      ]
     },
     "execution_count": 33,
     "metadata": {},
     "output_type": "execute_result"
    }
   ],
   "execution_count": 33
  },
  {
   "cell_type": "code",
   "id": "11a33508-87a8-4132-9ef9-93da0f77d65a",
   "metadata": {
    "ExecuteTime": {
     "end_time": "2024-12-05T14:08:23.730452Z",
     "start_time": "2024-12-05T14:08:23.691849Z"
    }
   },
   "source": [
    "pred = pneumonia_predictor.predict(X_new)"
   ],
   "outputs": [],
   "execution_count": 34
  },
  {
   "cell_type": "code",
   "id": "d154d6ca-5119-4329-97a3-66d63d601e44",
   "metadata": {
    "ExecuteTime": {
     "end_time": "2024-12-05T14:08:26.020549Z",
     "start_time": "2024-12-05T14:08:26.009518Z"
    }
   },
   "source": [
    "pred"
   ],
   "outputs": [
    {
     "data": {
      "text/plain": [
       "array([1])"
      ]
     },
     "execution_count": 35,
     "metadata": {},
     "output_type": "execute_result"
    }
   ],
   "execution_count": 35
  },
  {
   "cell_type": "code",
   "id": "60d0d87c-d0dd-437b-8d8b-df265e72c6d1",
   "metadata": {
    "ExecuteTime": {
     "end_time": "2024-12-05T14:08:28.248751Z",
     "start_time": "2024-12-05T14:08:28.226940Z"
    }
   },
   "source": [
    "pred_probabilities = pneumonia_predictor.predict_proba(X_new)"
   ],
   "outputs": [],
   "execution_count": 36
  },
  {
   "cell_type": "code",
   "id": "bdc6220b-9373-4614-9cd4-fbc72c92571e",
   "metadata": {
    "ExecuteTime": {
     "end_time": "2024-12-05T14:08:30.971160Z",
     "start_time": "2024-12-05T14:08:30.960491Z"
    }
   },
   "source": [
    "pred_probabilities"
   ],
   "outputs": [
    {
     "data": {
      "text/plain": [
       "array([[0.18, 0.82]])"
      ]
     },
     "execution_count": 37,
     "metadata": {},
     "output_type": "execute_result"
    }
   ],
   "execution_count": 37
  }
 ],
 "metadata": {
  "kernelspec": {
   "display_name": "Python 3 (ipykernel)",
   "language": "python",
   "name": "python3"
  },
  "language_info": {
   "codemirror_mode": {
    "name": "ipython",
    "version": 3
   },
   "file_extension": ".py",
   "mimetype": "text/x-python",
   "name": "python",
   "nbconvert_exporter": "python",
   "pygments_lexer": "ipython3",
   "version": "3.12.7"
  }
 },
 "nbformat": 4,
 "nbformat_minor": 5
}
