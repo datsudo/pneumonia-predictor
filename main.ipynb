{
 "cells": [
  {
   "cell_type": "markdown",
   "id": "78246066-a003-4596-ae23-68cfdb950e29",
   "metadata": {},
   "source": [
    "<div style=\"margin-bottom: 30px; text-align: center\">\n",
    "    <h1>Pneumonia Admission Predictor</h1>\n",
    "    <p style=\"text-align: center;\">Jan Maverick M. Juat, Dionmelle J. Pardilla, Sthanly Paul L. Malapit, Darylle P. Villanueva </p>\n",
    "</div>\n",
    "This notebook will serve as the setting for preprocessing and training phase for pneumonia admission predictor model."
   ]
  },
  {
   "cell_type": "code",
   "execution_count": 1,
   "id": "c17f453b-d898-4ace-a7dd-1a04c65a9ff2",
   "metadata": {},
   "outputs": [],
   "source": [
    "import time\n",
    "\n",
    "import pandas as pd\n",
    "import numpy as np\n",
    "import matplotlib.pyplot as plt\n",
    "\n",
    "from sklearn.impute import SimpleImputer\n",
    "from sklearn.metrics import confusion_matrix, ConfusionMatrixDisplay\n",
    "from sklearn.model_selection import train_test_split\n",
    "\n",
    "from pneumonia_predictor.backend.utils import get_feature_target_set, check_distribution\n",
    "from pneumonia_predictor.backend.rf_active_smote import RfActiveSMOTE\n",
    "from pneumonia_predictor.backend.rf_smote import RfSMOTE\n",
    "from pneumonia_predictor.backend.tester import ModelTester"
   ]
  },
  {
   "cell_type": "code",
   "execution_count": 2,
   "id": "09d974e9-1bae-4fd7-9376-bb0b27623570",
   "metadata": {},
   "outputs": [],
   "source": [
    "FLOAT_FEATURES = {\n",
    "    \"temp\",\n",
    "    \"hematocrit\",\n",
    "    \"rbc\",\n",
    "    \"wbc\",\n",
    "}\n",
    "RAW_DS = \"datasets/CMH_DS.csv\"\n",
    "TARGET = \"pneumonia\""
   ]
  },
  {
   "cell_type": "markdown",
   "id": "55d59f19-0c14-4a7e-94ab-233c30aae954",
   "metadata": {},
   "source": [
    "## Getting the data"
   ]
  },
  {
   "cell_type": "markdown",
   "id": "8f250e1e-88da-400d-8675-deec4805f862",
   "metadata": {},
   "source": [
    "The dataset was gathered from Cainta Municipal Hospital, with a total of 1,300 samples."
   ]
  },
  {
   "cell_type": "code",
   "execution_count": 3,
   "id": "722de259-b451-4f61-859d-d0eb24d36771",
   "metadata": {},
   "outputs": [],
   "source": [
    "raw_dataset = pd.read_csv(RAW_DS)"
   ]
  },
  {
   "cell_type": "code",
   "execution_count": 4,
   "id": "8f504235-9fc1-4a1b-8128-8411187a169d",
   "metadata": {
    "scrolled": true
   },
   "outputs": [],
   "source": [
    "dataset = raw_dataset.copy()"
   ]
  },
  {
   "cell_type": "code",
   "execution_count": 5,
   "id": "fb956a30-98e3-4da4-b9ec-8fa14eb614ab",
   "metadata": {},
   "outputs": [
    {
     "name": "stdout",
     "output_type": "stream",
     "text": [
      "<class 'pandas.core.frame.DataFrame'>\n",
      "RangeIndex: 1300 entries, 0 to 1299\n",
      "Data columns (total 21 columns):\n",
      " #   Column                  Non-Null Count  Dtype  \n",
      "---  ------                  --------------  -----  \n",
      " 0   age                     1300 non-null   int64  \n",
      " 1   sex                     1300 non-null   int64  \n",
      " 2   fatigue                 1300 non-null   int64  \n",
      " 3   cough_phlegm            1300 non-null   int64  \n",
      " 4   chronic_resp_disease    1300 non-null   int64  \n",
      " 5   chronic_kidney_disease  1300 non-null   int64  \n",
      " 6   heart_failure           1300 non-null   int64  \n",
      " 7   cancer                  1300 non-null   int64  \n",
      " 8   systoic_bp              1300 non-null   int64  \n",
      " 9   dias_bp                 1300 non-null   int64  \n",
      " 10  pulse_rate              1300 non-null   int64  \n",
      " 11  resp_rate               1300 non-null   int64  \n",
      " 12  diabetes_mellitus       1300 non-null   int64  \n",
      " 13  hemoglobin              1273 non-null   float64\n",
      " 14  platelets               1264 non-null   float64\n",
      " 15  cough                   1300 non-null   int64  \n",
      " 16  temp                    1300 non-null   float64\n",
      " 17  hematocrit              1273 non-null   float64\n",
      " 18  rbc                     1273 non-null   float64\n",
      " 19  wbc                     1273 non-null   float64\n",
      " 20  pneumonia               1300 non-null   int64  \n",
      "dtypes: float64(6), int64(15)\n",
      "memory usage: 213.4 KB\n"
     ]
    }
   ],
   "source": [
    "dataset.info()"
   ]
  },
  {
   "cell_type": "code",
   "execution_count": 6,
   "id": "875fd760-2686-4cf6-a689-b1e8b82cdc1d",
   "metadata": {},
   "outputs": [],
   "source": [
    "# Make sure that only those in FLOAT_FEATURES are in float64 data type\n",
    "for f in list(dataset.columns.values):\n",
    "    if f not in FLOAT_FEATURES:\n",
    "        dataset[f] = dataset[f].astype(\"Int64\")"
   ]
  },
  {
   "cell_type": "code",
   "execution_count": 7,
   "id": "036494e8-2422-4f6b-a7b1-a7a9b0d66be1",
   "metadata": {},
   "outputs": [
    {
     "name": "stdout",
     "output_type": "stream",
     "text": [
      "<class 'pandas.core.frame.DataFrame'>\n",
      "RangeIndex: 1300 entries, 0 to 1299\n",
      "Data columns (total 21 columns):\n",
      " #   Column                  Non-Null Count  Dtype  \n",
      "---  ------                  --------------  -----  \n",
      " 0   age                     1300 non-null   Int64  \n",
      " 1   sex                     1300 non-null   Int64  \n",
      " 2   fatigue                 1300 non-null   Int64  \n",
      " 3   cough_phlegm            1300 non-null   Int64  \n",
      " 4   chronic_resp_disease    1300 non-null   Int64  \n",
      " 5   chronic_kidney_disease  1300 non-null   Int64  \n",
      " 6   heart_failure           1300 non-null   Int64  \n",
      " 7   cancer                  1300 non-null   Int64  \n",
      " 8   systoic_bp              1300 non-null   Int64  \n",
      " 9   dias_bp                 1300 non-null   Int64  \n",
      " 10  pulse_rate              1300 non-null   Int64  \n",
      " 11  resp_rate               1300 non-null   Int64  \n",
      " 12  diabetes_mellitus       1300 non-null   Int64  \n",
      " 13  hemoglobin              1273 non-null   Int64  \n",
      " 14  platelets               1264 non-null   Int64  \n",
      " 15  cough                   1300 non-null   Int64  \n",
      " 16  temp                    1300 non-null   float64\n",
      " 17  hematocrit              1273 non-null   float64\n",
      " 18  rbc                     1273 non-null   float64\n",
      " 19  wbc                     1273 non-null   float64\n",
      " 20  pneumonia               1300 non-null   Int64  \n",
      "dtypes: Int64(17), float64(4)\n",
      "memory usage: 235.0 KB\n"
     ]
    }
   ],
   "source": [
    "dataset.info()"
   ]
  },
  {
   "cell_type": "code",
   "execution_count": 8,
   "id": "1821265a-1a20-44a0-b502-ab2ee068e15e",
   "metadata": {},
   "outputs": [],
   "source": [
    "# dataset.to_csv(\"datasets/raw_ds_mod.csv\", index=False)"
   ]
  },
  {
   "cell_type": "markdown",
   "id": "6820a3ca-89e3-41d7-9aff-270c4067e5a2",
   "metadata": {},
   "source": [
    "## Data splitting\n",
    "\n",
    "The next step proceeds to data splitting. The test size will be 30%."
   ]
  },
  {
   "cell_type": "code",
   "execution_count": 9,
   "id": "7859e527-d466-457a-86ec-1d57deed08a4",
   "metadata": {},
   "outputs": [],
   "source": [
    "X, y = get_feature_target_set(dataset, TARGET)"
   ]
  },
  {
   "cell_type": "code",
   "execution_count": 10,
   "id": "c7d178cf-207f-4460-899b-689ee65cefb6",
   "metadata": {},
   "outputs": [],
   "source": [
    "X_train, X_test, y_train, y_test = train_test_split(\n",
    "    X, y, test_size=0.3, random_state=42\n",
    ")"
   ]
  },
  {
   "cell_type": "code",
   "execution_count": 11,
   "id": "51fdc36d-b2e0-462c-b19d-e7aecfb7e7b6",
   "metadata": {},
   "outputs": [
    {
     "name": "stdout",
     "output_type": "stream",
     "text": [
      "<class 'pandas.core.frame.DataFrame'>\n",
      "Index: 390 entries, 478 to 718\n",
      "Data columns (total 20 columns):\n",
      " #   Column                  Non-Null Count  Dtype  \n",
      "---  ------                  --------------  -----  \n",
      " 0   age                     390 non-null    Int64  \n",
      " 1   sex                     390 non-null    Int64  \n",
      " 2   fatigue                 390 non-null    Int64  \n",
      " 3   cough_phlegm            390 non-null    Int64  \n",
      " 4   chronic_resp_disease    390 non-null    Int64  \n",
      " 5   chronic_kidney_disease  390 non-null    Int64  \n",
      " 6   heart_failure           390 non-null    Int64  \n",
      " 7   cancer                  390 non-null    Int64  \n",
      " 8   systoic_bp              390 non-null    Int64  \n",
      " 9   dias_bp                 390 non-null    Int64  \n",
      " 10  pulse_rate              390 non-null    Int64  \n",
      " 11  resp_rate               390 non-null    Int64  \n",
      " 12  diabetes_mellitus       390 non-null    Int64  \n",
      " 13  hemoglobin              383 non-null    Int64  \n",
      " 14  platelets               380 non-null    Int64  \n",
      " 15  cough                   390 non-null    Int64  \n",
      " 16  temp                    390 non-null    float64\n",
      " 17  hematocrit              383 non-null    float64\n",
      " 18  rbc                     383 non-null    float64\n",
      " 19  wbc                     383 non-null    float64\n",
      "dtypes: Int64(16), float64(4)\n",
      "memory usage: 70.1 KB\n"
     ]
    }
   ],
   "source": [
    "X_test.info()"
   ]
  },
  {
   "cell_type": "markdown",
   "id": "84970a4e-701a-4712-8240-376c4aea3612",
   "metadata": {},
   "source": [
    "## Data analysis"
   ]
  },
  {
   "cell_type": "markdown",
   "id": "3f74a490-94c4-4dc4-9b2c-a359e533928e",
   "metadata": {},
   "source": [
    "Below shows that patients with cough (also those with phlegm) has higher risk of pneumonia admission than other factors, with correlation of 72% for cough only and 53% for cough with phlegm."
   ]
  },
  {
   "cell_type": "code",
   "execution_count": 12,
   "id": "c17237fb-b6a7-4bc8-9618-b46afbf7d9fc",
   "metadata": {},
   "outputs": [
    {
     "data": {
      "text/plain": [
       "pneumonia                 1.000000\n",
       "cough                     0.696609\n",
       "chronic_resp_disease      0.523696\n",
       "cough_phlegm              0.515876\n",
       "age                       0.266315\n",
       "fatigue                   0.232099\n",
       "heart_failure             0.209023\n",
       "diabetes_mellitus         0.200119\n",
       "pulse_rate                0.157050\n",
       "wbc                       0.115636\n",
       "resp_rate                 0.107485\n",
       "temp                      0.094872\n",
       "sex                       0.090762\n",
       "chronic_kidney_disease    0.062353\n",
       "hematocrit                0.058740\n",
       "cancer                    0.053808\n",
       "rbc                       0.046271\n",
       "hemoglobin                0.032205\n",
       "platelets                 0.031863\n",
       "dias_bp                   0.001272\n",
       "systoic_bp               -0.017226\n",
       "Name: pneumonia, dtype: float64"
      ]
     },
     "execution_count": 12,
     "metadata": {},
     "output_type": "execute_result"
    }
   ],
   "source": [
    "corr_matrix = dataset.corr()\n",
    "corr_matrix[\"pneumonia\"].sort_values(ascending=False)"
   ]
  },
  {
   "cell_type": "markdown",
   "id": "a077eeb8-eacf-43cb-8b32-b16b14f09559",
   "metadata": {},
   "source": [
    "The dataset is imbalanced, as expected from medical health records. The total of patients admitted with pneumonia are only 27.2%."
   ]
  },
  {
   "cell_type": "code",
   "execution_count": 13,
   "id": "5cc11f47-f53f-4d5b-b2c6-fa4d8f3a7e8c",
   "metadata": {},
   "outputs": [
    {
     "data": {
      "image/png": "[encoded data removed]",
      "text/plain": [
       "<Figure size 600x600 with 1 Axes>"
      ]
     },
     "metadata": {},
     "output_type": "display_data"
    }
   ],
   "source": [
    "check_distribution(\n",
    "    dataset,\n",
    "    TARGET,\n",
    "    \"Distribution of Pneumonia Admissions\",\n",
    "    \"Admitted NOT Due to Pneumonia\",\n",
    "    \"Admitted DUE to Pneumonia\",\n",
    ")"
   ]
  },
  {
   "cell_type": "markdown",
   "id": "9ba6a384-4541-47b8-ae16-f441d24d3f3c",
   "metadata": {},
   "source": [
    "## Handle missing values"
   ]
  },
  {
   "cell_type": "code",
   "execution_count": 14,
   "id": "78bac975-2c7e-4b72-9218-51ecb8c518c9",
   "metadata": {},
   "outputs": [],
   "source": [
    "median_imputer = SimpleImputer(strategy=\"median\")\n",
    "mean_imputer = SimpleImputer(strategy=\"mean\")"
   ]
  },
  {
   "cell_type": "code",
   "execution_count": 15,
   "id": "facf0710-3d9e-4756-87a1-12cda5271f04",
   "metadata": {},
   "outputs": [],
   "source": [
    "# X but only with int columns\n",
    "X_ints = X[\n",
    "    [int_feat for int_feat in list(X.columns.values) if int_feat not in FLOAT_FEATURES]\n",
    "]"
   ]
  },
  {
   "cell_type": "code",
   "execution_count": 16,
   "id": "9c12727f-e9fd-4942-b700-f11fb5060e78",
   "metadata": {},
   "outputs": [
    {
     "name": "stdout",
     "output_type": "stream",
     "text": [
      "<class 'pandas.core.frame.DataFrame'>\n",
      "RangeIndex: 1300 entries, 0 to 1299\n",
      "Data columns (total 16 columns):\n",
      " #   Column                  Non-Null Count  Dtype\n",
      "---  ------                  --------------  -----\n",
      " 0   age                     1300 non-null   Int64\n",
      " 1   sex                     1300 non-null   Int64\n",
      " 2   fatigue                 1300 non-null   Int64\n",
      " 3   cough_phlegm            1300 non-null   Int64\n",
      " 4   chronic_resp_disease    1300 non-null   Int64\n",
      " 5   chronic_kidney_disease  1300 non-null   Int64\n",
      " 6   heart_failure           1300 non-null   Int64\n",
      " 7   cancer                  1300 non-null   Int64\n",
      " 8   systoic_bp              1300 non-null   Int64\n",
      " 9   dias_bp                 1300 non-null   Int64\n",
      " 10  pulse_rate              1300 non-null   Int64\n",
      " 11  resp_rate               1300 non-null   Int64\n",
      " 12  diabetes_mellitus       1300 non-null   Int64\n",
      " 13  hemoglobin              1273 non-null   Int64\n",
      " 14  platelets               1264 non-null   Int64\n",
      " 15  cough                   1300 non-null   Int64\n",
      "dtypes: Int64(16)\n",
      "memory usage: 182.9 KB\n"
     ]
    }
   ],
   "source": [
    "X_ints.info()"
   ]
  },
  {
   "cell_type": "code",
   "execution_count": 17,
   "id": "08f4b959-ed7e-44a5-9a86-d4fceb53f5b1",
   "metadata": {},
   "outputs": [
    {
     "data": {
      "text/html": [
       "<style>#sk-container-id-1 {\n",
       "  /* Definition of color scheme common for light and dark mode */\n",
       "  --sklearn-color-text: black;\n",
       "  --sklearn-color-line: gray;\n",
       "  /* Definition of color scheme for unfitted estimators */\n",
       "  --sklearn-color-unfitted-level-0: #fff5e6;\n",
       "  --sklearn-color-unfitted-level-1: #f6e4d2;\n",
       "  --sklearn-color-unfitted-level-2: #ffe0b3;\n",
       "  --sklearn-color-unfitted-level-3: chocolate;\n",
       "  /* Definition of color scheme for fitted estimators */\n",
       "  --sklearn-color-fitted-level-0: #f0f8ff;\n",
       "  --sklearn-color-fitted-level-1: #d4ebff;\n",
       "  --sklearn-color-fitted-level-2: #b3dbfd;\n",
       "  --sklearn-color-fitted-level-3: cornflowerblue;\n",
       "\n",
       "  /* Specific color for light theme */\n",
       "  --sklearn-color-text-on-default-background: var(--sg-text-color, var(--theme-code-foreground, var(--jp-content-font-color1, black)));\n",
       "  --sklearn-color-background: var(--sg-background-color, var(--theme-background, var(--jp-layout-color0, white)));\n",
       "  --sklearn-color-border-box: var(--sg-text-color, var(--theme-code-foreground, var(--jp-content-font-color1, black)));\n",
       "  --sklearn-color-icon: #696969;\n",
       "\n",
       "  @media (prefers-color-scheme: dark) {\n",
       "    /* Redefinition of color scheme for dark theme */\n",
       "    --sklearn-color-text-on-default-background: var(--sg-text-color, var(--theme-code-foreground, var(--jp-content-font-color1, white)));\n",
       "    --sklearn-color-background: var(--sg-background-color, var(--theme-background, var(--jp-layout-color0, #111)));\n",
       "    --sklearn-color-border-box: var(--sg-text-color, var(--theme-code-foreground, var(--jp-content-font-color1, white)));\n",
       "    --sklearn-color-icon: #878787;\n",
       "  }\n",
       "}\n",
       "\n",
       "#sk-container-id-1 {\n",
       "  color: var(--sklearn-color-text);\n",
       "}\n",
       "\n",
       "#sk-container-id-1 pre {\n",
       "  padding: 0;\n",
       "}\n",
       "\n",
       "#sk-container-id-1 input.sk-hidden--visually {\n",
       "  border: 0;\n",
       "  clip: rect(1px 1px 1px 1px);\n",
       "  clip: rect(1px, 1px, 1px, 1px);\n",
       "  height: 1px;\n",
       "  margin: -1px;\n",
       "  overflow: hidden;\n",
       "  padding: 0;\n",
       "  position: absolute;\n",
       "  width: 1px;\n",
       "}\n",
       "\n",
       "#sk-container-id-1 div.sk-dashed-wrapped {\n",
       "  border: 1px dashed var(--sklearn-color-line);\n",
       "  margin: 0 0.4em 0.5em 0.4em;\n",
       "  box-sizing: border-box;\n",
       "  padding-bottom: 0.4em;\n",
       "  background-color: var(--sklearn-color-background);\n",
       "}\n",
       "\n",
       "#sk-container-id-1 div.sk-container {\n",
       "  /* jupyter's `normalize.less` sets `[hidden] { display: none; }`\n",
       "     but bootstrap.min.css set `[hidden] { display: none !important; }`\n",
       "     so we also need the `!important` here to be able to override the\n",
       "     default hidden behavior on the sphinx rendered scikit-learn.org.\n",
       "     See: https://github.com/scikit-learn/scikit-learn/issues/21755 */\n",
       "  display: inline-block !important;\n",
       "  position: relative;\n",
       "}\n",
       "\n",
       "#sk-container-id-1 div.sk-text-repr-fallback {\n",
       "  display: none;\n",
       "}\n",
       "\n",
       "div.sk-parallel-item,\n",
       "div.sk-serial,\n",
       "div.sk-item {\n",
       "  /* draw centered vertical line to link estimators */\n",
       "  background-image: linear-gradient(var(--sklearn-color-text-on-default-background), var(--sklearn-color-text-on-default-background));\n",
       "  background-size: 2px 100%;\n",
       "  background-repeat: no-repeat;\n",
       "  background-position: center center;\n",
       "}\n",
       "\n",
       "/* Parallel-specific style estimator block */\n",
       "\n",
       "#sk-container-id-1 div.sk-parallel-item::after {\n",
       "  content: \"\";\n",
       "  width: 100%;\n",
       "  border-bottom: 2px solid var(--sklearn-color-text-on-default-background);\n",
       "  flex-grow: 1;\n",
       "}\n",
       "\n",
       "#sk-container-id-1 div.sk-parallel {\n",
       "  display: flex;\n",
       "  align-items: stretch;\n",
       "  justify-content: center;\n",
       "  background-color: var(--sklearn-color-background);\n",
       "  position: relative;\n",
       "}\n",
       "\n",
       "#sk-container-id-1 div.sk-parallel-item {\n",
       "  display: flex;\n",
       "  flex-direction: column;\n",
       "}\n",
       "\n",
       "#sk-container-id-1 div.sk-parallel-item:first-child::after {\n",
       "  align-self: flex-end;\n",
       "  width: 50%;\n",
       "}\n",
       "\n",
       "#sk-container-id-1 div.sk-parallel-item:last-child::after {\n",
       "  align-self: flex-start;\n",
       "  width: 50%;\n",
       "}\n",
       "\n",
       "#sk-container-id-1 div.sk-parallel-item:only-child::after {\n",
       "  width: 0;\n",
       "}\n",
       "\n",
       "/* Serial-specific style estimator block */\n",
       "\n",
       "#sk-container-id-1 div.sk-serial {\n",
       "  display: flex;\n",
       "  flex-direction: column;\n",
       "  align-items: center;\n",
       "  background-color: var(--sklearn-color-background);\n",
       "  padding-right: 1em;\n",
       "  padding-left: 1em;\n",
       "}\n",
       "\n",
       "\n",
       "/* Toggleable style: style used for estimator/Pipeline/ColumnTransformer box that is\n",
       "clickable and can be expanded/collapsed.\n",
       "- Pipeline and ColumnTransformer use this feature and define the default style\n",
       "- Estimators will overwrite some part of the style using the `sk-estimator` class\n",
       "*/\n",
       "\n",
       "/* Pipeline and ColumnTransformer style (default) */\n",
       "\n",
       "#sk-container-id-1 div.sk-toggleable {\n",
       "  /* Default theme specific background. It is overwritten whether we have a\n",
       "  specific estimator or a Pipeline/ColumnTransformer */\n",
       "  background-color: var(--sklearn-color-background);\n",
       "}\n",
       "\n",
       "/* Toggleable label */\n",
       "#sk-container-id-1 label.sk-toggleable__label {\n",
       "  cursor: pointer;\n",
       "  display: block;\n",
       "  width: 100%;\n",
       "  margin-bottom: 0;\n",
       "  padding: 0.5em;\n",
       "  box-sizing: border-box;\n",
       "  text-align: center;\n",
       "}\n",
       "\n",
       "#sk-container-id-1 label.sk-toggleable__label-arrow:before {\n",
       "  /* Arrow on the left of the label */\n",
       "  content: \"▸\";\n",
       "  float: left;\n",
       "  margin-right: 0.25em;\n",
       "  color: var(--sklearn-color-icon);\n",
       "}\n",
       "\n",
       "#sk-container-id-1 label.sk-toggleable__label-arrow:hover:before {\n",
       "  color: var(--sklearn-color-text);\n",
       "}\n",
       "\n",
       "/* Toggleable content - dropdown */\n",
       "\n",
       "#sk-container-id-1 div.sk-toggleable__content {\n",
       "  max-height: 0;\n",
       "  max-width: 0;\n",
       "  overflow: hidden;\n",
       "  text-align: left;\n",
       "  /* unfitted */\n",
       "  background-color: var(--sklearn-color-unfitted-level-0);\n",
       "}\n",
       "\n",
       "#sk-container-id-1 div.sk-toggleable__content.fitted {\n",
       "  /* fitted */\n",
       "  background-color: var(--sklearn-color-fitted-level-0);\n",
       "}\n",
       "\n",
       "#sk-container-id-1 div.sk-toggleable__content pre {\n",
       "  margin: 0.2em;\n",
       "  border-radius: 0.25em;\n",
       "  color: var(--sklearn-color-text);\n",
       "  /* unfitted */\n",
       "  background-color: var(--sklearn-color-unfitted-level-0);\n",
       "}\n",
       "\n",
       "#sk-container-id-1 div.sk-toggleable__content.fitted pre {\n",
       "  /* unfitted */\n",
       "  background-color: var(--sklearn-color-fitted-level-0);\n",
       "}\n",
       "\n",
       "#sk-container-id-1 input.sk-toggleable__control:checked~div.sk-toggleable__content {\n",
       "  /* Expand drop-down */\n",
       "  max-height: 200px;\n",
       "  max-width: 100%;\n",
       "  overflow: auto;\n",
       "}\n",
       "\n",
       "#sk-container-id-1 input.sk-toggleable__control:checked~label.sk-toggleable__label-arrow:before {\n",
       "  content: \"▾\";\n",
       "}\n",
       "\n",
       "/* Pipeline/ColumnTransformer-specific style */\n",
       "\n",
       "#sk-container-id-1 div.sk-label input.sk-toggleable__control:checked~label.sk-toggleable__label {\n",
       "  color: var(--sklearn-color-text);\n",
       "  background-color: var(--sklearn-color-unfitted-level-2);\n",
       "}\n",
       "\n",
       "#sk-container-id-1 div.sk-label.fitted input.sk-toggleable__control:checked~label.sk-toggleable__label {\n",
       "  background-color: var(--sklearn-color-fitted-level-2);\n",
       "}\n",
       "\n",
       "/* Estimator-specific style */\n",
       "\n",
       "/* Colorize estimator box */\n",
       "#sk-container-id-1 div.sk-estimator input.sk-toggleable__control:checked~label.sk-toggleable__label {\n",
       "  /* unfitted */\n",
       "  background-color: var(--sklearn-color-unfitted-level-2);\n",
       "}\n",
       "\n",
       "#sk-container-id-1 div.sk-estimator.fitted input.sk-toggleable__control:checked~label.sk-toggleable__label {\n",
       "  /* fitted */\n",
       "  background-color: var(--sklearn-color-fitted-level-2);\n",
       "}\n",
       "\n",
       "#sk-container-id-1 div.sk-label label.sk-toggleable__label,\n",
       "#sk-container-id-1 div.sk-label label {\n",
       "  /* The background is the default theme color */\n",
       "  color: var(--sklearn-color-text-on-default-background);\n",
       "}\n",
       "\n",
       "/* On hover, darken the color of the background */\n",
       "#sk-container-id-1 div.sk-label:hover label.sk-toggleable__label {\n",
       "  color: var(--sklearn-color-text);\n",
       "  background-color: var(--sklearn-color-unfitted-level-2);\n",
       "}\n",
       "\n",
       "/* Label box, darken color on hover, fitted */\n",
       "#sk-container-id-1 div.sk-label.fitted:hover label.sk-toggleable__label.fitted {\n",
       "  color: var(--sklearn-color-text);\n",
       "  background-color: var(--sklearn-color-fitted-level-2);\n",
       "}\n",
       "\n",
       "/* Estimator label */\n",
       "\n",
       "#sk-container-id-1 div.sk-label label {\n",
       "  font-family: monospace;\n",
       "  font-weight: bold;\n",
       "  display: inline-block;\n",
       "  line-height: 1.2em;\n",
       "}\n",
       "\n",
       "#sk-container-id-1 div.sk-label-container {\n",
       "  text-align: center;\n",
       "}\n",
       "\n",
       "/* Estimator-specific */\n",
       "#sk-container-id-1 div.sk-estimator {\n",
       "  font-family: monospace;\n",
       "  border: 1px dotted var(--sklearn-color-border-box);\n",
       "  border-radius: 0.25em;\n",
       "  box-sizing: border-box;\n",
       "  margin-bottom: 0.5em;\n",
       "  /* unfitted */\n",
       "  background-color: var(--sklearn-color-unfitted-level-0);\n",
       "}\n",
       "\n",
       "#sk-container-id-1 div.sk-estimator.fitted {\n",
       "  /* fitted */\n",
       "  background-color: var(--sklearn-color-fitted-level-0);\n",
       "}\n",
       "\n",
       "/* on hover */\n",
       "#sk-container-id-1 div.sk-estimator:hover {\n",
       "  /* unfitted */\n",
       "  background-color: var(--sklearn-color-unfitted-level-2);\n",
       "}\n",
       "\n",
       "#sk-container-id-1 div.sk-estimator.fitted:hover {\n",
       "  /* fitted */\n",
       "  background-color: var(--sklearn-color-fitted-level-2);\n",
       "}\n",
       "\n",
       "/* Specification for estimator info (e.g. \"i\" and \"?\") */\n",
       "\n",
       "/* Common style for \"i\" and \"?\" */\n",
       "\n",
       ".sk-estimator-doc-link,\n",
       "a:link.sk-estimator-doc-link,\n",
       "a:visited.sk-estimator-doc-link {\n",
       "  float: right;\n",
       "  font-size: smaller;\n",
       "  line-height: 1em;\n",
       "  font-family: monospace;\n",
       "  background-color: var(--sklearn-color-background);\n",
       "  border-radius: 1em;\n",
       "  height: 1em;\n",
       "  width: 1em;\n",
       "  text-decoration: none !important;\n",
       "  margin-left: 1ex;\n",
       "  /* unfitted */\n",
       "  border: var(--sklearn-color-unfitted-level-1) 1pt solid;\n",
       "  color: var(--sklearn-color-unfitted-level-1);\n",
       "}\n",
       "\n",
       ".sk-estimator-doc-link.fitted,\n",
       "a:link.sk-estimator-doc-link.fitted,\n",
       "a:visited.sk-estimator-doc-link.fitted {\n",
       "  /* fitted */\n",
       "  border: var(--sklearn-color-fitted-level-1) 1pt solid;\n",
       "  color: var(--sklearn-color-fitted-level-1);\n",
       "}\n",
       "\n",
       "/* On hover */\n",
       "div.sk-estimator:hover .sk-estimator-doc-link:hover,\n",
       ".sk-estimator-doc-link:hover,\n",
       "div.sk-label-container:hover .sk-estimator-doc-link:hover,\n",
       ".sk-estimator-doc-link:hover {\n",
       "  /* unfitted */\n",
       "  background-color: var(--sklearn-color-unfitted-level-3);\n",
       "  color: var(--sklearn-color-background);\n",
       "  text-decoration: none;\n",
       "}\n",
       "\n",
       "div.sk-estimator.fitted:hover .sk-estimator-doc-link.fitted:hover,\n",
       ".sk-estimator-doc-link.fitted:hover,\n",
       "div.sk-label-container:hover .sk-estimator-doc-link.fitted:hover,\n",
       ".sk-estimator-doc-link.fitted:hover {\n",
       "  /* fitted */\n",
       "  background-color: var(--sklearn-color-fitted-level-3);\n",
       "  color: var(--sklearn-color-background);\n",
       "  text-decoration: none;\n",
       "}\n",
       "\n",
       "/* Span, style for the box shown on hovering the info icon */\n",
       ".sk-estimator-doc-link span {\n",
       "  display: none;\n",
       "  z-index: 9999;\n",
       "  position: relative;\n",
       "  font-weight: normal;\n",
       "  right: .2ex;\n",
       "  padding: .5ex;\n",
       "  margin: .5ex;\n",
       "  width: min-content;\n",
       "  min-width: 20ex;\n",
       "  max-width: 50ex;\n",
       "  color: var(--sklearn-color-text);\n",
       "  box-shadow: 2pt 2pt 4pt #999;\n",
       "  /* unfitted */\n",
       "  background: var(--sklearn-color-unfitted-level-0);\n",
       "  border: .5pt solid var(--sklearn-color-unfitted-level-3);\n",
       "}\n",
       "\n",
       ".sk-estimator-doc-link.fitted span {\n",
       "  /* fitted */\n",
       "  background: var(--sklearn-color-fitted-level-0);\n",
       "  border: var(--sklearn-color-fitted-level-3);\n",
       "}\n",
       "\n",
       ".sk-estimator-doc-link:hover span {\n",
       "  display: block;\n",
       "}\n",
       "\n",
       "/* \"?\"-specific style due to the `<a>` HTML tag */\n",
       "\n",
       "#sk-container-id-1 a.estimator_doc_link {\n",
       "  float: right;\n",
       "  font-size: 1rem;\n",
       "  line-height: 1em;\n",
       "  font-family: monospace;\n",
       "  background-color: var(--sklearn-color-background);\n",
       "  border-radius: 1rem;\n",
       "  height: 1rem;\n",
       "  width: 1rem;\n",
       "  text-decoration: none;\n",
       "  /* unfitted */\n",
       "  color: var(--sklearn-color-unfitted-level-1);\n",
       "  border: var(--sklearn-color-unfitted-level-1) 1pt solid;\n",
       "}\n",
       "\n",
       "#sk-container-id-1 a.estimator_doc_link.fitted {\n",
       "  /* fitted */\n",
       "  border: var(--sklearn-color-fitted-level-1) 1pt solid;\n",
       "  color: var(--sklearn-color-fitted-level-1);\n",
       "}\n",
       "\n",
       "/* On hover */\n",
       "#sk-container-id-1 a.estimator_doc_link:hover {\n",
       "  /* unfitted */\n",
       "  background-color: var(--sklearn-color-unfitted-level-3);\n",
       "  color: var(--sklearn-color-background);\n",
       "  text-decoration: none;\n",
       "}\n",
       "\n",
       "#sk-container-id-1 a.estimator_doc_link.fitted:hover {\n",
       "  /* fitted */\n",
       "  background-color: var(--sklearn-color-fitted-level-3);\n",
       "}\n",
       "</style><div id=\"sk-container-id-1\" class=\"sk-top-container\"><div class=\"sk-text-repr-fallback\"><pre>SimpleImputer(strategy=&#x27;median&#x27;)</pre><b>In a Jupyter environment, please rerun this cell to show the HTML representation or trust the notebook. <br />On GitHub, the HTML representation is unable to render, please try loading this page with nbviewer.org.</b></div><div class=\"sk-container\" hidden><div class=\"sk-item\"><div class=\"sk-estimator fitted sk-toggleable\"><input class=\"sk-toggleable__control sk-hidden--visually\" id=\"sk-estimator-id-1\" type=\"checkbox\" checked><label for=\"sk-estimator-id-1\" class=\"sk-toggleable__label fitted sk-toggleable__label-arrow fitted\">&nbsp;&nbsp;SimpleImputer<a class=\"sk-estimator-doc-link fitted\" rel=\"noreferrer\" target=\"_blank\" href=\"https://scikit-learn.org/1.5/modules/generated/sklearn.impute.SimpleImputer.html\">?<span>Documentation for SimpleImputer</span></a><span class=\"sk-estimator-doc-link fitted\">i<span>Fitted</span></span></label><div class=\"sk-toggleable__content fitted\"><pre>SimpleImputer(strategy=&#x27;median&#x27;)</pre></div> </div></div></div></div>"
      ],
      "text/plain": [
       "SimpleImputer(strategy='median')"
      ]
     },
     "execution_count": 17,
     "metadata": {},
     "output_type": "execute_result"
    }
   ],
   "source": [
    "median_imputer.fit(X_ints)"
   ]
  },
  {
   "cell_type": "code",
   "execution_count": 18,
   "id": "4aa36dac-41ff-42a3-82da-68b1c76fd107",
   "metadata": {},
   "outputs": [
    {
     "data": {
      "text/plain": [
       "array([ 53.,   0.,   1.,   0.,   0.,   0.,   0.,   0., 120.,  80.,  89.,\n",
       "        21.,   0., 122., 276.,   0.])"
      ]
     },
     "execution_count": 18,
     "metadata": {},
     "output_type": "execute_result"
    }
   ],
   "source": [
    "median_imputer.statistics_"
   ]
  },
  {
   "cell_type": "code",
   "execution_count": 19,
   "id": "bdee52ac-aeae-450c-ba46-b0e2f9240cf5",
   "metadata": {},
   "outputs": [],
   "source": [
    "X_train_ints = X_train[\n",
    "    [\n",
    "        int_feat\n",
    "        for int_feat in list(X_train.columns.values)\n",
    "        if int_feat not in FLOAT_FEATURES\n",
    "    ]\n",
    "]"
   ]
  },
  {
   "cell_type": "code",
   "execution_count": 20,
   "id": "cca5622b-3f8b-4b66-9ebf-ced95db1817d",
   "metadata": {},
   "outputs": [
    {
     "name": "stdout",
     "output_type": "stream",
     "text": [
      "<class 'pandas.core.frame.DataFrame'>\n",
      "Index: 910 entries, 777 to 1126\n",
      "Data columns (total 16 columns):\n",
      " #   Column                  Non-Null Count  Dtype\n",
      "---  ------                  --------------  -----\n",
      " 0   age                     910 non-null    Int64\n",
      " 1   sex                     910 non-null    Int64\n",
      " 2   fatigue                 910 non-null    Int64\n",
      " 3   cough_phlegm            910 non-null    Int64\n",
      " 4   chronic_resp_disease    910 non-null    Int64\n",
      " 5   chronic_kidney_disease  910 non-null    Int64\n",
      " 6   heart_failure           910 non-null    Int64\n",
      " 7   cancer                  910 non-null    Int64\n",
      " 8   systoic_bp              910 non-null    Int64\n",
      " 9   dias_bp                 910 non-null    Int64\n",
      " 10  pulse_rate              910 non-null    Int64\n",
      " 11  resp_rate               910 non-null    Int64\n",
      " 12  diabetes_mellitus       910 non-null    Int64\n",
      " 13  hemoglobin              890 non-null    Int64\n",
      " 14  platelets               884 non-null    Int64\n",
      " 15  cough                   910 non-null    Int64\n",
      "dtypes: Int64(16)\n",
      "memory usage: 135.1 KB\n"
     ]
    }
   ],
   "source": [
    "X_train_ints.info()"
   ]
  },
  {
   "cell_type": "code",
   "execution_count": 21,
   "id": "4dd8de92-fef6-469d-85c4-4ac890be4d93",
   "metadata": {},
   "outputs": [],
   "source": [
    "X_train_ints_transformed = median_imputer.transform(X_train_ints)"
   ]
  },
  {
   "cell_type": "code",
   "execution_count": 22,
   "id": "0491cc19-32f1-496e-8b8a-c14bf2295810",
   "metadata": {},
   "outputs": [],
   "source": [
    "X_train_ints = pd.DataFrame(\n",
    "    X_train_ints_transformed, columns=X_train_ints.columns, index=X_train_ints.index\n",
    ")"
   ]
  },
  {
   "cell_type": "code",
   "execution_count": 23,
   "id": "9c1fe9e2-9644-4c33-8ab7-b8c845a76fc7",
   "metadata": {},
   "outputs": [
    {
     "name": "stdout",
     "output_type": "stream",
     "text": [
      "<class 'pandas.core.frame.DataFrame'>\n",
      "Index: 910 entries, 777 to 1126\n",
      "Data columns (total 16 columns):\n",
      " #   Column                  Non-Null Count  Dtype  \n",
      "---  ------                  --------------  -----  \n",
      " 0   age                     910 non-null    float64\n",
      " 1   sex                     910 non-null    float64\n",
      " 2   fatigue                 910 non-null    float64\n",
      " 3   cough_phlegm            910 non-null    float64\n",
      " 4   chronic_resp_disease    910 non-null    float64\n",
      " 5   chronic_kidney_disease  910 non-null    float64\n",
      " 6   heart_failure           910 non-null    float64\n",
      " 7   cancer                  910 non-null    float64\n",
      " 8   systoic_bp              910 non-null    float64\n",
      " 9   dias_bp                 910 non-null    float64\n",
      " 10  pulse_rate              910 non-null    float64\n",
      " 11  resp_rate               910 non-null    float64\n",
      " 12  diabetes_mellitus       910 non-null    float64\n",
      " 13  hemoglobin              910 non-null    float64\n",
      " 14  platelets               910 non-null    float64\n",
      " 15  cough                   910 non-null    float64\n",
      "dtypes: float64(16)\n",
      "memory usage: 120.9 KB\n"
     ]
    }
   ],
   "source": [
    "X_train_ints.info()"
   ]
  },
  {
   "cell_type": "code",
   "execution_count": 24,
   "id": "263ae2a2-75f0-4c66-8f31-e5b94152d487",
   "metadata": {},
   "outputs": [],
   "source": [
    "# X but only with float columns\n",
    "X_floats = X[\n",
    "    [\n",
    "        float_feat\n",
    "        for float_feat in list(X.columns.values)\n",
    "        if float_feat in FLOAT_FEATURES\n",
    "    ]\n",
    "]"
   ]
  },
  {
   "cell_type": "code",
   "execution_count": 25,
   "id": "ac2b5cdb-1c43-48ae-b2d5-33a2216aa602",
   "metadata": {},
   "outputs": [
    {
     "name": "stdout",
     "output_type": "stream",
     "text": [
      "<class 'pandas.core.frame.DataFrame'>\n",
      "RangeIndex: 1300 entries, 0 to 1299\n",
      "Data columns (total 4 columns):\n",
      " #   Column      Non-Null Count  Dtype  \n",
      "---  ------      --------------  -----  \n",
      " 0   temp        1300 non-null   float64\n",
      " 1   hematocrit  1273 non-null   float64\n",
      " 2   rbc         1273 non-null   float64\n",
      " 3   wbc         1273 non-null   float64\n",
      "dtypes: float64(4)\n",
      "memory usage: 40.8 KB\n"
     ]
    }
   ],
   "source": [
    "X_floats.info()"
   ]
  },
  {
   "cell_type": "code",
   "execution_count": 26,
   "id": "cb480513-d1f7-4549-b83d-308781bcfce2",
   "metadata": {},
   "outputs": [
    {
     "data": {
      "text/html": [
       "<style>#sk-container-id-2 {\n",
       "  /* Definition of color scheme common for light and dark mode */\n",
       "  --sklearn-color-text: black;\n",
       "  --sklearn-color-line: gray;\n",
       "  /* Definition of color scheme for unfitted estimators */\n",
       "  --sklearn-color-unfitted-level-0: #fff5e6;\n",
       "  --sklearn-color-unfitted-level-1: #f6e4d2;\n",
       "  --sklearn-color-unfitted-level-2: #ffe0b3;\n",
       "  --sklearn-color-unfitted-level-3: chocolate;\n",
       "  /* Definition of color scheme for fitted estimators */\n",
       "  --sklearn-color-fitted-level-0: #f0f8ff;\n",
       "  --sklearn-color-fitted-level-1: #d4ebff;\n",
       "  --sklearn-color-fitted-level-2: #b3dbfd;\n",
       "  --sklearn-color-fitted-level-3: cornflowerblue;\n",
       "\n",
       "  /* Specific color for light theme */\n",
       "  --sklearn-color-text-on-default-background: var(--sg-text-color, var(--theme-code-foreground, var(--jp-content-font-color1, black)));\n",
       "  --sklearn-color-background: var(--sg-background-color, var(--theme-background, var(--jp-layout-color0, white)));\n",
       "  --sklearn-color-border-box: var(--sg-text-color, var(--theme-code-foreground, var(--jp-content-font-color1, black)));\n",
       "  --sklearn-color-icon: #696969;\n",
       "\n",
       "  @media (prefers-color-scheme: dark) {\n",
       "    /* Redefinition of color scheme for dark theme */\n",
       "    --sklearn-color-text-on-default-background: var(--sg-text-color, var(--theme-code-foreground, var(--jp-content-font-color1, white)));\n",
       "    --sklearn-color-background: var(--sg-background-color, var(--theme-background, var(--jp-layout-color0, #111)));\n",
       "    --sklearn-color-border-box: var(--sg-text-color, var(--theme-code-foreground, var(--jp-content-font-color1, white)));\n",
       "    --sklearn-color-icon: #878787;\n",
       "  }\n",
       "}\n",
       "\n",
       "#sk-container-id-2 {\n",
       "  color: var(--sklearn-color-text);\n",
       "}\n",
       "\n",
       "#sk-container-id-2 pre {\n",
       "  padding: 0;\n",
       "}\n",
       "\n",
       "#sk-container-id-2 input.sk-hidden--visually {\n",
       "  border: 0;\n",
       "  clip: rect(1px 1px 1px 1px);\n",
       "  clip: rect(1px, 1px, 1px, 1px);\n",
       "  height: 1px;\n",
       "  margin: -1px;\n",
       "  overflow: hidden;\n",
       "  padding: 0;\n",
       "  position: absolute;\n",
       "  width: 1px;\n",
       "}\n",
       "\n",
       "#sk-container-id-2 div.sk-dashed-wrapped {\n",
       "  border: 1px dashed var(--sklearn-color-line);\n",
       "  margin: 0 0.4em 0.5em 0.4em;\n",
       "  box-sizing: border-box;\n",
       "  padding-bottom: 0.4em;\n",
       "  background-color: var(--sklearn-color-background);\n",
       "}\n",
       "\n",
       "#sk-container-id-2 div.sk-container {\n",
       "  /* jupyter's `normalize.less` sets `[hidden] { display: none; }`\n",
       "     but bootstrap.min.css set `[hidden] { display: none !important; }`\n",
       "     so we also need the `!important` here to be able to override the\n",
       "     default hidden behavior on the sphinx rendered scikit-learn.org.\n",
       "     See: https://github.com/scikit-learn/scikit-learn/issues/21755 */\n",
       "  display: inline-block !important;\n",
       "  position: relative;\n",
       "}\n",
       "\n",
       "#sk-container-id-2 div.sk-text-repr-fallback {\n",
       "  display: none;\n",
       "}\n",
       "\n",
       "div.sk-parallel-item,\n",
       "div.sk-serial,\n",
       "div.sk-item {\n",
       "  /* draw centered vertical line to link estimators */\n",
       "  background-image: linear-gradient(var(--sklearn-color-text-on-default-background), var(--sklearn-color-text-on-default-background));\n",
       "  background-size: 2px 100%;\n",
       "  background-repeat: no-repeat;\n",
       "  background-position: center center;\n",
       "}\n",
       "\n",
       "/* Parallel-specific style estimator block */\n",
       "\n",
       "#sk-container-id-2 div.sk-parallel-item::after {\n",
       "  content: \"\";\n",
       "  width: 100%;\n",
       "  border-bottom: 2px solid var(--sklearn-color-text-on-default-background);\n",
       "  flex-grow: 1;\n",
       "}\n",
       "\n",
       "#sk-container-id-2 div.sk-parallel {\n",
       "  display: flex;\n",
       "  align-items: stretch;\n",
       "  justify-content: center;\n",
       "  background-color: var(--sklearn-color-background);\n",
       "  position: relative;\n",
       "}\n",
       "\n",
       "#sk-container-id-2 div.sk-parallel-item {\n",
       "  display: flex;\n",
       "  flex-direction: column;\n",
       "}\n",
       "\n",
       "#sk-container-id-2 div.sk-parallel-item:first-child::after {\n",
       "  align-self: flex-end;\n",
       "  width: 50%;\n",
       "}\n",
       "\n",
       "#sk-container-id-2 div.sk-parallel-item:last-child::after {\n",
       "  align-self: flex-start;\n",
       "  width: 50%;\n",
       "}\n",
       "\n",
       "#sk-container-id-2 div.sk-parallel-item:only-child::after {\n",
       "  width: 0;\n",
       "}\n",
       "\n",
       "/* Serial-specific style estimator block */\n",
       "\n",
       "#sk-container-id-2 div.sk-serial {\n",
       "  display: flex;\n",
       "  flex-direction: column;\n",
       "  align-items: center;\n",
       "  background-color: var(--sklearn-color-background);\n",
       "  padding-right: 1em;\n",
       "  padding-left: 1em;\n",
       "}\n",
       "\n",
       "\n",
       "/* Toggleable style: style used for estimator/Pipeline/ColumnTransformer box that is\n",
       "clickable and can be expanded/collapsed.\n",
       "- Pipeline and ColumnTransformer use this feature and define the default style\n",
       "- Estimators will overwrite some part of the style using the `sk-estimator` class\n",
       "*/\n",
       "\n",
       "/* Pipeline and ColumnTransformer style (default) */\n",
       "\n",
       "#sk-container-id-2 div.sk-toggleable {\n",
       "  /* Default theme specific background. It is overwritten whether we have a\n",
       "  specific estimator or a Pipeline/ColumnTransformer */\n",
       "  background-color: var(--sklearn-color-background);\n",
       "}\n",
       "\n",
       "/* Toggleable label */\n",
       "#sk-container-id-2 label.sk-toggleable__label {\n",
       "  cursor: pointer;\n",
       "  display: block;\n",
       "  width: 100%;\n",
       "  margin-bottom: 0;\n",
       "  padding: 0.5em;\n",
       "  box-sizing: border-box;\n",
       "  text-align: center;\n",
       "}\n",
       "\n",
       "#sk-container-id-2 label.sk-toggleable__label-arrow:before {\n",
       "  /* Arrow on the left of the label */\n",
       "  content: \"▸\";\n",
       "  float: left;\n",
       "  margin-right: 0.25em;\n",
       "  color: var(--sklearn-color-icon);\n",
       "}\n",
       "\n",
       "#sk-container-id-2 label.sk-toggleable__label-arrow:hover:before {\n",
       "  color: var(--sklearn-color-text);\n",
       "}\n",
       "\n",
       "/* Toggleable content - dropdown */\n",
       "\n",
       "#sk-container-id-2 div.sk-toggleable__content {\n",
       "  max-height: 0;\n",
       "  max-width: 0;\n",
       "  overflow: hidden;\n",
       "  text-align: left;\n",
       "  /* unfitted */\n",
       "  background-color: var(--sklearn-color-unfitted-level-0);\n",
       "}\n",
       "\n",
       "#sk-container-id-2 div.sk-toggleable__content.fitted {\n",
       "  /* fitted */\n",
       "  background-color: var(--sklearn-color-fitted-level-0);\n",
       "}\n",
       "\n",
       "#sk-container-id-2 div.sk-toggleable__content pre {\n",
       "  margin: 0.2em;\n",
       "  border-radius: 0.25em;\n",
       "  color: var(--sklearn-color-text);\n",
       "  /* unfitted */\n",
       "  background-color: var(--sklearn-color-unfitted-level-0);\n",
       "}\n",
       "\n",
       "#sk-container-id-2 div.sk-toggleable__content.fitted pre {\n",
       "  /* unfitted */\n",
       "  background-color: var(--sklearn-color-fitted-level-0);\n",
       "}\n",
       "\n",
       "#sk-container-id-2 input.sk-toggleable__control:checked~div.sk-toggleable__content {\n",
       "  /* Expand drop-down */\n",
       "  max-height: 200px;\n",
       "  max-width: 100%;\n",
       "  overflow: auto;\n",
       "}\n",
       "\n",
       "#sk-container-id-2 input.sk-toggleable__control:checked~label.sk-toggleable__label-arrow:before {\n",
       "  content: \"▾\";\n",
       "}\n",
       "\n",
       "/* Pipeline/ColumnTransformer-specific style */\n",
       "\n",
       "#sk-container-id-2 div.sk-label input.sk-toggleable__control:checked~label.sk-toggleable__label {\n",
       "  color: var(--sklearn-color-text);\n",
       "  background-color: var(--sklearn-color-unfitted-level-2);\n",
       "}\n",
       "\n",
       "#sk-container-id-2 div.sk-label.fitted input.sk-toggleable__control:checked~label.sk-toggleable__label {\n",
       "  background-color: var(--sklearn-color-fitted-level-2);\n",
       "}\n",
       "\n",
       "/* Estimator-specific style */\n",
       "\n",
       "/* Colorize estimator box */\n",
       "#sk-container-id-2 div.sk-estimator input.sk-toggleable__control:checked~label.sk-toggleable__label {\n",
       "  /* unfitted */\n",
       "  background-color: var(--sklearn-color-unfitted-level-2);\n",
       "}\n",
       "\n",
       "#sk-container-id-2 div.sk-estimator.fitted input.sk-toggleable__control:checked~label.sk-toggleable__label {\n",
       "  /* fitted */\n",
       "  background-color: var(--sklearn-color-fitted-level-2);\n",
       "}\n",
       "\n",
       "#sk-container-id-2 div.sk-label label.sk-toggleable__label,\n",
       "#sk-container-id-2 div.sk-label label {\n",
       "  /* The background is the default theme color */\n",
       "  color: var(--sklearn-color-text-on-default-background);\n",
       "}\n",
       "\n",
       "/* On hover, darken the color of the background */\n",
       "#sk-container-id-2 div.sk-label:hover label.sk-toggleable__label {\n",
       "  color: var(--sklearn-color-text);\n",
       "  background-color: var(--sklearn-color-unfitted-level-2);\n",
       "}\n",
       "\n",
       "/* Label box, darken color on hover, fitted */\n",
       "#sk-container-id-2 div.sk-label.fitted:hover label.sk-toggleable__label.fitted {\n",
       "  color: var(--sklearn-color-text);\n",
       "  background-color: var(--sklearn-color-fitted-level-2);\n",
       "}\n",
       "\n",
       "/* Estimator label */\n",
       "\n",
       "#sk-container-id-2 div.sk-label label {\n",
       "  font-family: monospace;\n",
       "  font-weight: bold;\n",
       "  display: inline-block;\n",
       "  line-height: 1.2em;\n",
       "}\n",
       "\n",
       "#sk-container-id-2 div.sk-label-container {\n",
       "  text-align: center;\n",
       "}\n",
       "\n",
       "/* Estimator-specific */\n",
       "#sk-container-id-2 div.sk-estimator {\n",
       "  font-family: monospace;\n",
       "  border: 1px dotted var(--sklearn-color-border-box);\n",
       "  border-radius: 0.25em;\n",
       "  box-sizing: border-box;\n",
       "  margin-bottom: 0.5em;\n",
       "  /* unfitted */\n",
       "  background-color: var(--sklearn-color-unfitted-level-0);\n",
       "}\n",
       "\n",
       "#sk-container-id-2 div.sk-estimator.fitted {\n",
       "  /* fitted */\n",
       "  background-color: var(--sklearn-color-fitted-level-0);\n",
       "}\n",
       "\n",
       "/* on hover */\n",
       "#sk-container-id-2 div.sk-estimator:hover {\n",
       "  /* unfitted */\n",
       "  background-color: var(--sklearn-color-unfitted-level-2);\n",
       "}\n",
       "\n",
       "#sk-container-id-2 div.sk-estimator.fitted:hover {\n",
       "  /* fitted */\n",
       "  background-color: var(--sklearn-color-fitted-level-2);\n",
       "}\n",
       "\n",
       "/* Specification for estimator info (e.g. \"i\" and \"?\") */\n",
       "\n",
       "/* Common style for \"i\" and \"?\" */\n",
       "\n",
       ".sk-estimator-doc-link,\n",
       "a:link.sk-estimator-doc-link,\n",
       "a:visited.sk-estimator-doc-link {\n",
       "  float: right;\n",
       "  font-size: smaller;\n",
       "  line-height: 1em;\n",
       "  font-family: monospace;\n",
       "  background-color: var(--sklearn-color-background);\n",
       "  border-radius: 1em;\n",
       "  height: 1em;\n",
       "  width: 1em;\n",
       "  text-decoration: none !important;\n",
       "  margin-left: 1ex;\n",
       "  /* unfitted */\n",
       "  border: var(--sklearn-color-unfitted-level-1) 1pt solid;\n",
       "  color: var(--sklearn-color-unfitted-level-1);\n",
       "}\n",
       "\n",
       ".sk-estimator-doc-link.fitted,\n",
       "a:link.sk-estimator-doc-link.fitted,\n",
       "a:visited.sk-estimator-doc-link.fitted {\n",
       "  /* fitted */\n",
       "  border: var(--sklearn-color-fitted-level-1) 1pt solid;\n",
       "  color: var(--sklearn-color-fitted-level-1);\n",
       "}\n",
       "\n",
       "/* On hover */\n",
       "div.sk-estimator:hover .sk-estimator-doc-link:hover,\n",
       ".sk-estimator-doc-link:hover,\n",
       "div.sk-label-container:hover .sk-estimator-doc-link:hover,\n",
       ".sk-estimator-doc-link:hover {\n",
       "  /* unfitted */\n",
       "  background-color: var(--sklearn-color-unfitted-level-3);\n",
       "  color: var(--sklearn-color-background);\n",
       "  text-decoration: none;\n",
       "}\n",
       "\n",
       "div.sk-estimator.fitted:hover .sk-estimator-doc-link.fitted:hover,\n",
       ".sk-estimator-doc-link.fitted:hover,\n",
       "div.sk-label-container:hover .sk-estimator-doc-link.fitted:hover,\n",
       ".sk-estimator-doc-link.fitted:hover {\n",
       "  /* fitted */\n",
       "  background-color: var(--sklearn-color-fitted-level-3);\n",
       "  color: var(--sklearn-color-background);\n",
       "  text-decoration: none;\n",
       "}\n",
       "\n",
       "/* Span, style for the box shown on hovering the info icon */\n",
       ".sk-estimator-doc-link span {\n",
       "  display: none;\n",
       "  z-index: 9999;\n",
       "  position: relative;\n",
       "  font-weight: normal;\n",
       "  right: .2ex;\n",
       "  padding: .5ex;\n",
       "  margin: .5ex;\n",
       "  width: min-content;\n",
       "  min-width: 20ex;\n",
       "  max-width: 50ex;\n",
       "  color: var(--sklearn-color-text);\n",
       "  box-shadow: 2pt 2pt 4pt #999;\n",
       "  /* unfitted */\n",
       "  background: var(--sklearn-color-unfitted-level-0);\n",
       "  border: .5pt solid var(--sklearn-color-unfitted-level-3);\n",
       "}\n",
       "\n",
       ".sk-estimator-doc-link.fitted span {\n",
       "  /* fitted */\n",
       "  background: var(--sklearn-color-fitted-level-0);\n",
       "  border: var(--sklearn-color-fitted-level-3);\n",
       "}\n",
       "\n",
       ".sk-estimator-doc-link:hover span {\n",
       "  display: block;\n",
       "}\n",
       "\n",
       "/* \"?\"-specific style due to the `<a>` HTML tag */\n",
       "\n",
       "#sk-container-id-2 a.estimator_doc_link {\n",
       "  float: right;\n",
       "  font-size: 1rem;\n",
       "  line-height: 1em;\n",
       "  font-family: monospace;\n",
       "  background-color: var(--sklearn-color-background);\n",
       "  border-radius: 1rem;\n",
       "  height: 1rem;\n",
       "  width: 1rem;\n",
       "  text-decoration: none;\n",
       "  /* unfitted */\n",
       "  color: var(--sklearn-color-unfitted-level-1);\n",
       "  border: var(--sklearn-color-unfitted-level-1) 1pt solid;\n",
       "}\n",
       "\n",
       "#sk-container-id-2 a.estimator_doc_link.fitted {\n",
       "  /* fitted */\n",
       "  border: var(--sklearn-color-fitted-level-1) 1pt solid;\n",
       "  color: var(--sklearn-color-fitted-level-1);\n",
       "}\n",
       "\n",
       "/* On hover */\n",
       "#sk-container-id-2 a.estimator_doc_link:hover {\n",
       "  /* unfitted */\n",
       "  background-color: var(--sklearn-color-unfitted-level-3);\n",
       "  color: var(--sklearn-color-background);\n",
       "  text-decoration: none;\n",
       "}\n",
       "\n",
       "#sk-container-id-2 a.estimator_doc_link.fitted:hover {\n",
       "  /* fitted */\n",
       "  background-color: var(--sklearn-color-fitted-level-3);\n",
       "}\n",
       "</style><div id=\"sk-container-id-2\" class=\"sk-top-container\"><div class=\"sk-text-repr-fallback\"><pre>SimpleImputer()</pre><b>In a Jupyter environment, please rerun this cell to show the HTML representation or trust the notebook. <br />On GitHub, the HTML representation is unable to render, please try loading this page with nbviewer.org.</b></div><div class=\"sk-container\" hidden><div class=\"sk-item\"><div class=\"sk-estimator fitted sk-toggleable\"><input class=\"sk-toggleable__control sk-hidden--visually\" id=\"sk-estimator-id-2\" type=\"checkbox\" checked><label for=\"sk-estimator-id-2\" class=\"sk-toggleable__label fitted sk-toggleable__label-arrow fitted\">&nbsp;&nbsp;SimpleImputer<a class=\"sk-estimator-doc-link fitted\" rel=\"noreferrer\" target=\"_blank\" href=\"https://scikit-learn.org/1.5/modules/generated/sklearn.impute.SimpleImputer.html\">?<span>Documentation for SimpleImputer</span></a><span class=\"sk-estimator-doc-link fitted\">i<span>Fitted</span></span></label><div class=\"sk-toggleable__content fitted\"><pre>SimpleImputer()</pre></div> </div></div></div></div>"
      ],
      "text/plain": [
       "SimpleImputer()"
      ]
     },
     "execution_count": 26,
     "metadata": {},
     "output_type": "execute_result"
    }
   ],
   "source": [
    "mean_imputer.fit(X_floats)"
   ]
  },
  {
   "cell_type": "code",
   "execution_count": 27,
   "id": "09737436-02d9-4e19-be24-f0a8669987e3",
   "metadata": {},
   "outputs": [
    {
     "data": {
      "text/plain": [
       "array([36.52756923,  0.35734485,  4.08697565, 11.23984289])"
      ]
     },
     "execution_count": 27,
     "metadata": {},
     "output_type": "execute_result"
    }
   ],
   "source": [
    "mean_imputer.statistics_"
   ]
  },
  {
   "cell_type": "code",
   "execution_count": 28,
   "id": "bbdae3c4-dcca-47c6-83a3-3d8510ad77e7",
   "metadata": {},
   "outputs": [],
   "source": [
    "X_train_floats = X_train[\n",
    "    [\n",
    "        float_feat\n",
    "        for float_feat in list(X_train.columns.values)\n",
    "        if float_feat in FLOAT_FEATURES\n",
    "    ]\n",
    "]"
   ]
  },
  {
   "cell_type": "code",
   "execution_count": 29,
   "id": "baeaff54-c603-4a45-ae37-85dc5b48b36a",
   "metadata": {},
   "outputs": [
    {
     "name": "stdout",
     "output_type": "stream",
     "text": [
      "<class 'pandas.core.frame.DataFrame'>\n",
      "Index: 910 entries, 777 to 1126\n",
      "Data columns (total 4 columns):\n",
      " #   Column      Non-Null Count  Dtype  \n",
      "---  ------      --------------  -----  \n",
      " 0   temp        910 non-null    float64\n",
      " 1   hematocrit  890 non-null    float64\n",
      " 2   rbc         890 non-null    float64\n",
      " 3   wbc         890 non-null    float64\n",
      "dtypes: float64(4)\n",
      "memory usage: 35.5 KB\n"
     ]
    }
   ],
   "source": [
    "X_train_floats.info()"
   ]
  },
  {
   "cell_type": "code",
   "execution_count": 30,
   "id": "f5054137-fe22-4bc0-b3d4-ffa2b1a46df0",
   "metadata": {},
   "outputs": [],
   "source": [
    "X_train_floats_transformed = mean_imputer.transform(X_train_floats)"
   ]
  },
  {
   "cell_type": "code",
   "execution_count": 31,
   "id": "d9ad17cd-7509-4c69-ad9b-80f04e778ca4",
   "metadata": {},
   "outputs": [],
   "source": [
    "X_train_floats = pd.DataFrame(\n",
    "    X_train_floats_transformed,\n",
    "    columns=X_train_floats.columns,\n",
    "    index=X_train_floats.index,\n",
    ")"
   ]
  },
  {
   "cell_type": "code",
   "execution_count": 32,
   "id": "6a310139-a91b-4f7d-9ca3-708dcb81f344",
   "metadata": {},
   "outputs": [
    {
     "name": "stdout",
     "output_type": "stream",
     "text": [
      "<class 'pandas.core.frame.DataFrame'>\n",
      "Index: 910 entries, 777 to 1126\n",
      "Data columns (total 4 columns):\n",
      " #   Column      Non-Null Count  Dtype  \n",
      "---  ------      --------------  -----  \n",
      " 0   temp        910 non-null    float64\n",
      " 1   hematocrit  910 non-null    float64\n",
      " 2   rbc         910 non-null    float64\n",
      " 3   wbc         910 non-null    float64\n",
      "dtypes: float64(4)\n",
      "memory usage: 35.5 KB\n"
     ]
    }
   ],
   "source": [
    "X_train_floats.info()"
   ]
  },
  {
   "cell_type": "code",
   "execution_count": 33,
   "id": "67dfd66a-57f0-4ee5-9431-5bf1884ca75b",
   "metadata": {},
   "outputs": [],
   "source": [
    "X_train = pd.concat([X_train_ints, X_train_floats], axis=1)"
   ]
  },
  {
   "cell_type": "code",
   "execution_count": 34,
   "id": "f000ad3e-d120-4e7d-b3c3-89ffd53b3045",
   "metadata": {},
   "outputs": [
    {
     "name": "stdout",
     "output_type": "stream",
     "text": [
      "<class 'pandas.core.frame.DataFrame'>\n",
      "Index: 910 entries, 777 to 1126\n",
      "Data columns (total 20 columns):\n",
      " #   Column                  Non-Null Count  Dtype  \n",
      "---  ------                  --------------  -----  \n",
      " 0   age                     910 non-null    float64\n",
      " 1   sex                     910 non-null    float64\n",
      " 2   fatigue                 910 non-null    float64\n",
      " 3   cough_phlegm            910 non-null    float64\n",
      " 4   chronic_resp_disease    910 non-null    float64\n",
      " 5   chronic_kidney_disease  910 non-null    float64\n",
      " 6   heart_failure           910 non-null    float64\n",
      " 7   cancer                  910 non-null    float64\n",
      " 8   systoic_bp              910 non-null    float64\n",
      " 9   dias_bp                 910 non-null    float64\n",
      " 10  pulse_rate              910 non-null    float64\n",
      " 11  resp_rate               910 non-null    float64\n",
      " 12  diabetes_mellitus       910 non-null    float64\n",
      " 13  hemoglobin              910 non-null    float64\n",
      " 14  platelets               910 non-null    float64\n",
      " 15  cough                   910 non-null    float64\n",
      " 16  temp                    910 non-null    float64\n",
      " 17  hematocrit              910 non-null    float64\n",
      " 18  rbc                     910 non-null    float64\n",
      " 19  wbc                     910 non-null    float64\n",
      "dtypes: float64(20)\n",
      "memory usage: 149.3 KB\n"
     ]
    }
   ],
   "source": [
    "X_train.info()"
   ]
  },
  {
   "cell_type": "markdown",
   "id": "9c66f819-282a-4828-a750-dacaa1687100",
   "metadata": {},
   "source": [
    "Since the `X_train`'s arrangement of columns changed, we need to also change `X_test`."
   ]
  },
  {
   "cell_type": "code",
   "execution_count": 35,
   "id": "77f09e3d-5840-4d1d-a702-cf9052f5ceff",
   "metadata": {},
   "outputs": [],
   "source": [
    "X_test_ints = X_test[\n",
    "    [\n",
    "        int_feat\n",
    "        for int_feat in list(X_test.columns.values)\n",
    "        if int_feat not in FLOAT_FEATURES\n",
    "    ]\n",
    "]\n",
    "X_test_floats = X_test[\n",
    "    [\n",
    "        float_feat\n",
    "        for float_feat in list(X_test.columns.values)\n",
    "        if float_feat in FLOAT_FEATURES\n",
    "    ]\n",
    "]\n",
    "X_test = pd.concat([X_test_ints, X_test_floats], axis=1)"
   ]
  },
  {
   "cell_type": "code",
   "execution_count": 36,
   "id": "476aee6f-16c8-469c-8e77-27391cd67b0a",
   "metadata": {
    "scrolled": true
   },
   "outputs": [
    {
     "name": "stdout",
     "output_type": "stream",
     "text": [
      "<class 'pandas.core.frame.DataFrame'>\n",
      "Index: 390 entries, 478 to 718\n",
      "Data columns (total 20 columns):\n",
      " #   Column                  Non-Null Count  Dtype  \n",
      "---  ------                  --------------  -----  \n",
      " 0   age                     390 non-null    Int64  \n",
      " 1   sex                     390 non-null    Int64  \n",
      " 2   fatigue                 390 non-null    Int64  \n",
      " 3   cough_phlegm            390 non-null    Int64  \n",
      " 4   chronic_resp_disease    390 non-null    Int64  \n",
      " 5   chronic_kidney_disease  390 non-null    Int64  \n",
      " 6   heart_failure           390 non-null    Int64  \n",
      " 7   cancer                  390 non-null    Int64  \n",
      " 8   systoic_bp              390 non-null    Int64  \n",
      " 9   dias_bp                 390 non-null    Int64  \n",
      " 10  pulse_rate              390 non-null    Int64  \n",
      " 11  resp_rate               390 non-null    Int64  \n",
      " 12  diabetes_mellitus       390 non-null    Int64  \n",
      " 13  hemoglobin              383 non-null    Int64  \n",
      " 14  platelets               380 non-null    Int64  \n",
      " 15  cough                   390 non-null    Int64  \n",
      " 16  temp                    390 non-null    float64\n",
      " 17  hematocrit              383 non-null    float64\n",
      " 18  rbc                     383 non-null    float64\n",
      " 19  wbc                     383 non-null    float64\n",
      "dtypes: Int64(16), float64(4)\n",
      "memory usage: 70.1 KB\n"
     ]
    }
   ],
   "source": [
    "X_test.info()"
   ]
  },
  {
   "cell_type": "code",
   "execution_count": 37,
   "id": "68f35a32-3c51-4a61-bbdb-f34f7fac1815",
   "metadata": {},
   "outputs": [],
   "source": [
    "for f in list(X_test.columns):\n",
    "    X_test[f] = X_test[f].astype(\"float64\")"
   ]
  },
  {
   "cell_type": "code",
   "execution_count": 38,
   "id": "022ed21e-d769-4dc2-9842-4699037b676b",
   "metadata": {},
   "outputs": [
    {
     "name": "stdout",
     "output_type": "stream",
     "text": [
      "<class 'pandas.core.frame.DataFrame'>\n",
      "Index: 390 entries, 478 to 718\n",
      "Data columns (total 20 columns):\n",
      " #   Column                  Non-Null Count  Dtype  \n",
      "---  ------                  --------------  -----  \n",
      " 0   age                     390 non-null    float64\n",
      " 1   sex                     390 non-null    float64\n",
      " 2   fatigue                 390 non-null    float64\n",
      " 3   cough_phlegm            390 non-null    float64\n",
      " 4   chronic_resp_disease    390 non-null    float64\n",
      " 5   chronic_kidney_disease  390 non-null    float64\n",
      " 6   heart_failure           390 non-null    float64\n",
      " 7   cancer                  390 non-null    float64\n",
      " 8   systoic_bp              390 non-null    float64\n",
      " 9   dias_bp                 390 non-null    float64\n",
      " 10  pulse_rate              390 non-null    float64\n",
      " 11  resp_rate               390 non-null    float64\n",
      " 12  diabetes_mellitus       390 non-null    float64\n",
      " 13  hemoglobin              383 non-null    float64\n",
      " 14  platelets               380 non-null    float64\n",
      " 15  cough                   390 non-null    float64\n",
      " 16  temp                    390 non-null    float64\n",
      " 17  hematocrit              383 non-null    float64\n",
      " 18  rbc                     383 non-null    float64\n",
      " 19  wbc                     383 non-null    float64\n",
      "dtypes: float64(20)\n",
      "memory usage: 64.0 KB\n"
     ]
    }
   ],
   "source": [
    "X_test.info()"
   ]
  },
  {
   "cell_type": "code",
   "execution_count": 39,
   "id": "e8c7aa7f-194e-4bd4-8d1e-ee2dc91083bf",
   "metadata": {},
   "outputs": [],
   "source": [
    "CATEG_FEATURES = [3, 4, 5, 6, 7, 12, 15]"
   ]
  },
  {
   "cell_type": "markdown",
   "id": "ba71a538-2c46-4839-9953-122b1fe0f138",
   "metadata": {},
   "source": [
    "## Training"
   ]
  },
  {
   "cell_type": "markdown",
   "id": "edcc8478-8291-4478-bc7f-c5f227ab878a",
   "metadata": {},
   "source": [
    "### RF + Active SMOTE\n",
    "\n",
    "`RfActiveSMOTE` combines `ActiveSMOTE` and `RandomForestClassifier`. The training undergoes several `N_ITERATIONS` (defined in [Bootstrap](#Bootstrap)) that will generate synthetic samples to balance the dataset. A brief overview `model.train(n_iterations: int)`'s implementation (can be accessed at\n",
    "`pneumonia_predictor/backend/rf_active_smote.py`):\n",
    "```python\n",
    "RfActiveSMOTE.train(n_iterations: int):\n",
    "    RfActiveSMOTE.fit_classifier()\n",
    "    ActiveSMOTE.probabilities = RfActiveSMOTE.classifier.predict_proba(X_train)\n",
    "    for i in range(n_iterations):\n",
    "        ActiveSMOTE.uncertainty_sampling()\n",
    "        ActiveSMOTE.diversity_sampling()\n",
    "        ActiveSMOTE.create_synthetic_samples(sampling_ratio)\n",
    "        concat(total_synthetic_samples, current_synthetic_samples)\n",
    "        RfActiveSMOTE.fit_classifier()\n",
    "```\n",
    "\n",
    "The `ActiveSMOTE` implementation can be accessed at `pneumonia_predictor/backend/active_smote.py`."
   ]
  },
  {
   "cell_type": "code",
   "execution_count": 40,
   "id": "dd64815f-2a6f-43ba-ab2d-1648b40f6aec",
   "metadata": {},
   "outputs": [],
   "source": [
    "rf_active_smote = RfActiveSMOTE(\n",
    "    X_train, y_train, X_test, y_test, TARGET, CATEG_FEATURES\n",
    ")"
   ]
  },
  {
   "cell_type": "code",
   "execution_count": 41,
   "id": "78a9f77a-7711-4389-a36a-e75d79214cfb",
   "metadata": {},
   "outputs": [],
   "source": [
    "rf_active_smote.train()"
   ]
  },
  {
   "cell_type": "code",
   "execution_count": 42,
   "id": "89a64c1c-0842-4b4f-8bb7-0059d574f668",
   "metadata": {},
   "outputs": [
    {
     "data": {
      "image/png": "[encoded data removed]",
      "text/plain": [
       "<Figure size 600x600 with 1 Axes>"
      ]
     },
     "metadata": {},
     "output_type": "display_data"
    }
   ],
   "source": [
    "check_distribution(\n",
    "    rf_active_smote.y_train_resampled,\n",
    "    TARGET,\n",
    "    \"Distribution of Pneumonia Admissions\",\n",
    "    \"Admitted NOT Due to Pneumonia\",\n",
    "    \"Admitted DUE to Pneumonia\",\n",
    ")"
   ]
  },
  {
   "cell_type": "markdown",
   "id": "e3ea6188-bc73-48c4-8efa-3289e6701dbb",
   "metadata": {},
   "source": [
    "# RF + SMOTE"
   ]
  },
  {
   "cell_type": "code",
   "execution_count": 43,
   "id": "1af3ab51-e553-4c24-9c2c-925b96de8c74",
   "metadata": {},
   "outputs": [],
   "source": [
    "rf_smote = RfSMOTE(X_train, y_train, X_test, y_test, TARGET, CATEG_FEATURES)"
   ]
  },
  {
   "cell_type": "code",
   "execution_count": 44,
   "id": "a9e41483-8d25-4ae7-9ab4-b6371f66aef3",
   "metadata": {},
   "outputs": [],
   "source": [
    "rf_smote.train()"
   ]
  },
  {
   "cell_type": "markdown",
   "id": "fd942148-ff30-411b-af09-6df7b191118b",
   "metadata": {},
   "source": [
    "## Experiment"
   ]
  },
  {
   "cell_type": "code",
   "execution_count": 45,
   "id": "78f4eb3c-3618-4556-88f4-5da45620f3a3",
   "metadata": {},
   "outputs": [],
   "source": [
    "tester = ModelTester(rf_smote, rf_active_smote)"
   ]
  },
  {
   "cell_type": "code",
   "execution_count": 46,
   "id": "f52570b3-34bb-4584-8d7d-4816d3d18cd0",
   "metadata": {},
   "outputs": [],
   "source": [
    "tester.run_tests(10)"
   ]
  },
  {
   "cell_type": "code",
   "execution_count": 47,
   "id": "46456765-972a-4b04-855b-526022b393e3",
   "metadata": {},
   "outputs": [
    {
     "data": {
      "text/html": [
       "<div>\n",
       "<style scoped>\n",
       "    .dataframe tbody tr th:only-of-type {\n",
       "        vertical-align: middle;\n",
       "    }\n",
       "\n",
       "    .dataframe tbody tr th {\n",
       "        vertical-align: top;\n",
       "    }\n",
       "\n",
       "    .dataframe thead th {\n",
       "        text-align: right;\n",
       "    }\n",
       "</style>\n",
       "<table border=\"1\" class=\"dataframe\">\n",
       "  <thead>\n",
       "    <tr style=\"text-align: right;\">\n",
       "      <th></th>\n",
       "      <th>Test</th>\n",
       "      <th>accuracy</th>\n",
       "      <th>precision</th>\n",
       "      <th>recall</th>\n",
       "      <th>f1-score</th>\n",
       "      <th>Average</th>\n",
       "    </tr>\n",
       "  </thead>\n",
       "  <tbody>\n",
       "    <tr>\n",
       "      <th>0</th>\n",
       "      <td>1</td>\n",
       "      <td>0.897436</td>\n",
       "      <td>0.891633</td>\n",
       "      <td>0.897436</td>\n",
       "      <td>0.891273</td>\n",
       "      <td>0.894444</td>\n",
       "    </tr>\n",
       "    <tr>\n",
       "      <th>1</th>\n",
       "      <td>2</td>\n",
       "      <td>0.907692</td>\n",
       "      <td>0.903391</td>\n",
       "      <td>0.907692</td>\n",
       "      <td>0.902145</td>\n",
       "      <td>0.905230</td>\n",
       "    </tr>\n",
       "    <tr>\n",
       "      <th>2</th>\n",
       "      <td>3</td>\n",
       "      <td>0.900000</td>\n",
       "      <td>0.895292</td>\n",
       "      <td>0.900000</td>\n",
       "      <td>0.891905</td>\n",
       "      <td>0.896799</td>\n",
       "    </tr>\n",
       "    <tr>\n",
       "      <th>3</th>\n",
       "      <td>4</td>\n",
       "      <td>0.902564</td>\n",
       "      <td>0.897666</td>\n",
       "      <td>0.902564</td>\n",
       "      <td>0.898194</td>\n",
       "      <td>0.900247</td>\n",
       "    </tr>\n",
       "    <tr>\n",
       "      <th>4</th>\n",
       "      <td>5</td>\n",
       "      <td>0.897436</td>\n",
       "      <td>0.891738</td>\n",
       "      <td>0.897436</td>\n",
       "      <td>0.892070</td>\n",
       "      <td>0.894670</td>\n",
       "    </tr>\n",
       "    <tr>\n",
       "      <th>5</th>\n",
       "      <td>6</td>\n",
       "      <td>0.910256</td>\n",
       "      <td>0.908708</td>\n",
       "      <td>0.910256</td>\n",
       "      <td>0.902189</td>\n",
       "      <td>0.907852</td>\n",
       "    </tr>\n",
       "    <tr>\n",
       "      <th>6</th>\n",
       "      <td>7</td>\n",
       "      <td>0.900000</td>\n",
       "      <td>0.894708</td>\n",
       "      <td>0.900000</td>\n",
       "      <td>0.895145</td>\n",
       "      <td>0.897463</td>\n",
       "    </tr>\n",
       "    <tr>\n",
       "      <th>7</th>\n",
       "      <td>8</td>\n",
       "      <td>0.920513</td>\n",
       "      <td>0.917452</td>\n",
       "      <td>0.920513</td>\n",
       "      <td>0.917236</td>\n",
       "      <td>0.918928</td>\n",
       "    </tr>\n",
       "    <tr>\n",
       "      <th>8</th>\n",
       "      <td>9</td>\n",
       "      <td>0.905128</td>\n",
       "      <td>0.900555</td>\n",
       "      <td>0.905128</td>\n",
       "      <td>0.899047</td>\n",
       "      <td>0.902465</td>\n",
       "    </tr>\n",
       "    <tr>\n",
       "      <th>9</th>\n",
       "      <td>10</td>\n",
       "      <td>0.905128</td>\n",
       "      <td>0.902062</td>\n",
       "      <td>0.905128</td>\n",
       "      <td>0.903145</td>\n",
       "      <td>0.903866</td>\n",
       "    </tr>\n",
       "  </tbody>\n",
       "</table>\n",
       "</div>"
      ],
      "text/plain": [
       "   Test  accuracy  precision    recall  f1-score   Average\n",
       "0     1  0.897436   0.891633  0.897436  0.891273  0.894444\n",
       "1     2  0.907692   0.903391  0.907692  0.902145  0.905230\n",
       "2     3  0.900000   0.895292  0.900000  0.891905  0.896799\n",
       "3     4  0.902564   0.897666  0.902564  0.898194  0.900247\n",
       "4     5  0.897436   0.891738  0.897436  0.892070  0.894670\n",
       "5     6  0.910256   0.908708  0.910256  0.902189  0.907852\n",
       "6     7  0.900000   0.894708  0.900000  0.895145  0.897463\n",
       "7     8  0.920513   0.917452  0.920513  0.917236  0.918928\n",
       "8     9  0.905128   0.900555  0.905128  0.899047  0.902465\n",
       "9    10  0.905128   0.902062  0.905128  0.903145  0.903866"
      ]
     },
     "execution_count": 47,
     "metadata": {},
     "output_type": "execute_result"
    }
   ],
   "source": [
    "tester.model_a_res  # RF SMOTE"
   ]
  },
  {
   "cell_type": "code",
   "execution_count": 48,
   "id": "702c1491-09b3-48cb-9978-6b61c7608ed8",
   "metadata": {},
   "outputs": [
    {
     "data": {
      "text/html": [
       "<div>\n",
       "<style scoped>\n",
       "    .dataframe tbody tr th:only-of-type {\n",
       "        vertical-align: middle;\n",
       "    }\n",
       "\n",
       "    .dataframe tbody tr th {\n",
       "        vertical-align: top;\n",
       "    }\n",
       "\n",
       "    .dataframe thead th {\n",
       "        text-align: right;\n",
       "    }\n",
       "</style>\n",
       "<table border=\"1\" class=\"dataframe\">\n",
       "  <thead>\n",
       "    <tr style=\"text-align: right;\">\n",
       "      <th></th>\n",
       "      <th>Test</th>\n",
       "      <th>accuracy</th>\n",
       "      <th>precision</th>\n",
       "      <th>recall</th>\n",
       "      <th>f1-score</th>\n",
       "      <th>Average</th>\n",
       "    </tr>\n",
       "  </thead>\n",
       "  <tbody>\n",
       "    <tr>\n",
       "      <th>0</th>\n",
       "      <td>1</td>\n",
       "      <td>0.938462</td>\n",
       "      <td>0.936761</td>\n",
       "      <td>0.908795</td>\n",
       "      <td>0.921876</td>\n",
       "      <td>0.926473</td>\n",
       "    </tr>\n",
       "    <tr>\n",
       "      <th>1</th>\n",
       "      <td>2</td>\n",
       "      <td>0.945641</td>\n",
       "      <td>0.946361</td>\n",
       "      <td>0.925446</td>\n",
       "      <td>0.935396</td>\n",
       "      <td>0.938211</td>\n",
       "    </tr>\n",
       "    <tr>\n",
       "      <th>2</th>\n",
       "      <td>3</td>\n",
       "      <td>0.945641</td>\n",
       "      <td>0.952066</td>\n",
       "      <td>0.918750</td>\n",
       "      <td>0.934023</td>\n",
       "      <td>0.937620</td>\n",
       "    </tr>\n",
       "    <tr>\n",
       "      <th>3</th>\n",
       "      <td>4</td>\n",
       "      <td>0.943077</td>\n",
       "      <td>0.944964</td>\n",
       "      <td>0.917188</td>\n",
       "      <td>0.930084</td>\n",
       "      <td>0.933828</td>\n",
       "    </tr>\n",
       "    <tr>\n",
       "      <th>4</th>\n",
       "      <td>5</td>\n",
       "      <td>0.940513</td>\n",
       "      <td>0.941731</td>\n",
       "      <td>0.911161</td>\n",
       "      <td>0.925280</td>\n",
       "      <td>0.929671</td>\n",
       "    </tr>\n",
       "    <tr>\n",
       "      <th>5</th>\n",
       "      <td>6</td>\n",
       "      <td>0.944103</td>\n",
       "      <td>0.948341</td>\n",
       "      <td>0.916696</td>\n",
       "      <td>0.931434</td>\n",
       "      <td>0.935144</td>\n",
       "    </tr>\n",
       "    <tr>\n",
       "      <th>6</th>\n",
       "      <td>7</td>\n",
       "      <td>0.942051</td>\n",
       "      <td>0.944117</td>\n",
       "      <td>0.914330</td>\n",
       "      <td>0.928092</td>\n",
       "      <td>0.932148</td>\n",
       "    </tr>\n",
       "    <tr>\n",
       "      <th>7</th>\n",
       "      <td>8</td>\n",
       "      <td>0.946154</td>\n",
       "      <td>0.955011</td>\n",
       "      <td>0.916830</td>\n",
       "      <td>0.934364</td>\n",
       "      <td>0.938090</td>\n",
       "    </tr>\n",
       "    <tr>\n",
       "      <th>8</th>\n",
       "      <td>9</td>\n",
       "      <td>0.939487</td>\n",
       "      <td>0.941610</td>\n",
       "      <td>0.907188</td>\n",
       "      <td>0.922934</td>\n",
       "      <td>0.927805</td>\n",
       "    </tr>\n",
       "    <tr>\n",
       "      <th>9</th>\n",
       "      <td>10</td>\n",
       "      <td>0.940000</td>\n",
       "      <td>0.943509</td>\n",
       "      <td>0.906384</td>\n",
       "      <td>0.923380</td>\n",
       "      <td>0.928318</td>\n",
       "    </tr>\n",
       "  </tbody>\n",
       "</table>\n",
       "</div>"
      ],
      "text/plain": [
       "   Test  accuracy  precision    recall  f1-score   Average\n",
       "0     1  0.938462   0.936761  0.908795  0.921876  0.926473\n",
       "1     2  0.945641   0.946361  0.925446  0.935396  0.938211\n",
       "2     3  0.945641   0.952066  0.918750  0.934023  0.937620\n",
       "3     4  0.943077   0.944964  0.917188  0.930084  0.933828\n",
       "4     5  0.940513   0.941731  0.911161  0.925280  0.929671\n",
       "5     6  0.944103   0.948341  0.916696  0.931434  0.935144\n",
       "6     7  0.942051   0.944117  0.914330  0.928092  0.932148\n",
       "7     8  0.946154   0.955011  0.916830  0.934364  0.938090\n",
       "8     9  0.939487   0.941610  0.907188  0.922934  0.927805\n",
       "9    10  0.940000   0.943509  0.906384  0.923380  0.928318"
      ]
     },
     "execution_count": 48,
     "metadata": {},
     "output_type": "execute_result"
    }
   ],
   "source": [
    "tester.model_b_res  # RF-Active SMOTE"
   ]
  },
  {
   "cell_type": "code",
   "execution_count": 49,
   "id": "bbb6a2ca-4d07-451e-9647-e1f53ed1b4e8",
   "metadata": {},
   "outputs": [
    {
     "data": {
      "text/html": [
       "<div>\n",
       "<style scoped>\n",
       "    .dataframe tbody tr th:only-of-type {\n",
       "        vertical-align: middle;\n",
       "    }\n",
       "\n",
       "    .dataframe tbody tr th {\n",
       "        vertical-align: top;\n",
       "    }\n",
       "\n",
       "    .dataframe thead th {\n",
       "        text-align: right;\n",
       "    }\n",
       "</style>\n",
       "<table border=\"1\" class=\"dataframe\">\n",
       "  <thead>\n",
       "    <tr style=\"text-align: right;\">\n",
       "      <th></th>\n",
       "      <th>Metrics</th>\n",
       "      <th>t-value</th>\n",
       "      <th>p-value</th>\n",
       "    </tr>\n",
       "  </thead>\n",
       "  <tbody>\n",
       "    <tr>\n",
       "      <th>0</th>\n",
       "      <td>accuracy</td>\n",
       "      <td>-20.453387</td>\n",
       "      <td>7.450083e-09</td>\n",
       "    </tr>\n",
       "    <tr>\n",
       "      <th>1</th>\n",
       "      <td>precision</td>\n",
       "      <td>-24.528692</td>\n",
       "      <td>1.490798e-09</td>\n",
       "    </tr>\n",
       "    <tr>\n",
       "      <th>2</th>\n",
       "      <td>recall</td>\n",
       "      <td>-3.978319</td>\n",
       "      <td>3.213957e-03</td>\n",
       "    </tr>\n",
       "    <tr>\n",
       "      <th>3</th>\n",
       "      <td>f1-score</td>\n",
       "      <td>-12.802229</td>\n",
       "      <td>4.428824e-07</td>\n",
       "    </tr>\n",
       "  </tbody>\n",
       "</table>\n",
       "</div>"
      ],
      "text/plain": [
       "     Metrics    t-value       p-value\n",
       "0   accuracy -20.453387  7.450083e-09\n",
       "1  precision -24.528692  1.490798e-09\n",
       "2     recall  -3.978319  3.213957e-03\n",
       "3   f1-score -12.802229  4.428824e-07"
      ]
     },
     "execution_count": 49,
     "metadata": {},
     "output_type": "execute_result"
    }
   ],
   "source": [
    "tester.compare_res"
   ]
  },
  {
   "cell_type": "markdown",
   "id": "4676659d-76a1-4497-b6b6-f9f8f81b7651",
   "metadata": {},
   "source": [
    "### Confusion Matrix for RF + Active SMOTE"
   ]
  },
  {
   "cell_type": "code",
   "execution_count": 50,
   "id": "98fdafaf-e997-49ec-b81a-99288826ee4b",
   "metadata": {},
   "outputs": [],
   "source": [
    "y_rf_asmote_pred = rf_active_smote.classifier.predict(X_test)\n",
    "cm_rf_asmote = confusion_matrix(y_test, y_rf_asmote_pred)"
   ]
  },
  {
   "cell_type": "code",
   "execution_count": 51,
   "id": "ab79828b-cc48-4cd8-9e5b-4923bd6b040c",
   "metadata": {},
   "outputs": [],
   "source": [
    "cm_rf_asmote_disp = ConfusionMatrixDisplay(\n",
    "    confusion_matrix=cm_rf_asmote, display_labels=rf_active_smote.classifier.classes_\n",
    ")"
   ]
  },
  {
   "cell_type": "code",
   "execution_count": 52,
   "id": "8c74aed1-f4eb-4a65-b8c3-a92c4a251088",
   "metadata": {},
   "outputs": [
    {
     "data": {
      "text/plain": [
       "<sklearn.metrics._plot.confusion_matrix.ConfusionMatrixDisplay at 0x7fc9bc00c140>"
      ]
     },
     "execution_count": 52,
     "metadata": {},
     "output_type": "execute_result"
    },
    {
     "data": {
      "image/png": "[encoded data removed]",
      "text/plain": [
       "<Figure size 640x480 with 2 Axes>"
      ]
     },
     "metadata": {},
     "output_type": "display_data"
    }
   ],
   "source": [
    "cm_rf_asmote_disp.plot()"
   ]
  },
  {
   "cell_type": "markdown",
   "id": "f7ea9530-0d0f-47e0-8da4-937cd6366a51",
   "metadata": {},
   "source": [
    "### Confusion Matrix for RF + SMOTE"
   ]
  },
  {
   "cell_type": "code",
   "execution_count": 53,
   "id": "63a19daa-fad1-47be-9f0e-65dedf6ab2bd",
   "metadata": {},
   "outputs": [],
   "source": [
    "y_rfsmote_pred = rf_smote.classifier.predict(X_test)\n",
    "cm_rfsmote = confusion_matrix(y_test, y_rfsmote_pred)"
   ]
  },
  {
   "cell_type": "code",
   "execution_count": 54,
   "id": "145dfcde-615e-45a3-a15a-cc18563779ff",
   "metadata": {},
   "outputs": [],
   "source": [
    "cm_rfsmote_disp = ConfusionMatrixDisplay(\n",
    "    confusion_matrix=cm_rfsmote, display_labels=rf_smote.classifier.classes_\n",
    ")"
   ]
  },
  {
   "cell_type": "code",
   "execution_count": 55,
   "id": "6740ebfc-2c6a-4b8a-b91e-72d157d060a5",
   "metadata": {},
   "outputs": [
    {
     "data": {
      "text/plain": [
       "<sklearn.metrics._plot.confusion_matrix.ConfusionMatrixDisplay at 0x7fc9bc0c1c70>"
      ]
     },
     "execution_count": 55,
     "metadata": {},
     "output_type": "execute_result"
    },
    {
     "data": {
      "image/png": "[encoded data removed]",
      "text/plain": [
       "<Figure size 640x480 with 2 Axes>"
      ]
     },
     "metadata": {},
     "output_type": "display_data"
    }
   ],
   "source": [
    "cm_rfsmote_disp.plot()"
   ]
  },
  {
   "cell_type": "markdown",
   "id": "97b4bf22-c862-4876-a329-3a7c7eaa005f",
   "metadata": {},
   "source": [
    "## Feature importance"
   ]
  },
  {
   "cell_type": "markdown",
   "id": "9843bf12-f686-4cce-9b75-a560d87bd51f",
   "metadata": {},
   "source": [
    "For RF-ActiveSMOTE:"
   ]
  },
  {
   "cell_type": "code",
   "execution_count": 56,
   "id": "83dc0931-f338-459e-bf7a-894fdcb5a93f",
   "metadata": {},
   "outputs": [],
   "source": [
    "feature_names = [\n",
    "    \"age\",\n",
    "    \"sex\",\n",
    "    \"fatigue\",\n",
    "    \"cough_phlegm\",\n",
    "    \"chronic_resp_disease\",\n",
    "    \"chronic_kidney_disease\",\n",
    "    \"heart_failure\",\n",
    "    \"cancer\",\n",
    "    \"systoic_bp\",\n",
    "    \"dias_bp\",\n",
    "    \"pulse_rate\",\n",
    "    \"resp_rate\",\n",
    "    \"diabetes_mellitus\",\n",
    "    \"hemoglobin\",\n",
    "    \"platelets\",\n",
    "    \"cough\",\n",
    "    \"temp\",\n",
    "    \"hematocrit\",\n",
    "    \"rbc\",\n",
    "    \"wbc\",\n",
    "]"
   ]
  },
  {
   "cell_type": "code",
   "execution_count": 57,
   "id": "063435c3-36c3-442b-913a-b084deb11a8f",
   "metadata": {},
   "outputs": [
    {
     "name": "stdout",
     "output_type": "stream",
     "text": [
      "Elapsed time to compute the importances: 0.102 seconds\n"
     ]
    }
   ],
   "source": [
    "start_time = time.time()\n",
    "importances = rf_active_smote.classifier.feature_importances_\n",
    "rf_active_smote_std = np.std(\n",
    "    [tree.feature_importances_ for tree in rf_active_smote.classifier.estimators_],\n",
    "    axis=0,\n",
    ")\n",
    "elapsed_time = time.time() - start_time\n",
    "\n",
    "print(f\"Elapsed time to compute the importances: {elapsed_time:.3f} seconds\")"
   ]
  },
  {
   "cell_type": "code",
   "execution_count": 58,
   "id": "8d2faa17-ed4b-4b8e-b250-08fd377386fe",
   "metadata": {},
   "outputs": [
    {
     "data": {
      "image/png": "[encoded data removed]",
      "text/plain": [
       "<Figure size 640x480 with 1 Axes>"
      ]
     },
     "metadata": {},
     "output_type": "display_data"
    }
   ],
   "source": [
    "rf_active_smote_importances = pd.Series(importances, index=feature_names).sort_values(\n",
    "    ascending=False\n",
    ")\n",
    "\n",
    "fig, ax = plt.subplots()\n",
    "rf_active_smote_importances.plot.bar(yerr=rf_active_smote_std, ax=ax)\n",
    "ax.set_title(\"RfActiveSMOTE feature importances using MDI\")\n",
    "ax.set_ylabel(\"Mean decrease in impurity\")\n",
    "fig.tight_layout()"
   ]
  },
  {
   "cell_type": "code",
   "execution_count": 59,
   "id": "d2e7f411-8e1e-47ed-8f3f-2c2866c3aa57",
   "metadata": {},
   "outputs": [
    {
     "data": {
      "text/plain": [
       "cough                     0.356169\n",
       "cough_phlegm              0.155754\n",
       "resp_rate                 0.071608\n",
       "fatigue                   0.062251\n",
       "age                       0.049677\n",
       "pulse_rate                0.045247\n",
       "chronic_resp_disease      0.037801\n",
       "platelets                 0.028438\n",
       "wbc                       0.027622\n",
       "hemoglobin                0.021770\n",
       "temp                      0.021318\n",
       "rbc                       0.020578\n",
       "sex                       0.019772\n",
       "dias_bp                   0.019501\n",
       "diabetes_mellitus         0.019216\n",
       "systoic_bp                0.018650\n",
       "hematocrit                0.018293\n",
       "heart_failure             0.004266\n",
       "chronic_kidney_disease    0.001979\n",
       "cancer                    0.000091\n",
       "dtype: float64"
      ]
     },
     "execution_count": 59,
     "metadata": {},
     "output_type": "execute_result"
    }
   ],
   "source": [
    "pd.Series(importances, index=feature_names).sort_values(ascending=False)"
   ]
  },
  {
   "cell_type": "markdown",
   "id": "a73847bc-f909-4398-9b60-97ce79389281",
   "metadata": {},
   "source": [
    "For RF + SMOTE"
   ]
  },
  {
   "cell_type": "code",
   "execution_count": 60,
   "id": "8df9b07c-271b-442c-86bc-268c9ddf8b93",
   "metadata": {},
   "outputs": [
    {
     "name": "stdout",
     "output_type": "stream",
     "text": [
      "Elapsed time to compute the importances: 0.003 seconds\n"
     ]
    }
   ],
   "source": [
    "start_time = time.time()\n",
    "importances = rf_smote.classifier.feature_importances_\n",
    "rf_smote_std = np.std(\n",
    "    [tree.feature_importances_ for tree in rf_smote.classifier.estimators_], axis=0\n",
    ")\n",
    "elapsed_time = time.time() - start_time\n",
    "\n",
    "print(f\"Elapsed time to compute the importances: {elapsed_time:.3f} seconds\")"
   ]
  },
  {
   "cell_type": "code",
   "execution_count": 61,
   "id": "eb193bf3-6583-46fe-8479-cb8c77cbc6b7",
   "metadata": {},
   "outputs": [
    {
     "data": {
      "image/png": "[encoded data removed]",
      "text/plain": [
       "<Figure size 640x480 with 1 Axes>"
      ]
     },
     "metadata": {},
     "output_type": "display_data"
    }
   ],
   "source": [
    "rf_smote_importances = pd.Series(importances, index=feature_names).sort_values(\n",
    "    ascending=False\n",
    ")\n",
    "\n",
    "fig, ax = plt.subplots()\n",
    "rf_smote_importances.plot.bar(yerr=rf_smote_std, ax=ax)\n",
    "ax.set_title(\"RfSMOTE feature importances using MDI\")\n",
    "ax.set_ylabel(\"Mean decrease in impurity\")\n",
    "fig.tight_layout()"
   ]
  },
  {
   "cell_type": "code",
   "execution_count": 62,
   "id": "57f98d47-6889-41d4-9dad-a9f4daf798a3",
   "metadata": {},
   "outputs": [
    {
     "data": {
      "text/plain": [
       "cough                     0.271378\n",
       "fatigue                   0.100717\n",
       "resp_rate                 0.080542\n",
       "chronic_resp_disease      0.080441\n",
       "age                       0.067095\n",
       "systoic_bp                0.066639\n",
       "platelets                 0.065418\n",
       "pulse_rate                0.058202\n",
       "temp                      0.043618\n",
       "rbc                       0.035251\n",
       "wbc                       0.032202\n",
       "dias_bp                   0.027162\n",
       "sex                       0.026555\n",
       "hemoglobin                0.021202\n",
       "cough_phlegm              0.010549\n",
       "hematocrit                0.009035\n",
       "heart_failure             0.002442\n",
       "diabetes_mellitus         0.000805\n",
       "chronic_kidney_disease    0.000746\n",
       "cancer                    0.000000\n",
       "dtype: float64"
      ]
     },
     "execution_count": 62,
     "metadata": {},
     "output_type": "execute_result"
    }
   ],
   "source": [
    "pd.Series(importances, index=feature_names).sort_values(ascending=False)"
   ]
  },
  {
   "cell_type": "code",
   "execution_count": 63,
   "id": "f9d3b1e7-40dd-4acf-91dd-ace1bc5a4c06",
   "metadata": {},
   "outputs": [],
   "source": [
    "# rf_active_smote.save(\"pneumonia_predictor\")"
   ]
  },
  {
   "cell_type": "code",
   "execution_count": 64,
   "id": "89f2e49f-53dd-46f5-9abf-46e1bfdc2eea",
   "metadata": {},
   "outputs": [],
   "source": [
    "# rf_smote.save(\"pneumonia_predictor_rfsmote\")"
   ]
  }
 ],
 "metadata": {
  "kernelspec": {
   "display_name": "Python 3 (ipykernel)",
   "language": "python",
   "name": "python3"
  },
  "language_info": {
   "codemirror_mode": {
    "name": "ipython",
    "version": 3
   },
   "file_extension": ".py",
   "mimetype": "text/x-python",
   "name": "python",
   "nbconvert_exporter": "python",
   "pygments_lexer": "ipython3",
   "version": "3.12.2"
  }
 },
 "nbformat": 4,
 "nbformat_minor": 5
}
